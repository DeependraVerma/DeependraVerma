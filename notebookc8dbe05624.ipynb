{
 "cells": [
  {
   "cell_type": "code",
   "execution_count": 1,
   "id": "46ab35b4",
   "metadata": {
    "_cell_guid": "b1076dfc-b9ad-4769-8c92-a6c4dae69d19",
    "_uuid": "8f2839f25d086af736a60e9eeb907d3b93b6e0e5",
    "execution": {
     "iopub.execute_input": "2023-06-20T03:13:57.981289Z",
     "iopub.status.busy": "2023-06-20T03:13:57.980127Z",
     "iopub.status.idle": "2023-06-20T03:13:57.994991Z",
     "shell.execute_reply": "2023-06-20T03:13:57.993885Z"
    },
    "papermill": {
     "duration": 0.028951,
     "end_time": "2023-06-20T03:13:57.998024",
     "exception": false,
     "start_time": "2023-06-20T03:13:57.969073",
     "status": "completed"
    },
    "tags": []
   },
   "outputs": [
    {
     "name": "stdout",
     "output_type": "stream",
     "text": [
      "/kaggle/input/titanic/train.csv\n",
      "/kaggle/input/titanic/test.csv\n",
      "/kaggle/input/titanic/gender_submission.csv\n"
     ]
    }
   ],
   "source": [
    "# This Python 3 environment comes with many helpful analytics libraries installed\n",
    "# It is defined by the kaggle/python Docker image: https://github.com/kaggle/docker-python\n",
    "# For example, here's several helpful packages to load\n",
    "\n",
    "import numpy as np # linear algebra\n",
    "import pandas as pd # data processing, CSV file I/O (e.g. pd.read_csv)\n",
    "\n",
    "# Input data files are available in the read-only \"../input/\" directory\n",
    "# For example, running this (by clicking run or pressing Shift+Enter) will list all files under the input directory\n",
    "\n",
    "import os\n",
    "for dirname, _, filenames in os.walk('/kaggle/input'):\n",
    "    for filename in filenames:\n",
    "        print(os.path.join(dirname, filename))\n",
    "\n",
    "# You can write up to 20GB to the current directory (/kaggle/working/) that gets preserved as output when you create a version using \"Save & Run All\" \n",
    "# You can also write temporary files to /kaggle/temp/, but they won't be saved outside of the current session"
   ]
  },
  {
   "cell_type": "code",
   "execution_count": 2,
   "id": "2800f27b",
   "metadata": {
    "execution": {
     "iopub.execute_input": "2023-06-20T03:13:58.014614Z",
     "iopub.status.busy": "2023-06-20T03:13:58.014242Z",
     "iopub.status.idle": "2023-06-20T03:13:58.037863Z",
     "shell.execute_reply": "2023-06-20T03:13:58.036486Z"
    },
    "papermill": {
     "duration": 0.034771,
     "end_time": "2023-06-20T03:13:58.040435",
     "exception": false,
     "start_time": "2023-06-20T03:13:58.005664",
     "status": "completed"
    },
    "tags": []
   },
   "outputs": [],
   "source": [
    "train_data = pd.read_csv(\"/kaggle/input/titanic/train.csv\")"
   ]
  },
  {
   "cell_type": "code",
   "execution_count": 3,
   "id": "947119ff",
   "metadata": {
    "execution": {
     "iopub.execute_input": "2023-06-20T03:13:58.056615Z",
     "iopub.status.busy": "2023-06-20T03:13:58.055882Z",
     "iopub.status.idle": "2023-06-20T03:13:58.087928Z",
     "shell.execute_reply": "2023-06-20T03:13:58.086799Z"
    },
    "papermill": {
     "duration": 0.042778,
     "end_time": "2023-06-20T03:13:58.090379",
     "exception": false,
     "start_time": "2023-06-20T03:13:58.047601",
     "status": "completed"
    },
    "tags": []
   },
   "outputs": [
    {
     "data": {
      "text/html": [
       "<div>\n",
       "<style scoped>\n",
       "    .dataframe tbody tr th:only-of-type {\n",
       "        vertical-align: middle;\n",
       "    }\n",
       "\n",
       "    .dataframe tbody tr th {\n",
       "        vertical-align: top;\n",
       "    }\n",
       "\n",
       "    .dataframe thead th {\n",
       "        text-align: right;\n",
       "    }\n",
       "</style>\n",
       "<table border=\"1\" class=\"dataframe\">\n",
       "  <thead>\n",
       "    <tr style=\"text-align: right;\">\n",
       "      <th></th>\n",
       "      <th>PassengerId</th>\n",
       "      <th>Survived</th>\n",
       "      <th>Pclass</th>\n",
       "      <th>Name</th>\n",
       "      <th>Sex</th>\n",
       "      <th>Age</th>\n",
       "      <th>SibSp</th>\n",
       "      <th>Parch</th>\n",
       "      <th>Ticket</th>\n",
       "      <th>Fare</th>\n",
       "      <th>Cabin</th>\n",
       "      <th>Embarked</th>\n",
       "    </tr>\n",
       "  </thead>\n",
       "  <tbody>\n",
       "    <tr>\n",
       "      <th>0</th>\n",
       "      <td>1</td>\n",
       "      <td>0</td>\n",
       "      <td>3</td>\n",
       "      <td>Braund, Mr. Owen Harris</td>\n",
       "      <td>male</td>\n",
       "      <td>22.0</td>\n",
       "      <td>1</td>\n",
       "      <td>0</td>\n",
       "      <td>A/5 21171</td>\n",
       "      <td>7.2500</td>\n",
       "      <td>NaN</td>\n",
       "      <td>S</td>\n",
       "    </tr>\n",
       "    <tr>\n",
       "      <th>1</th>\n",
       "      <td>2</td>\n",
       "      <td>1</td>\n",
       "      <td>1</td>\n",
       "      <td>Cumings, Mrs. John Bradley (Florence Briggs Th...</td>\n",
       "      <td>female</td>\n",
       "      <td>38.0</td>\n",
       "      <td>1</td>\n",
       "      <td>0</td>\n",
       "      <td>PC 17599</td>\n",
       "      <td>71.2833</td>\n",
       "      <td>C85</td>\n",
       "      <td>C</td>\n",
       "    </tr>\n",
       "    <tr>\n",
       "      <th>2</th>\n",
       "      <td>3</td>\n",
       "      <td>1</td>\n",
       "      <td>3</td>\n",
       "      <td>Heikkinen, Miss. Laina</td>\n",
       "      <td>female</td>\n",
       "      <td>26.0</td>\n",
       "      <td>0</td>\n",
       "      <td>0</td>\n",
       "      <td>STON/O2. 3101282</td>\n",
       "      <td>7.9250</td>\n",
       "      <td>NaN</td>\n",
       "      <td>S</td>\n",
       "    </tr>\n",
       "    <tr>\n",
       "      <th>3</th>\n",
       "      <td>4</td>\n",
       "      <td>1</td>\n",
       "      <td>1</td>\n",
       "      <td>Futrelle, Mrs. Jacques Heath (Lily May Peel)</td>\n",
       "      <td>female</td>\n",
       "      <td>35.0</td>\n",
       "      <td>1</td>\n",
       "      <td>0</td>\n",
       "      <td>113803</td>\n",
       "      <td>53.1000</td>\n",
       "      <td>C123</td>\n",
       "      <td>S</td>\n",
       "    </tr>\n",
       "    <tr>\n",
       "      <th>4</th>\n",
       "      <td>5</td>\n",
       "      <td>0</td>\n",
       "      <td>3</td>\n",
       "      <td>Allen, Mr. William Henry</td>\n",
       "      <td>male</td>\n",
       "      <td>35.0</td>\n",
       "      <td>0</td>\n",
       "      <td>0</td>\n",
       "      <td>373450</td>\n",
       "      <td>8.0500</td>\n",
       "      <td>NaN</td>\n",
       "      <td>S</td>\n",
       "    </tr>\n",
       "  </tbody>\n",
       "</table>\n",
       "</div>"
      ],
      "text/plain": [
       "   PassengerId  Survived  Pclass  \\\n",
       "0            1         0       3   \n",
       "1            2         1       1   \n",
       "2            3         1       3   \n",
       "3            4         1       1   \n",
       "4            5         0       3   \n",
       "\n",
       "                                                Name     Sex   Age  SibSp  \\\n",
       "0                            Braund, Mr. Owen Harris    male  22.0      1   \n",
       "1  Cumings, Mrs. John Bradley (Florence Briggs Th...  female  38.0      1   \n",
       "2                             Heikkinen, Miss. Laina  female  26.0      0   \n",
       "3       Futrelle, Mrs. Jacques Heath (Lily May Peel)  female  35.0      1   \n",
       "4                           Allen, Mr. William Henry    male  35.0      0   \n",
       "\n",
       "   Parch            Ticket     Fare Cabin Embarked  \n",
       "0      0         A/5 21171   7.2500   NaN        S  \n",
       "1      0          PC 17599  71.2833   C85        C  \n",
       "2      0  STON/O2. 3101282   7.9250   NaN        S  \n",
       "3      0            113803  53.1000  C123        S  \n",
       "4      0            373450   8.0500   NaN        S  "
      ]
     },
     "execution_count": 3,
     "metadata": {},
     "output_type": "execute_result"
    }
   ],
   "source": [
    "train_data.head()"
   ]
  },
  {
   "cell_type": "code",
   "execution_count": 4,
   "id": "3c060ae3",
   "metadata": {
    "execution": {
     "iopub.execute_input": "2023-06-20T03:13:58.106560Z",
     "iopub.status.busy": "2023-06-20T03:13:58.106152Z",
     "iopub.status.idle": "2023-06-20T03:13:58.117046Z",
     "shell.execute_reply": "2023-06-20T03:13:58.116060Z"
    },
    "papermill": {
     "duration": 0.021598,
     "end_time": "2023-06-20T03:13:58.119427",
     "exception": false,
     "start_time": "2023-06-20T03:13:58.097829",
     "status": "completed"
    },
    "tags": []
   },
   "outputs": [],
   "source": [
    "test_data = pd.read_csv(\"/kaggle/input/titanic/test.csv\")"
   ]
  },
  {
   "cell_type": "code",
   "execution_count": 5,
   "id": "51cc36fb",
   "metadata": {
    "execution": {
     "iopub.execute_input": "2023-06-20T03:13:58.136579Z",
     "iopub.status.busy": "2023-06-20T03:13:58.136190Z",
     "iopub.status.idle": "2023-06-20T03:13:58.149347Z",
     "shell.execute_reply": "2023-06-20T03:13:58.148241Z"
    },
    "papermill": {
     "duration": 0.023914,
     "end_time": "2023-06-20T03:13:58.151403",
     "exception": false,
     "start_time": "2023-06-20T03:13:58.127489",
     "status": "completed"
    },
    "tags": []
   },
   "outputs": [
    {
     "name": "stdout",
     "output_type": "stream",
     "text": [
      "% of women who survived: 0.7420382165605095\n"
     ]
    }
   ],
   "source": [
    "women = train_data.loc[train_data.Sex == 'female'][\"Survived\"]\n",
    "rate_women = sum(women)/len(women)\n",
    "\n",
    "print(\"% of women who survived:\", rate_women)"
   ]
  },
  {
   "cell_type": "code",
   "execution_count": 6,
   "id": "f58d0dbd",
   "metadata": {
    "execution": {
     "iopub.execute_input": "2023-06-20T03:13:58.167824Z",
     "iopub.status.busy": "2023-06-20T03:13:58.167453Z",
     "iopub.status.idle": "2023-06-20T03:13:58.173769Z",
     "shell.execute_reply": "2023-06-20T03:13:58.173055Z"
    },
    "papermill": {
     "duration": 0.016969,
     "end_time": "2023-06-20T03:13:58.175665",
     "exception": false,
     "start_time": "2023-06-20T03:13:58.158696",
     "status": "completed"
    },
    "tags": []
   },
   "outputs": [
    {
     "name": "stdout",
     "output_type": "stream",
     "text": [
      "% of men who survived: 0.18890814558058924\n"
     ]
    }
   ],
   "source": [
    "men = train_data.loc[train_data.Sex == 'male'][\"Survived\"]\n",
    "rate_men = sum(men)/len(men)\n",
    "\n",
    "print(\"% of men who survived:\", rate_men)"
   ]
  },
  {
   "cell_type": "code",
   "execution_count": 7,
   "id": "9de17c50",
   "metadata": {
    "execution": {
     "iopub.execute_input": "2023-06-20T03:13:58.192644Z",
     "iopub.status.busy": "2023-06-20T03:13:58.192193Z",
     "iopub.status.idle": "2023-06-20T03:13:58.197744Z",
     "shell.execute_reply": "2023-06-20T03:13:58.196678Z"
    },
    "papermill": {
     "duration": 0.016768,
     "end_time": "2023-06-20T03:13:58.200031",
     "exception": false,
     "start_time": "2023-06-20T03:13:58.183263",
     "status": "completed"
    },
    "tags": []
   },
   "outputs": [
    {
     "name": "stdout",
     "output_type": "stream",
     "text": [
      "% of women who survived: 0.7420382165605095\n",
      "% of men who survived: 0.18890814558058924\n"
     ]
    }
   ],
   "source": [
    "print(\"% of women who survived:\", rate_women)\n",
    "print(\"% of men who survived:\", rate_men)"
   ]
  },
  {
   "cell_type": "code",
   "execution_count": 8,
   "id": "fde4e217",
   "metadata": {
    "execution": {
     "iopub.execute_input": "2023-06-20T03:13:58.217395Z",
     "iopub.status.busy": "2023-06-20T03:13:58.216753Z",
     "iopub.status.idle": "2023-06-20T03:14:00.014041Z",
     "shell.execute_reply": "2023-06-20T03:14:00.012706Z"
    },
    "papermill": {
     "duration": 1.808895,
     "end_time": "2023-06-20T03:14:00.016495",
     "exception": false,
     "start_time": "2023-06-20T03:13:58.207600",
     "status": "completed"
    },
    "tags": []
   },
   "outputs": [],
   "source": [
    "from sklearn.impute import SimpleImputer\n",
    "from sklearn.compose import ColumnTransformer\n",
    "from sklearn.preprocessing import OrdinalEncoder, OneHotEncoder\n",
    "from sklearn.pipeline import Pipeline,make_pipeline\n",
    "from sklearn.ensemble import RandomForestClassifier\n",
    "from sklearn.feature_selection import SelectKBest,chi2"
   ]
  },
  {
   "cell_type": "code",
   "execution_count": 9,
   "id": "c439106e",
   "metadata": {
    "execution": {
     "iopub.execute_input": "2023-06-20T03:14:00.034228Z",
     "iopub.status.busy": "2023-06-20T03:14:00.033031Z",
     "iopub.status.idle": "2023-06-20T03:14:00.045275Z",
     "shell.execute_reply": "2023-06-20T03:14:00.044148Z"
    },
    "papermill": {
     "duration": 0.023494,
     "end_time": "2023-06-20T03:14:00.047566",
     "exception": false,
     "start_time": "2023-06-20T03:14:00.024072",
     "status": "completed"
    },
    "tags": []
   },
   "outputs": [
    {
     "data": {
      "text/plain": [
       "PassengerId     0.000000\n",
       "Survived        0.000000\n",
       "Pclass          0.000000\n",
       "Name            0.000000\n",
       "Sex             0.000000\n",
       "Age            19.865320\n",
       "SibSp           0.000000\n",
       "Parch           0.000000\n",
       "Ticket          0.000000\n",
       "Fare            0.000000\n",
       "Cabin          77.104377\n",
       "Embarked        0.224467\n",
       "dtype: float64"
      ]
     },
     "execution_count": 9,
     "metadata": {},
     "output_type": "execute_result"
    }
   ],
   "source": [
    "train_data.isnull().mean()*100"
   ]
  },
  {
   "cell_type": "code",
   "execution_count": 10,
   "id": "a4777207",
   "metadata": {
    "execution": {
     "iopub.execute_input": "2023-06-20T03:14:00.065429Z",
     "iopub.status.busy": "2023-06-20T03:14:00.064164Z",
     "iopub.status.idle": "2023-06-20T03:14:00.074459Z",
     "shell.execute_reply": "2023-06-20T03:14:00.073298Z"
    },
    "papermill": {
     "duration": 0.021599,
     "end_time": "2023-06-20T03:14:00.076732",
     "exception": false,
     "start_time": "2023-06-20T03:14:00.055133",
     "status": "completed"
    },
    "tags": []
   },
   "outputs": [
    {
     "data": {
      "text/plain": [
       "PassengerId     0.000000\n",
       "Pclass          0.000000\n",
       "Name            0.000000\n",
       "Sex             0.000000\n",
       "Age            20.574163\n",
       "SibSp           0.000000\n",
       "Parch           0.000000\n",
       "Ticket          0.000000\n",
       "Fare            0.239234\n",
       "Cabin          78.229665\n",
       "Embarked        0.000000\n",
       "dtype: float64"
      ]
     },
     "execution_count": 10,
     "metadata": {},
     "output_type": "execute_result"
    }
   ],
   "source": [
    "test_data.isnull().mean()*100"
   ]
  },
  {
   "cell_type": "code",
   "execution_count": 11,
   "id": "58168afc",
   "metadata": {
    "execution": {
     "iopub.execute_input": "2023-06-20T03:14:00.094763Z",
     "iopub.status.busy": "2023-06-20T03:14:00.093669Z",
     "iopub.status.idle": "2023-06-20T03:14:00.104224Z",
     "shell.execute_reply": "2023-06-20T03:14:00.103324Z"
    },
    "papermill": {
     "duration": 0.022187,
     "end_time": "2023-06-20T03:14:00.106784",
     "exception": false,
     "start_time": "2023-06-20T03:14:00.084597",
     "status": "completed"
    },
    "tags": []
   },
   "outputs": [],
   "source": [
    "train_data.drop(\"Cabin\", axis = 1, inplace=True)\n",
    "test_data.drop(\"Cabin\", axis = 1, inplace=True)"
   ]
  },
  {
   "cell_type": "code",
   "execution_count": 12,
   "id": "5a67df17",
   "metadata": {
    "execution": {
     "iopub.execute_input": "2023-06-20T03:14:00.125149Z",
     "iopub.status.busy": "2023-06-20T03:14:00.124377Z",
     "iopub.status.idle": "2023-06-20T03:14:00.129627Z",
     "shell.execute_reply": "2023-06-20T03:14:00.128713Z"
    },
    "papermill": {
     "duration": 0.016911,
     "end_time": "2023-06-20T03:14:00.131877",
     "exception": false,
     "start_time": "2023-06-20T03:14:00.114966",
     "status": "completed"
    },
    "tags": []
   },
   "outputs": [],
   "source": [
    "si = SimpleImputer()\n",
    "oe = OrdinalEncoder(handle_unknown=\"ignore\")\n",
    "ohe = OneHotEncoder(handle_unknown=\"ignore\", sparse=False)"
   ]
  },
  {
   "cell_type": "code",
   "execution_count": 13,
   "id": "a12356e0",
   "metadata": {
    "execution": {
     "iopub.execute_input": "2023-06-20T03:14:00.149403Z",
     "iopub.status.busy": "2023-06-20T03:14:00.148643Z",
     "iopub.status.idle": "2023-06-20T03:14:00.155578Z",
     "shell.execute_reply": "2023-06-20T03:14:00.154809Z"
    },
    "papermill": {
     "duration": 0.018213,
     "end_time": "2023-06-20T03:14:00.157798",
     "exception": false,
     "start_time": "2023-06-20T03:14:00.139585",
     "status": "completed"
    },
    "tags": []
   },
   "outputs": [],
   "source": [
    "train_data[\"family\"] = train_data[\"SibSp\"]+train_data[\"Parch\"]+1\n",
    "test_data[\"family\"] = test_data[\"SibSp\"]+test_data[\"Parch\"]+1\n"
   ]
  },
  {
   "cell_type": "code",
   "execution_count": 14,
   "id": "71028396",
   "metadata": {
    "execution": {
     "iopub.execute_input": "2023-06-20T03:14:00.175737Z",
     "iopub.status.busy": "2023-06-20T03:14:00.174847Z",
     "iopub.status.idle": "2023-06-20T03:14:00.191160Z",
     "shell.execute_reply": "2023-06-20T03:14:00.190052Z"
    },
    "papermill": {
     "duration": 0.027786,
     "end_time": "2023-06-20T03:14:00.193435",
     "exception": false,
     "start_time": "2023-06-20T03:14:00.165649",
     "status": "completed"
    },
    "tags": []
   },
   "outputs": [
    {
     "data": {
      "text/html": [
       "<div>\n",
       "<style scoped>\n",
       "    .dataframe tbody tr th:only-of-type {\n",
       "        vertical-align: middle;\n",
       "    }\n",
       "\n",
       "    .dataframe tbody tr th {\n",
       "        vertical-align: top;\n",
       "    }\n",
       "\n",
       "    .dataframe thead th {\n",
       "        text-align: right;\n",
       "    }\n",
       "</style>\n",
       "<table border=\"1\" class=\"dataframe\">\n",
       "  <thead>\n",
       "    <tr style=\"text-align: right;\">\n",
       "      <th></th>\n",
       "      <th>PassengerId</th>\n",
       "      <th>Survived</th>\n",
       "      <th>Pclass</th>\n",
       "      <th>Name</th>\n",
       "      <th>Sex</th>\n",
       "      <th>Age</th>\n",
       "      <th>SibSp</th>\n",
       "      <th>Parch</th>\n",
       "      <th>Ticket</th>\n",
       "      <th>Fare</th>\n",
       "      <th>Embarked</th>\n",
       "      <th>family</th>\n",
       "    </tr>\n",
       "  </thead>\n",
       "  <tbody>\n",
       "    <tr>\n",
       "      <th>0</th>\n",
       "      <td>1</td>\n",
       "      <td>0</td>\n",
       "      <td>3</td>\n",
       "      <td>Braund, Mr. Owen Harris</td>\n",
       "      <td>male</td>\n",
       "      <td>22.0</td>\n",
       "      <td>1</td>\n",
       "      <td>0</td>\n",
       "      <td>A/5 21171</td>\n",
       "      <td>7.2500</td>\n",
       "      <td>S</td>\n",
       "      <td>2</td>\n",
       "    </tr>\n",
       "    <tr>\n",
       "      <th>1</th>\n",
       "      <td>2</td>\n",
       "      <td>1</td>\n",
       "      <td>1</td>\n",
       "      <td>Cumings, Mrs. John Bradley (Florence Briggs Th...</td>\n",
       "      <td>female</td>\n",
       "      <td>38.0</td>\n",
       "      <td>1</td>\n",
       "      <td>0</td>\n",
       "      <td>PC 17599</td>\n",
       "      <td>71.2833</td>\n",
       "      <td>C</td>\n",
       "      <td>2</td>\n",
       "    </tr>\n",
       "    <tr>\n",
       "      <th>2</th>\n",
       "      <td>3</td>\n",
       "      <td>1</td>\n",
       "      <td>3</td>\n",
       "      <td>Heikkinen, Miss. Laina</td>\n",
       "      <td>female</td>\n",
       "      <td>26.0</td>\n",
       "      <td>0</td>\n",
       "      <td>0</td>\n",
       "      <td>STON/O2. 3101282</td>\n",
       "      <td>7.9250</td>\n",
       "      <td>S</td>\n",
       "      <td>1</td>\n",
       "    </tr>\n",
       "    <tr>\n",
       "      <th>3</th>\n",
       "      <td>4</td>\n",
       "      <td>1</td>\n",
       "      <td>1</td>\n",
       "      <td>Futrelle, Mrs. Jacques Heath (Lily May Peel)</td>\n",
       "      <td>female</td>\n",
       "      <td>35.0</td>\n",
       "      <td>1</td>\n",
       "      <td>0</td>\n",
       "      <td>113803</td>\n",
       "      <td>53.1000</td>\n",
       "      <td>S</td>\n",
       "      <td>2</td>\n",
       "    </tr>\n",
       "    <tr>\n",
       "      <th>4</th>\n",
       "      <td>5</td>\n",
       "      <td>0</td>\n",
       "      <td>3</td>\n",
       "      <td>Allen, Mr. William Henry</td>\n",
       "      <td>male</td>\n",
       "      <td>35.0</td>\n",
       "      <td>0</td>\n",
       "      <td>0</td>\n",
       "      <td>373450</td>\n",
       "      <td>8.0500</td>\n",
       "      <td>S</td>\n",
       "      <td>1</td>\n",
       "    </tr>\n",
       "  </tbody>\n",
       "</table>\n",
       "</div>"
      ],
      "text/plain": [
       "   PassengerId  Survived  Pclass  \\\n",
       "0            1         0       3   \n",
       "1            2         1       1   \n",
       "2            3         1       3   \n",
       "3            4         1       1   \n",
       "4            5         0       3   \n",
       "\n",
       "                                                Name     Sex   Age  SibSp  \\\n",
       "0                            Braund, Mr. Owen Harris    male  22.0      1   \n",
       "1  Cumings, Mrs. John Bradley (Florence Briggs Th...  female  38.0      1   \n",
       "2                             Heikkinen, Miss. Laina  female  26.0      0   \n",
       "3       Futrelle, Mrs. Jacques Heath (Lily May Peel)  female  35.0      1   \n",
       "4                           Allen, Mr. William Henry    male  35.0      0   \n",
       "\n",
       "   Parch            Ticket     Fare Embarked  family  \n",
       "0      0         A/5 21171   7.2500        S       2  \n",
       "1      0          PC 17599  71.2833        C       2  \n",
       "2      0  STON/O2. 3101282   7.9250        S       1  \n",
       "3      0            113803  53.1000        S       2  \n",
       "4      0            373450   8.0500        S       1  "
      ]
     },
     "execution_count": 14,
     "metadata": {},
     "output_type": "execute_result"
    }
   ],
   "source": [
    "train_data.head()"
   ]
  },
  {
   "cell_type": "code",
   "execution_count": 15,
   "id": "9019abbd",
   "metadata": {
    "execution": {
     "iopub.execute_input": "2023-06-20T03:14:00.210902Z",
     "iopub.status.busy": "2023-06-20T03:14:00.210465Z",
     "iopub.status.idle": "2023-06-20T03:14:00.228342Z",
     "shell.execute_reply": "2023-06-20T03:14:00.227546Z"
    },
    "papermill": {
     "duration": 0.029239,
     "end_time": "2023-06-20T03:14:00.230466",
     "exception": false,
     "start_time": "2023-06-20T03:14:00.201227",
     "status": "completed"
    },
    "tags": []
   },
   "outputs": [
    {
     "data": {
      "text/html": [
       "<div>\n",
       "<style scoped>\n",
       "    .dataframe tbody tr th:only-of-type {\n",
       "        vertical-align: middle;\n",
       "    }\n",
       "\n",
       "    .dataframe tbody tr th {\n",
       "        vertical-align: top;\n",
       "    }\n",
       "\n",
       "    .dataframe thead th {\n",
       "        text-align: right;\n",
       "    }\n",
       "</style>\n",
       "<table border=\"1\" class=\"dataframe\">\n",
       "  <thead>\n",
       "    <tr style=\"text-align: right;\">\n",
       "      <th></th>\n",
       "      <th>PassengerId</th>\n",
       "      <th>Pclass</th>\n",
       "      <th>Name</th>\n",
       "      <th>Sex</th>\n",
       "      <th>Age</th>\n",
       "      <th>SibSp</th>\n",
       "      <th>Parch</th>\n",
       "      <th>Ticket</th>\n",
       "      <th>Fare</th>\n",
       "      <th>Embarked</th>\n",
       "      <th>family</th>\n",
       "    </tr>\n",
       "  </thead>\n",
       "  <tbody>\n",
       "    <tr>\n",
       "      <th>0</th>\n",
       "      <td>892</td>\n",
       "      <td>3</td>\n",
       "      <td>Kelly, Mr. James</td>\n",
       "      <td>male</td>\n",
       "      <td>34.5</td>\n",
       "      <td>0</td>\n",
       "      <td>0</td>\n",
       "      <td>330911</td>\n",
       "      <td>7.8292</td>\n",
       "      <td>Q</td>\n",
       "      <td>1</td>\n",
       "    </tr>\n",
       "    <tr>\n",
       "      <th>1</th>\n",
       "      <td>893</td>\n",
       "      <td>3</td>\n",
       "      <td>Wilkes, Mrs. James (Ellen Needs)</td>\n",
       "      <td>female</td>\n",
       "      <td>47.0</td>\n",
       "      <td>1</td>\n",
       "      <td>0</td>\n",
       "      <td>363272</td>\n",
       "      <td>7.0000</td>\n",
       "      <td>S</td>\n",
       "      <td>2</td>\n",
       "    </tr>\n",
       "    <tr>\n",
       "      <th>2</th>\n",
       "      <td>894</td>\n",
       "      <td>2</td>\n",
       "      <td>Myles, Mr. Thomas Francis</td>\n",
       "      <td>male</td>\n",
       "      <td>62.0</td>\n",
       "      <td>0</td>\n",
       "      <td>0</td>\n",
       "      <td>240276</td>\n",
       "      <td>9.6875</td>\n",
       "      <td>Q</td>\n",
       "      <td>1</td>\n",
       "    </tr>\n",
       "    <tr>\n",
       "      <th>3</th>\n",
       "      <td>895</td>\n",
       "      <td>3</td>\n",
       "      <td>Wirz, Mr. Albert</td>\n",
       "      <td>male</td>\n",
       "      <td>27.0</td>\n",
       "      <td>0</td>\n",
       "      <td>0</td>\n",
       "      <td>315154</td>\n",
       "      <td>8.6625</td>\n",
       "      <td>S</td>\n",
       "      <td>1</td>\n",
       "    </tr>\n",
       "    <tr>\n",
       "      <th>4</th>\n",
       "      <td>896</td>\n",
       "      <td>3</td>\n",
       "      <td>Hirvonen, Mrs. Alexander (Helga E Lindqvist)</td>\n",
       "      <td>female</td>\n",
       "      <td>22.0</td>\n",
       "      <td>1</td>\n",
       "      <td>1</td>\n",
       "      <td>3101298</td>\n",
       "      <td>12.2875</td>\n",
       "      <td>S</td>\n",
       "      <td>3</td>\n",
       "    </tr>\n",
       "  </tbody>\n",
       "</table>\n",
       "</div>"
      ],
      "text/plain": [
       "   PassengerId  Pclass                                          Name     Sex  \\\n",
       "0          892       3                              Kelly, Mr. James    male   \n",
       "1          893       3              Wilkes, Mrs. James (Ellen Needs)  female   \n",
       "2          894       2                     Myles, Mr. Thomas Francis    male   \n",
       "3          895       3                              Wirz, Mr. Albert    male   \n",
       "4          896       3  Hirvonen, Mrs. Alexander (Helga E Lindqvist)  female   \n",
       "\n",
       "    Age  SibSp  Parch   Ticket     Fare Embarked  family  \n",
       "0  34.5      0      0   330911   7.8292        Q       1  \n",
       "1  47.0      1      0   363272   7.0000        S       2  \n",
       "2  62.0      0      0   240276   9.6875        Q       1  \n",
       "3  27.0      0      0   315154   8.6625        S       1  \n",
       "4  22.0      1      1  3101298  12.2875        S       3  "
      ]
     },
     "execution_count": 15,
     "metadata": {},
     "output_type": "execute_result"
    }
   ],
   "source": [
    "test_data.head()"
   ]
  },
  {
   "cell_type": "code",
   "execution_count": 16,
   "id": "ab462a61",
   "metadata": {
    "execution": {
     "iopub.execute_input": "2023-06-20T03:14:00.248706Z",
     "iopub.status.busy": "2023-06-20T03:14:00.247981Z",
     "iopub.status.idle": "2023-06-20T03:14:00.254684Z",
     "shell.execute_reply": "2023-06-20T03:14:00.253916Z"
    },
    "papermill": {
     "duration": 0.018301,
     "end_time": "2023-06-20T03:14:00.256837",
     "exception": false,
     "start_time": "2023-06-20T03:14:00.238536",
     "status": "completed"
    },
    "tags": []
   },
   "outputs": [],
   "source": [
    "train_data.drop([\"SibSp\",\"Parch\"],axis = 1, inplace=True)\n",
    "test_data.drop([\"SibSp\",\"Parch\"],axis = 1, inplace=True)\n"
   ]
  },
  {
   "cell_type": "code",
   "execution_count": 17,
   "id": "a93b69d3",
   "metadata": {
    "execution": {
     "iopub.execute_input": "2023-06-20T03:14:00.275438Z",
     "iopub.status.busy": "2023-06-20T03:14:00.274987Z",
     "iopub.status.idle": "2023-06-20T03:14:00.292770Z",
     "shell.execute_reply": "2023-06-20T03:14:00.291754Z"
    },
    "papermill": {
     "duration": 0.02971,
     "end_time": "2023-06-20T03:14:00.294975",
     "exception": false,
     "start_time": "2023-06-20T03:14:00.265265",
     "status": "completed"
    },
    "tags": []
   },
   "outputs": [
    {
     "data": {
      "text/html": [
       "<div>\n",
       "<style scoped>\n",
       "    .dataframe tbody tr th:only-of-type {\n",
       "        vertical-align: middle;\n",
       "    }\n",
       "\n",
       "    .dataframe tbody tr th {\n",
       "        vertical-align: top;\n",
       "    }\n",
       "\n",
       "    .dataframe thead th {\n",
       "        text-align: right;\n",
       "    }\n",
       "</style>\n",
       "<table border=\"1\" class=\"dataframe\">\n",
       "  <thead>\n",
       "    <tr style=\"text-align: right;\">\n",
       "      <th></th>\n",
       "      <th>PassengerId</th>\n",
       "      <th>Survived</th>\n",
       "      <th>Pclass</th>\n",
       "      <th>Name</th>\n",
       "      <th>Sex</th>\n",
       "      <th>Age</th>\n",
       "      <th>Ticket</th>\n",
       "      <th>Fare</th>\n",
       "      <th>Embarked</th>\n",
       "      <th>family</th>\n",
       "    </tr>\n",
       "  </thead>\n",
       "  <tbody>\n",
       "    <tr>\n",
       "      <th>348</th>\n",
       "      <td>349</td>\n",
       "      <td>1</td>\n",
       "      <td>3</td>\n",
       "      <td>Coutts, Master. William Loch \"William\"</td>\n",
       "      <td>male</td>\n",
       "      <td>3.0</td>\n",
       "      <td>C.A. 37671</td>\n",
       "      <td>15.9000</td>\n",
       "      <td>S</td>\n",
       "      <td>3</td>\n",
       "    </tr>\n",
       "    <tr>\n",
       "      <th>502</th>\n",
       "      <td>503</td>\n",
       "      <td>0</td>\n",
       "      <td>3</td>\n",
       "      <td>O'Sullivan, Miss. Bridget Mary</td>\n",
       "      <td>female</td>\n",
       "      <td>NaN</td>\n",
       "      <td>330909</td>\n",
       "      <td>7.6292</td>\n",
       "      <td>Q</td>\n",
       "      <td>1</td>\n",
       "    </tr>\n",
       "    <tr>\n",
       "      <th>771</th>\n",
       "      <td>772</td>\n",
       "      <td>0</td>\n",
       "      <td>3</td>\n",
       "      <td>Jensen, Mr. Niels Peder</td>\n",
       "      <td>male</td>\n",
       "      <td>48.0</td>\n",
       "      <td>350047</td>\n",
       "      <td>7.8542</td>\n",
       "      <td>S</td>\n",
       "      <td>1</td>\n",
       "    </tr>\n",
       "    <tr>\n",
       "      <th>326</th>\n",
       "      <td>327</td>\n",
       "      <td>0</td>\n",
       "      <td>3</td>\n",
       "      <td>Nysveen, Mr. Johan Hansen</td>\n",
       "      <td>male</td>\n",
       "      <td>61.0</td>\n",
       "      <td>345364</td>\n",
       "      <td>6.2375</td>\n",
       "      <td>S</td>\n",
       "      <td>1</td>\n",
       "    </tr>\n",
       "    <tr>\n",
       "      <th>321</th>\n",
       "      <td>322</td>\n",
       "      <td>0</td>\n",
       "      <td>3</td>\n",
       "      <td>Danoff, Mr. Yoto</td>\n",
       "      <td>male</td>\n",
       "      <td>27.0</td>\n",
       "      <td>349219</td>\n",
       "      <td>7.8958</td>\n",
       "      <td>S</td>\n",
       "      <td>1</td>\n",
       "    </tr>\n",
       "  </tbody>\n",
       "</table>\n",
       "</div>"
      ],
      "text/plain": [
       "     PassengerId  Survived  Pclass                                    Name  \\\n",
       "348          349         1       3  Coutts, Master. William Loch \"William\"   \n",
       "502          503         0       3          O'Sullivan, Miss. Bridget Mary   \n",
       "771          772         0       3                 Jensen, Mr. Niels Peder   \n",
       "326          327         0       3               Nysveen, Mr. Johan Hansen   \n",
       "321          322         0       3                        Danoff, Mr. Yoto   \n",
       "\n",
       "        Sex   Age      Ticket     Fare Embarked  family  \n",
       "348    male   3.0  C.A. 37671  15.9000        S       3  \n",
       "502  female   NaN      330909   7.6292        Q       1  \n",
       "771    male  48.0      350047   7.8542        S       1  \n",
       "326    male  61.0      345364   6.2375        S       1  \n",
       "321    male  27.0      349219   7.8958        S       1  "
      ]
     },
     "execution_count": 17,
     "metadata": {},
     "output_type": "execute_result"
    }
   ],
   "source": [
    "train_data.sample(5)"
   ]
  },
  {
   "cell_type": "code",
   "execution_count": 18,
   "id": "b8322ecb",
   "metadata": {
    "execution": {
     "iopub.execute_input": "2023-06-20T03:14:00.313898Z",
     "iopub.status.busy": "2023-06-20T03:14:00.313314Z",
     "iopub.status.idle": "2023-06-20T03:14:00.322036Z",
     "shell.execute_reply": "2023-06-20T03:14:00.321279Z"
    },
    "papermill": {
     "duration": 0.020944,
     "end_time": "2023-06-20T03:14:00.324195",
     "exception": false,
     "start_time": "2023-06-20T03:14:00.303251",
     "status": "completed"
    },
    "tags": []
   },
   "outputs": [],
   "source": [
    "train_data.dropna( subset='Embarked',inplace=True)\n",
    "test_data.dropna( subset='Embarked',inplace=True)"
   ]
  },
  {
   "cell_type": "code",
   "execution_count": 19,
   "id": "18cfe20d",
   "metadata": {
    "execution": {
     "iopub.execute_input": "2023-06-20T03:14:00.342855Z",
     "iopub.status.busy": "2023-06-20T03:14:00.342196Z",
     "iopub.status.idle": "2023-06-20T03:14:00.351234Z",
     "shell.execute_reply": "2023-06-20T03:14:00.350274Z"
    },
    "papermill": {
     "duration": 0.020541,
     "end_time": "2023-06-20T03:14:00.353183",
     "exception": false,
     "start_time": "2023-06-20T03:14:00.332642",
     "status": "completed"
    },
    "tags": []
   },
   "outputs": [
    {
     "data": {
      "text/plain": [
       "PassengerId      0\n",
       "Survived         0\n",
       "Pclass           0\n",
       "Name             0\n",
       "Sex              0\n",
       "Age            177\n",
       "Ticket           0\n",
       "Fare             0\n",
       "Embarked         0\n",
       "family           0\n",
       "dtype: int64"
      ]
     },
     "execution_count": 19,
     "metadata": {},
     "output_type": "execute_result"
    }
   ],
   "source": [
    "train_data.isnull().sum()"
   ]
  },
  {
   "cell_type": "code",
   "execution_count": 20,
   "id": "026a1420",
   "metadata": {
    "execution": {
     "iopub.execute_input": "2023-06-20T03:14:00.374260Z",
     "iopub.status.busy": "2023-06-20T03:14:00.373870Z",
     "iopub.status.idle": "2023-06-20T03:14:00.380543Z",
     "shell.execute_reply": "2023-06-20T03:14:00.379702Z"
    },
    "papermill": {
     "duration": 0.019249,
     "end_time": "2023-06-20T03:14:00.382491",
     "exception": false,
     "start_time": "2023-06-20T03:14:00.363242",
     "status": "completed"
    },
    "tags": []
   },
   "outputs": [],
   "source": [
    "train_data.drop([\"Name\",\"Ticket\",\"Fare\"],axis = 1, inplace=True)\n",
    "test_data.drop([\"Name\",\"Ticket\",\"Fare\"],axis = 1, inplace=True)"
   ]
  },
  {
   "cell_type": "code",
   "execution_count": 21,
   "id": "a9808fd7",
   "metadata": {
    "execution": {
     "iopub.execute_input": "2023-06-20T03:14:00.401316Z",
     "iopub.status.busy": "2023-06-20T03:14:00.400711Z",
     "iopub.status.idle": "2023-06-20T03:14:00.411996Z",
     "shell.execute_reply": "2023-06-20T03:14:00.411093Z"
    },
    "papermill": {
     "duration": 0.023132,
     "end_time": "2023-06-20T03:14:00.414008",
     "exception": false,
     "start_time": "2023-06-20T03:14:00.390876",
     "status": "completed"
    },
    "tags": []
   },
   "outputs": [
    {
     "data": {
      "text/html": [
       "<div>\n",
       "<style scoped>\n",
       "    .dataframe tbody tr th:only-of-type {\n",
       "        vertical-align: middle;\n",
       "    }\n",
       "\n",
       "    .dataframe tbody tr th {\n",
       "        vertical-align: top;\n",
       "    }\n",
       "\n",
       "    .dataframe thead th {\n",
       "        text-align: right;\n",
       "    }\n",
       "</style>\n",
       "<table border=\"1\" class=\"dataframe\">\n",
       "  <thead>\n",
       "    <tr style=\"text-align: right;\">\n",
       "      <th></th>\n",
       "      <th>PassengerId</th>\n",
       "      <th>Survived</th>\n",
       "      <th>Pclass</th>\n",
       "      <th>Sex</th>\n",
       "      <th>Age</th>\n",
       "      <th>Embarked</th>\n",
       "      <th>family</th>\n",
       "    </tr>\n",
       "  </thead>\n",
       "  <tbody>\n",
       "    <tr>\n",
       "      <th>396</th>\n",
       "      <td>397</td>\n",
       "      <td>0</td>\n",
       "      <td>3</td>\n",
       "      <td>female</td>\n",
       "      <td>31.0</td>\n",
       "      <td>S</td>\n",
       "      <td>1</td>\n",
       "    </tr>\n",
       "    <tr>\n",
       "      <th>408</th>\n",
       "      <td>409</td>\n",
       "      <td>0</td>\n",
       "      <td>3</td>\n",
       "      <td>male</td>\n",
       "      <td>21.0</td>\n",
       "      <td>S</td>\n",
       "      <td>1</td>\n",
       "    </tr>\n",
       "    <tr>\n",
       "      <th>682</th>\n",
       "      <td>683</td>\n",
       "      <td>0</td>\n",
       "      <td>3</td>\n",
       "      <td>male</td>\n",
       "      <td>20.0</td>\n",
       "      <td>S</td>\n",
       "      <td>1</td>\n",
       "    </tr>\n",
       "    <tr>\n",
       "      <th>864</th>\n",
       "      <td>865</td>\n",
       "      <td>0</td>\n",
       "      <td>2</td>\n",
       "      <td>male</td>\n",
       "      <td>24.0</td>\n",
       "      <td>S</td>\n",
       "      <td>1</td>\n",
       "    </tr>\n",
       "    <tr>\n",
       "      <th>380</th>\n",
       "      <td>381</td>\n",
       "      <td>1</td>\n",
       "      <td>1</td>\n",
       "      <td>female</td>\n",
       "      <td>42.0</td>\n",
       "      <td>C</td>\n",
       "      <td>1</td>\n",
       "    </tr>\n",
       "  </tbody>\n",
       "</table>\n",
       "</div>"
      ],
      "text/plain": [
       "     PassengerId  Survived  Pclass     Sex   Age Embarked  family\n",
       "396          397         0       3  female  31.0        S       1\n",
       "408          409         0       3    male  21.0        S       1\n",
       "682          683         0       3    male  20.0        S       1\n",
       "864          865         0       2    male  24.0        S       1\n",
       "380          381         1       1  female  42.0        C       1"
      ]
     },
     "execution_count": 21,
     "metadata": {},
     "output_type": "execute_result"
    }
   ],
   "source": [
    "train_data.sample(5)"
   ]
  },
  {
   "cell_type": "code",
   "execution_count": 22,
   "id": "098dba73",
   "metadata": {
    "execution": {
     "iopub.execute_input": "2023-06-20T03:14:00.433078Z",
     "iopub.status.busy": "2023-06-20T03:14:00.432734Z",
     "iopub.status.idle": "2023-06-20T03:14:00.443888Z",
     "shell.execute_reply": "2023-06-20T03:14:00.442865Z"
    },
    "papermill": {
     "duration": 0.023226,
     "end_time": "2023-06-20T03:14:00.446171",
     "exception": false,
     "start_time": "2023-06-20T03:14:00.422945",
     "status": "completed"
    },
    "tags": []
   },
   "outputs": [
    {
     "data": {
      "text/html": [
       "<div>\n",
       "<style scoped>\n",
       "    .dataframe tbody tr th:only-of-type {\n",
       "        vertical-align: middle;\n",
       "    }\n",
       "\n",
       "    .dataframe tbody tr th {\n",
       "        vertical-align: top;\n",
       "    }\n",
       "\n",
       "    .dataframe thead th {\n",
       "        text-align: right;\n",
       "    }\n",
       "</style>\n",
       "<table border=\"1\" class=\"dataframe\">\n",
       "  <thead>\n",
       "    <tr style=\"text-align: right;\">\n",
       "      <th></th>\n",
       "      <th>PassengerId</th>\n",
       "      <th>Pclass</th>\n",
       "      <th>Sex</th>\n",
       "      <th>Age</th>\n",
       "      <th>Embarked</th>\n",
       "      <th>family</th>\n",
       "    </tr>\n",
       "  </thead>\n",
       "  <tbody>\n",
       "    <tr>\n",
       "      <th>0</th>\n",
       "      <td>892</td>\n",
       "      <td>3</td>\n",
       "      <td>male</td>\n",
       "      <td>34.5</td>\n",
       "      <td>Q</td>\n",
       "      <td>1</td>\n",
       "    </tr>\n",
       "    <tr>\n",
       "      <th>1</th>\n",
       "      <td>893</td>\n",
       "      <td>3</td>\n",
       "      <td>female</td>\n",
       "      <td>47.0</td>\n",
       "      <td>S</td>\n",
       "      <td>2</td>\n",
       "    </tr>\n",
       "    <tr>\n",
       "      <th>2</th>\n",
       "      <td>894</td>\n",
       "      <td>2</td>\n",
       "      <td>male</td>\n",
       "      <td>62.0</td>\n",
       "      <td>Q</td>\n",
       "      <td>1</td>\n",
       "    </tr>\n",
       "    <tr>\n",
       "      <th>3</th>\n",
       "      <td>895</td>\n",
       "      <td>3</td>\n",
       "      <td>male</td>\n",
       "      <td>27.0</td>\n",
       "      <td>S</td>\n",
       "      <td>1</td>\n",
       "    </tr>\n",
       "    <tr>\n",
       "      <th>4</th>\n",
       "      <td>896</td>\n",
       "      <td>3</td>\n",
       "      <td>female</td>\n",
       "      <td>22.0</td>\n",
       "      <td>S</td>\n",
       "      <td>3</td>\n",
       "    </tr>\n",
       "  </tbody>\n",
       "</table>\n",
       "</div>"
      ],
      "text/plain": [
       "   PassengerId  Pclass     Sex   Age Embarked  family\n",
       "0          892       3    male  34.5        Q       1\n",
       "1          893       3  female  47.0        S       2\n",
       "2          894       2    male  62.0        Q       1\n",
       "3          895       3    male  27.0        S       1\n",
       "4          896       3  female  22.0        S       3"
      ]
     },
     "execution_count": 22,
     "metadata": {},
     "output_type": "execute_result"
    }
   ],
   "source": [
    "test_data.head()"
   ]
  },
  {
   "cell_type": "code",
   "execution_count": 23,
   "id": "9c97d459",
   "metadata": {
    "execution": {
     "iopub.execute_input": "2023-06-20T03:14:00.465164Z",
     "iopub.status.busy": "2023-06-20T03:14:00.464752Z",
     "iopub.status.idle": "2023-06-20T03:14:00.471718Z",
     "shell.execute_reply": "2023-06-20T03:14:00.470524Z"
    },
    "papermill": {
     "duration": 0.018903,
     "end_time": "2023-06-20T03:14:00.473818",
     "exception": false,
     "start_time": "2023-06-20T03:14:00.454915",
     "status": "completed"
    },
    "tags": []
   },
   "outputs": [],
   "source": [
    "X_train = train_data.drop([\"Survived\",\"PassengerId\"],axis = 1)\n",
    "y_train = train_data[\"Survived\"]\n",
    "X_test  = test_data.drop(\"PassengerId\",axis = 1)\n"
   ]
  },
  {
   "cell_type": "code",
   "execution_count": 24,
   "id": "43557977",
   "metadata": {
    "execution": {
     "iopub.execute_input": "2023-06-20T03:14:00.493923Z",
     "iopub.status.busy": "2023-06-20T03:14:00.493082Z",
     "iopub.status.idle": "2023-06-20T03:14:00.497798Z",
     "shell.execute_reply": "2023-06-20T03:14:00.497070Z"
    },
    "papermill": {
     "duration": 0.016584,
     "end_time": "2023-06-20T03:14:00.499698",
     "exception": false,
     "start_time": "2023-06-20T03:14:00.483114",
     "status": "completed"
    },
    "tags": []
   },
   "outputs": [],
   "source": [
    "trf = ColumnTransformer(transformers=[(\"age_imputation\",si,[\"Age\"]),\n",
    "                                      (\"Sex\",ohe,[\"Sex\",\"Embarked\"])],remainder=\"passthrough\")"
   ]
  },
  {
   "cell_type": "code",
   "execution_count": 25,
   "id": "102d01db",
   "metadata": {
    "execution": {
     "iopub.execute_input": "2023-06-20T03:14:00.518855Z",
     "iopub.status.busy": "2023-06-20T03:14:00.518177Z",
     "iopub.status.idle": "2023-06-20T03:14:00.522263Z",
     "shell.execute_reply": "2023-06-20T03:14:00.521536Z"
    },
    "papermill": {
     "duration": 0.015785,
     "end_time": "2023-06-20T03:14:00.524155",
     "exception": false,
     "start_time": "2023-06-20T03:14:00.508370",
     "status": "completed"
    },
    "tags": []
   },
   "outputs": [],
   "source": [
    "trf1 = RandomForestClassifier()"
   ]
  },
  {
   "cell_type": "code",
   "execution_count": 26,
   "id": "f3f4784f",
   "metadata": {
    "execution": {
     "iopub.execute_input": "2023-06-20T03:14:00.543633Z",
     "iopub.status.busy": "2023-06-20T03:14:00.542958Z",
     "iopub.status.idle": "2023-06-20T03:14:00.547676Z",
     "shell.execute_reply": "2023-06-20T03:14:00.546706Z"
    },
    "papermill": {
     "duration": 0.01682,
     "end_time": "2023-06-20T03:14:00.549827",
     "exception": false,
     "start_time": "2023-06-20T03:14:00.533007",
     "status": "completed"
    },
    "tags": []
   },
   "outputs": [],
   "source": [
    "trf2 = SelectKBest(score_func=chi2, k=5)"
   ]
  },
  {
   "cell_type": "code",
   "execution_count": 27,
   "id": "c20dc5ec",
   "metadata": {
    "execution": {
     "iopub.execute_input": "2023-06-20T03:14:00.568661Z",
     "iopub.status.busy": "2023-06-20T03:14:00.568238Z",
     "iopub.status.idle": "2023-06-20T03:14:00.573086Z",
     "shell.execute_reply": "2023-06-20T03:14:00.572053Z"
    },
    "papermill": {
     "duration": 0.016832,
     "end_time": "2023-06-20T03:14:00.575268",
     "exception": false,
     "start_time": "2023-06-20T03:14:00.558436",
     "status": "completed"
    },
    "tags": []
   },
   "outputs": [],
   "source": [
    "pipe = Pipeline(steps=[(\"trf\",trf),(\"trf2\",trf2)\n",
    "               ,(\"trf1\",trf1)])"
   ]
  },
  {
   "cell_type": "code",
   "execution_count": 28,
   "id": "5cd5b805",
   "metadata": {
    "execution": {
     "iopub.execute_input": "2023-06-20T03:14:00.594134Z",
     "iopub.status.busy": "2023-06-20T03:14:00.593553Z",
     "iopub.status.idle": "2023-06-20T03:14:00.862319Z",
     "shell.execute_reply": "2023-06-20T03:14:00.861171Z"
    },
    "papermill": {
     "duration": 0.280827,
     "end_time": "2023-06-20T03:14:00.864627",
     "exception": false,
     "start_time": "2023-06-20T03:14:00.583800",
     "status": "completed"
    },
    "tags": []
   },
   "outputs": [
    {
     "name": "stderr",
     "output_type": "stream",
     "text": [
      "/opt/conda/lib/python3.10/site-packages/sklearn/preprocessing/_encoders.py:868: FutureWarning: `sparse` was renamed to `sparse_output` in version 1.2 and will be removed in 1.4. `sparse_output` is ignored unless you leave `sparse` to its default value.\n",
      "  warnings.warn(\n"
     ]
    },
    {
     "data": {
      "text/html": [
       "<style>#sk-container-id-1 {color: black;background-color: white;}#sk-container-id-1 pre{padding: 0;}#sk-container-id-1 div.sk-toggleable {background-color: white;}#sk-container-id-1 label.sk-toggleable__label {cursor: pointer;display: block;width: 100%;margin-bottom: 0;padding: 0.3em;box-sizing: border-box;text-align: center;}#sk-container-id-1 label.sk-toggleable__label-arrow:before {content: \"▸\";float: left;margin-right: 0.25em;color: #696969;}#sk-container-id-1 label.sk-toggleable__label-arrow:hover:before {color: black;}#sk-container-id-1 div.sk-estimator:hover label.sk-toggleable__label-arrow:before {color: black;}#sk-container-id-1 div.sk-toggleable__content {max-height: 0;max-width: 0;overflow: hidden;text-align: left;background-color: #f0f8ff;}#sk-container-id-1 div.sk-toggleable__content pre {margin: 0.2em;color: black;border-radius: 0.25em;background-color: #f0f8ff;}#sk-container-id-1 input.sk-toggleable__control:checked~div.sk-toggleable__content {max-height: 200px;max-width: 100%;overflow: auto;}#sk-container-id-1 input.sk-toggleable__control:checked~label.sk-toggleable__label-arrow:before {content: \"▾\";}#sk-container-id-1 div.sk-estimator input.sk-toggleable__control:checked~label.sk-toggleable__label {background-color: #d4ebff;}#sk-container-id-1 div.sk-label input.sk-toggleable__control:checked~label.sk-toggleable__label {background-color: #d4ebff;}#sk-container-id-1 input.sk-hidden--visually {border: 0;clip: rect(1px 1px 1px 1px);clip: rect(1px, 1px, 1px, 1px);height: 1px;margin: -1px;overflow: hidden;padding: 0;position: absolute;width: 1px;}#sk-container-id-1 div.sk-estimator {font-family: monospace;background-color: #f0f8ff;border: 1px dotted black;border-radius: 0.25em;box-sizing: border-box;margin-bottom: 0.5em;}#sk-container-id-1 div.sk-estimator:hover {background-color: #d4ebff;}#sk-container-id-1 div.sk-parallel-item::after {content: \"\";width: 100%;border-bottom: 1px solid gray;flex-grow: 1;}#sk-container-id-1 div.sk-label:hover label.sk-toggleable__label {background-color: #d4ebff;}#sk-container-id-1 div.sk-serial::before {content: \"\";position: absolute;border-left: 1px solid gray;box-sizing: border-box;top: 0;bottom: 0;left: 50%;z-index: 0;}#sk-container-id-1 div.sk-serial {display: flex;flex-direction: column;align-items: center;background-color: white;padding-right: 0.2em;padding-left: 0.2em;position: relative;}#sk-container-id-1 div.sk-item {position: relative;z-index: 1;}#sk-container-id-1 div.sk-parallel {display: flex;align-items: stretch;justify-content: center;background-color: white;position: relative;}#sk-container-id-1 div.sk-item::before, #sk-container-id-1 div.sk-parallel-item::before {content: \"\";position: absolute;border-left: 1px solid gray;box-sizing: border-box;top: 0;bottom: 0;left: 50%;z-index: -1;}#sk-container-id-1 div.sk-parallel-item {display: flex;flex-direction: column;z-index: 1;position: relative;background-color: white;}#sk-container-id-1 div.sk-parallel-item:first-child::after {align-self: flex-end;width: 50%;}#sk-container-id-1 div.sk-parallel-item:last-child::after {align-self: flex-start;width: 50%;}#sk-container-id-1 div.sk-parallel-item:only-child::after {width: 0;}#sk-container-id-1 div.sk-dashed-wrapped {border: 1px dashed gray;margin: 0 0.4em 0.5em 0.4em;box-sizing: border-box;padding-bottom: 0.4em;background-color: white;}#sk-container-id-1 div.sk-label label {font-family: monospace;font-weight: bold;display: inline-block;line-height: 1.2em;}#sk-container-id-1 div.sk-label-container {text-align: center;}#sk-container-id-1 div.sk-container {/* jupyter's `normalize.less` sets `[hidden] { display: none; }` but bootstrap.min.css set `[hidden] { display: none !important; }` so we also need the `!important` here to be able to override the default hidden behavior on the sphinx rendered scikit-learn.org. See: https://github.com/scikit-learn/scikit-learn/issues/21755 */display: inline-block !important;position: relative;}#sk-container-id-1 div.sk-text-repr-fallback {display: none;}</style><div id=\"sk-container-id-1\" class=\"sk-top-container\"><div class=\"sk-text-repr-fallback\"><pre>Pipeline(steps=[(&#x27;trf&#x27;,\n",
       "                 ColumnTransformer(remainder=&#x27;passthrough&#x27;,\n",
       "                                   transformers=[(&#x27;age_imputation&#x27;,\n",
       "                                                  SimpleImputer(), [&#x27;Age&#x27;]),\n",
       "                                                 (&#x27;Sex&#x27;,\n",
       "                                                  OneHotEncoder(handle_unknown=&#x27;ignore&#x27;,\n",
       "                                                                sparse=False),\n",
       "                                                  [&#x27;Sex&#x27;, &#x27;Embarked&#x27;])])),\n",
       "                (&#x27;trf2&#x27;,\n",
       "                 SelectKBest(k=5,\n",
       "                             score_func=&lt;function chi2 at 0x7eda27a59ab0&gt;)),\n",
       "                (&#x27;trf1&#x27;, RandomForestClassifier())])</pre><b>In a Jupyter environment, please rerun this cell to show the HTML representation or trust the notebook. <br />On GitHub, the HTML representation is unable to render, please try loading this page with nbviewer.org.</b></div><div class=\"sk-container\" hidden><div class=\"sk-item sk-dashed-wrapped\"><div class=\"sk-label-container\"><div class=\"sk-label sk-toggleable\"><input class=\"sk-toggleable__control sk-hidden--visually\" id=\"sk-estimator-id-1\" type=\"checkbox\" ><label for=\"sk-estimator-id-1\" class=\"sk-toggleable__label sk-toggleable__label-arrow\">Pipeline</label><div class=\"sk-toggleable__content\"><pre>Pipeline(steps=[(&#x27;trf&#x27;,\n",
       "                 ColumnTransformer(remainder=&#x27;passthrough&#x27;,\n",
       "                                   transformers=[(&#x27;age_imputation&#x27;,\n",
       "                                                  SimpleImputer(), [&#x27;Age&#x27;]),\n",
       "                                                 (&#x27;Sex&#x27;,\n",
       "                                                  OneHotEncoder(handle_unknown=&#x27;ignore&#x27;,\n",
       "                                                                sparse=False),\n",
       "                                                  [&#x27;Sex&#x27;, &#x27;Embarked&#x27;])])),\n",
       "                (&#x27;trf2&#x27;,\n",
       "                 SelectKBest(k=5,\n",
       "                             score_func=&lt;function chi2 at 0x7eda27a59ab0&gt;)),\n",
       "                (&#x27;trf1&#x27;, RandomForestClassifier())])</pre></div></div></div><div class=\"sk-serial\"><div class=\"sk-item sk-dashed-wrapped\"><div class=\"sk-label-container\"><div class=\"sk-label sk-toggleable\"><input class=\"sk-toggleable__control sk-hidden--visually\" id=\"sk-estimator-id-2\" type=\"checkbox\" ><label for=\"sk-estimator-id-2\" class=\"sk-toggleable__label sk-toggleable__label-arrow\">trf: ColumnTransformer</label><div class=\"sk-toggleable__content\"><pre>ColumnTransformer(remainder=&#x27;passthrough&#x27;,\n",
       "                  transformers=[(&#x27;age_imputation&#x27;, SimpleImputer(), [&#x27;Age&#x27;]),\n",
       "                                (&#x27;Sex&#x27;,\n",
       "                                 OneHotEncoder(handle_unknown=&#x27;ignore&#x27;,\n",
       "                                               sparse=False),\n",
       "                                 [&#x27;Sex&#x27;, &#x27;Embarked&#x27;])])</pre></div></div></div><div class=\"sk-parallel\"><div class=\"sk-parallel-item\"><div class=\"sk-item\"><div class=\"sk-label-container\"><div class=\"sk-label sk-toggleable\"><input class=\"sk-toggleable__control sk-hidden--visually\" id=\"sk-estimator-id-3\" type=\"checkbox\" ><label for=\"sk-estimator-id-3\" class=\"sk-toggleable__label sk-toggleable__label-arrow\">age_imputation</label><div class=\"sk-toggleable__content\"><pre>[&#x27;Age&#x27;]</pre></div></div></div><div class=\"sk-serial\"><div class=\"sk-item\"><div class=\"sk-estimator sk-toggleable\"><input class=\"sk-toggleable__control sk-hidden--visually\" id=\"sk-estimator-id-4\" type=\"checkbox\" ><label for=\"sk-estimator-id-4\" class=\"sk-toggleable__label sk-toggleable__label-arrow\">SimpleImputer</label><div class=\"sk-toggleable__content\"><pre>SimpleImputer()</pre></div></div></div></div></div></div><div class=\"sk-parallel-item\"><div class=\"sk-item\"><div class=\"sk-label-container\"><div class=\"sk-label sk-toggleable\"><input class=\"sk-toggleable__control sk-hidden--visually\" id=\"sk-estimator-id-5\" type=\"checkbox\" ><label for=\"sk-estimator-id-5\" class=\"sk-toggleable__label sk-toggleable__label-arrow\">Sex</label><div class=\"sk-toggleable__content\"><pre>[&#x27;Sex&#x27;, &#x27;Embarked&#x27;]</pre></div></div></div><div class=\"sk-serial\"><div class=\"sk-item\"><div class=\"sk-estimator sk-toggleable\"><input class=\"sk-toggleable__control sk-hidden--visually\" id=\"sk-estimator-id-6\" type=\"checkbox\" ><label for=\"sk-estimator-id-6\" class=\"sk-toggleable__label sk-toggleable__label-arrow\">OneHotEncoder</label><div class=\"sk-toggleable__content\"><pre>OneHotEncoder(handle_unknown=&#x27;ignore&#x27;, sparse=False)</pre></div></div></div></div></div></div><div class=\"sk-parallel-item\"><div class=\"sk-item\"><div class=\"sk-label-container\"><div class=\"sk-label sk-toggleable\"><input class=\"sk-toggleable__control sk-hidden--visually\" id=\"sk-estimator-id-7\" type=\"checkbox\" ><label for=\"sk-estimator-id-7\" class=\"sk-toggleable__label sk-toggleable__label-arrow\">remainder</label><div class=\"sk-toggleable__content\"><pre>[&#x27;Pclass&#x27;, &#x27;family&#x27;]</pre></div></div></div><div class=\"sk-serial\"><div class=\"sk-item\"><div class=\"sk-estimator sk-toggleable\"><input class=\"sk-toggleable__control sk-hidden--visually\" id=\"sk-estimator-id-8\" type=\"checkbox\" ><label for=\"sk-estimator-id-8\" class=\"sk-toggleable__label sk-toggleable__label-arrow\">passthrough</label><div class=\"sk-toggleable__content\"><pre>passthrough</pre></div></div></div></div></div></div></div></div><div class=\"sk-item\"><div class=\"sk-estimator sk-toggleable\"><input class=\"sk-toggleable__control sk-hidden--visually\" id=\"sk-estimator-id-9\" type=\"checkbox\" ><label for=\"sk-estimator-id-9\" class=\"sk-toggleable__label sk-toggleable__label-arrow\">SelectKBest</label><div class=\"sk-toggleable__content\"><pre>SelectKBest(k=5, score_func=&lt;function chi2 at 0x7eda27a59ab0&gt;)</pre></div></div></div><div class=\"sk-item\"><div class=\"sk-estimator sk-toggleable\"><input class=\"sk-toggleable__control sk-hidden--visually\" id=\"sk-estimator-id-10\" type=\"checkbox\" ><label for=\"sk-estimator-id-10\" class=\"sk-toggleable__label sk-toggleable__label-arrow\">RandomForestClassifier</label><div class=\"sk-toggleable__content\"><pre>RandomForestClassifier()</pre></div></div></div></div></div></div></div>"
      ],
      "text/plain": [
       "Pipeline(steps=[('trf',\n",
       "                 ColumnTransformer(remainder='passthrough',\n",
       "                                   transformers=[('age_imputation',\n",
       "                                                  SimpleImputer(), ['Age']),\n",
       "                                                 ('Sex',\n",
       "                                                  OneHotEncoder(handle_unknown='ignore',\n",
       "                                                                sparse=False),\n",
       "                                                  ['Sex', 'Embarked'])])),\n",
       "                ('trf2',\n",
       "                 SelectKBest(k=5,\n",
       "                             score_func=<function chi2 at 0x7eda27a59ab0>)),\n",
       "                ('trf1', RandomForestClassifier())])"
      ]
     },
     "execution_count": 28,
     "metadata": {},
     "output_type": "execute_result"
    }
   ],
   "source": [
    "pipe.fit(X_train,y_train)"
   ]
  },
  {
   "cell_type": "code",
   "execution_count": 29,
   "id": "4a2936e4",
   "metadata": {
    "execution": {
     "iopub.execute_input": "2023-06-20T03:14:00.886280Z",
     "iopub.status.busy": "2023-06-20T03:14:00.885094Z",
     "iopub.status.idle": "2023-06-20T03:14:00.914701Z",
     "shell.execute_reply": "2023-06-20T03:14:00.913832Z"
    },
    "papermill": {
     "duration": 0.04304,
     "end_time": "2023-06-20T03:14:00.917118",
     "exception": false,
     "start_time": "2023-06-20T03:14:00.874078",
     "status": "completed"
    },
    "tags": []
   },
   "outputs": [],
   "source": [
    "prediction = pipe.predict(X_test)"
   ]
  },
  {
   "cell_type": "code",
   "execution_count": 30,
   "id": "40b8c2ba",
   "metadata": {
    "execution": {
     "iopub.execute_input": "2023-06-20T03:14:00.938126Z",
     "iopub.status.busy": "2023-06-20T03:14:00.937446Z",
     "iopub.status.idle": "2023-06-20T03:14:00.950784Z",
     "shell.execute_reply": "2023-06-20T03:14:00.949361Z"
    },
    "papermill": {
     "duration": 0.026308,
     "end_time": "2023-06-20T03:14:00.953155",
     "exception": false,
     "start_time": "2023-06-20T03:14:00.926847",
     "status": "completed"
    },
    "tags": []
   },
   "outputs": [
    {
     "name": "stdout",
     "output_type": "stream",
     "text": [
      "Your submission was successfully saved!\n"
     ]
    }
   ],
   "source": [
    "output = pd.DataFrame({'PassengerId': test_data.PassengerId, 'Survived': prediction})\n",
    "output.to_csv('submission.csv', index=False)\n",
    "print(\"Your submission was successfully saved!\")"
   ]
  },
  {
   "cell_type": "code",
   "execution_count": null,
   "id": "9a5c4288",
   "metadata": {
    "papermill": {
     "duration": 0.009715,
     "end_time": "2023-06-20T03:14:00.972690",
     "exception": false,
     "start_time": "2023-06-20T03:14:00.962975",
     "status": "completed"
    },
    "tags": []
   },
   "outputs": [],
   "source": []
  }
 ],
 "metadata": {
  "kernelspec": {
   "display_name": "Python 3",
   "language": "python",
   "name": "python3"
  },
  "language_info": {
   "codemirror_mode": {
    "name": "ipython",
    "version": 3
   },
   "file_extension": ".py",
   "mimetype": "text/x-python",
   "name": "python",
   "nbconvert_exporter": "python",
   "pygments_lexer": "ipython3",
   "version": "3.10.10"
  },
  "papermill": {
   "default_parameters": {},
   "duration": 13.585059,
   "end_time": "2023-06-20T03:14:01.905680",
   "environment_variables": {},
   "exception": null,
   "input_path": "__notebook__.ipynb",
   "output_path": "__notebook__.ipynb",
   "parameters": {},
   "start_time": "2023-06-20T03:13:48.320621",
   "version": "2.4.0"
  }
 },
 "nbformat": 4,
 "nbformat_minor": 5
}
