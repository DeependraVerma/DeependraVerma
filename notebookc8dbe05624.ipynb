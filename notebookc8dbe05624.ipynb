{
 "cells": [
  {
   "cell_type": "code",
   "execution_count": 1,
   "id": "6886b865",
   "metadata": {
    "_cell_guid": "b1076dfc-b9ad-4769-8c92-a6c4dae69d19",
    "_uuid": "8f2839f25d086af736a60e9eeb907d3b93b6e0e5",
    "execution": {
     "iopub.execute_input": "2023-06-20T03:21:47.681248Z",
     "iopub.status.busy": "2023-06-20T03:21:47.680648Z",
     "iopub.status.idle": "2023-06-20T03:21:47.691392Z",
     "shell.execute_reply": "2023-06-20T03:21:47.690715Z"
    },
    "papermill": {
     "duration": 0.023997,
     "end_time": "2023-06-20T03:21:47.694062",
     "exception": false,
     "start_time": "2023-06-20T03:21:47.670065",
     "status": "completed"
    },
    "tags": []
   },
   "outputs": [
    {
     "name": "stdout",
     "output_type": "stream",
     "text": [
      "/kaggle/input/titanic/train.csv\n",
      "/kaggle/input/titanic/test.csv\n",
      "/kaggle/input/titanic/gender_submission.csv\n"
     ]
    }
   ],
   "source": [
    "# This Python 3 environment comes with many helpful analytics libraries installed\n",
    "# It is defined by the kaggle/python Docker image: https://github.com/kaggle/docker-python\n",
    "# For example, here's several helpful packages to load\n",
    "\n",
    "import numpy as np # linear algebra\n",
    "import pandas as pd # data processing, CSV file I/O (e.g. pd.read_csv)\n",
    "\n",
    "# Input data files are available in the read-only \"../input/\" directory\n",
    "# For example, running this (by clicking run or pressing Shift+Enter) will list all files under the input directory\n",
    "\n",
    "import os\n",
    "for dirname, _, filenames in os.walk('/kaggle/input'):\n",
    "    for filename in filenames:\n",
    "        print(os.path.join(dirname, filename))\n",
    "\n",
    "# You can write up to 20GB to the current directory (/kaggle/working/) that gets preserved as output when you create a version using \"Save & Run All\" \n",
    "# You can also write temporary files to /kaggle/temp/, but they won't be saved outside of the current session"
   ]
  },
  {
   "cell_type": "code",
   "execution_count": 2,
   "id": "18d85192",
   "metadata": {
    "execution": {
     "iopub.execute_input": "2023-06-20T03:21:47.708052Z",
     "iopub.status.busy": "2023-06-20T03:21:47.707542Z",
     "iopub.status.idle": "2023-06-20T03:21:47.739238Z",
     "shell.execute_reply": "2023-06-20T03:21:47.738522Z"
    },
    "papermill": {
     "duration": 0.040647,
     "end_time": "2023-06-20T03:21:47.741192",
     "exception": false,
     "start_time": "2023-06-20T03:21:47.700545",
     "status": "completed"
    },
    "tags": []
   },
   "outputs": [],
   "source": [
    "train_data = pd.read_csv(\"/kaggle/input/titanic/train.csv\")"
   ]
  },
  {
   "cell_type": "code",
   "execution_count": 3,
   "id": "30a2a3c8",
   "metadata": {
    "execution": {
     "iopub.execute_input": "2023-06-20T03:21:47.755385Z",
     "iopub.status.busy": "2023-06-20T03:21:47.754773Z",
     "iopub.status.idle": "2023-06-20T03:21:47.786369Z",
     "shell.execute_reply": "2023-06-20T03:21:47.785143Z"
    },
    "papermill": {
     "duration": 0.040687,
     "end_time": "2023-06-20T03:21:47.788331",
     "exception": false,
     "start_time": "2023-06-20T03:21:47.747644",
     "status": "completed"
    },
    "tags": []
   },
   "outputs": [
    {
     "data": {
      "text/html": [
       "<div>\n",
       "<style scoped>\n",
       "    .dataframe tbody tr th:only-of-type {\n",
       "        vertical-align: middle;\n",
       "    }\n",
       "\n",
       "    .dataframe tbody tr th {\n",
       "        vertical-align: top;\n",
       "    }\n",
       "\n",
       "    .dataframe thead th {\n",
       "        text-align: right;\n",
       "    }\n",
       "</style>\n",
       "<table border=\"1\" class=\"dataframe\">\n",
       "  <thead>\n",
       "    <tr style=\"text-align: right;\">\n",
       "      <th></th>\n",
       "      <th>PassengerId</th>\n",
       "      <th>Survived</th>\n",
       "      <th>Pclass</th>\n",
       "      <th>Name</th>\n",
       "      <th>Sex</th>\n",
       "      <th>Age</th>\n",
       "      <th>SibSp</th>\n",
       "      <th>Parch</th>\n",
       "      <th>Ticket</th>\n",
       "      <th>Fare</th>\n",
       "      <th>Cabin</th>\n",
       "      <th>Embarked</th>\n",
       "    </tr>\n",
       "  </thead>\n",
       "  <tbody>\n",
       "    <tr>\n",
       "      <th>0</th>\n",
       "      <td>1</td>\n",
       "      <td>0</td>\n",
       "      <td>3</td>\n",
       "      <td>Braund, Mr. Owen Harris</td>\n",
       "      <td>male</td>\n",
       "      <td>22.0</td>\n",
       "      <td>1</td>\n",
       "      <td>0</td>\n",
       "      <td>A/5 21171</td>\n",
       "      <td>7.2500</td>\n",
       "      <td>NaN</td>\n",
       "      <td>S</td>\n",
       "    </tr>\n",
       "    <tr>\n",
       "      <th>1</th>\n",
       "      <td>2</td>\n",
       "      <td>1</td>\n",
       "      <td>1</td>\n",
       "      <td>Cumings, Mrs. John Bradley (Florence Briggs Th...</td>\n",
       "      <td>female</td>\n",
       "      <td>38.0</td>\n",
       "      <td>1</td>\n",
       "      <td>0</td>\n",
       "      <td>PC 17599</td>\n",
       "      <td>71.2833</td>\n",
       "      <td>C85</td>\n",
       "      <td>C</td>\n",
       "    </tr>\n",
       "    <tr>\n",
       "      <th>2</th>\n",
       "      <td>3</td>\n",
       "      <td>1</td>\n",
       "      <td>3</td>\n",
       "      <td>Heikkinen, Miss. Laina</td>\n",
       "      <td>female</td>\n",
       "      <td>26.0</td>\n",
       "      <td>0</td>\n",
       "      <td>0</td>\n",
       "      <td>STON/O2. 3101282</td>\n",
       "      <td>7.9250</td>\n",
       "      <td>NaN</td>\n",
       "      <td>S</td>\n",
       "    </tr>\n",
       "    <tr>\n",
       "      <th>3</th>\n",
       "      <td>4</td>\n",
       "      <td>1</td>\n",
       "      <td>1</td>\n",
       "      <td>Futrelle, Mrs. Jacques Heath (Lily May Peel)</td>\n",
       "      <td>female</td>\n",
       "      <td>35.0</td>\n",
       "      <td>1</td>\n",
       "      <td>0</td>\n",
       "      <td>113803</td>\n",
       "      <td>53.1000</td>\n",
       "      <td>C123</td>\n",
       "      <td>S</td>\n",
       "    </tr>\n",
       "    <tr>\n",
       "      <th>4</th>\n",
       "      <td>5</td>\n",
       "      <td>0</td>\n",
       "      <td>3</td>\n",
       "      <td>Allen, Mr. William Henry</td>\n",
       "      <td>male</td>\n",
       "      <td>35.0</td>\n",
       "      <td>0</td>\n",
       "      <td>0</td>\n",
       "      <td>373450</td>\n",
       "      <td>8.0500</td>\n",
       "      <td>NaN</td>\n",
       "      <td>S</td>\n",
       "    </tr>\n",
       "  </tbody>\n",
       "</table>\n",
       "</div>"
      ],
      "text/plain": [
       "   PassengerId  Survived  Pclass  \\\n",
       "0            1         0       3   \n",
       "1            2         1       1   \n",
       "2            3         1       3   \n",
       "3            4         1       1   \n",
       "4            5         0       3   \n",
       "\n",
       "                                                Name     Sex   Age  SibSp  \\\n",
       "0                            Braund, Mr. Owen Harris    male  22.0      1   \n",
       "1  Cumings, Mrs. John Bradley (Florence Briggs Th...  female  38.0      1   \n",
       "2                             Heikkinen, Miss. Laina  female  26.0      0   \n",
       "3       Futrelle, Mrs. Jacques Heath (Lily May Peel)  female  35.0      1   \n",
       "4                           Allen, Mr. William Henry    male  35.0      0   \n",
       "\n",
       "   Parch            Ticket     Fare Cabin Embarked  \n",
       "0      0         A/5 21171   7.2500   NaN        S  \n",
       "1      0          PC 17599  71.2833   C85        C  \n",
       "2      0  STON/O2. 3101282   7.9250   NaN        S  \n",
       "3      0            113803  53.1000  C123        S  \n",
       "4      0            373450   8.0500   NaN        S  "
      ]
     },
     "execution_count": 3,
     "metadata": {},
     "output_type": "execute_result"
    }
   ],
   "source": [
    "train_data.head()"
   ]
  },
  {
   "cell_type": "code",
   "execution_count": 4,
   "id": "e7a310fd",
   "metadata": {
    "execution": {
     "iopub.execute_input": "2023-06-20T03:21:47.802643Z",
     "iopub.status.busy": "2023-06-20T03:21:47.802182Z",
     "iopub.status.idle": "2023-06-20T03:21:47.818370Z",
     "shell.execute_reply": "2023-06-20T03:21:47.817346Z"
    },
    "papermill": {
     "duration": 0.025921,
     "end_time": "2023-06-20T03:21:47.820745",
     "exception": false,
     "start_time": "2023-06-20T03:21:47.794824",
     "status": "completed"
    },
    "tags": []
   },
   "outputs": [],
   "source": [
    "test_data = pd.read_csv(\"/kaggle/input/titanic/test.csv\")"
   ]
  },
  {
   "cell_type": "code",
   "execution_count": 5,
   "id": "7d671404",
   "metadata": {
    "execution": {
     "iopub.execute_input": "2023-06-20T03:21:47.835039Z",
     "iopub.status.busy": "2023-06-20T03:21:47.834738Z",
     "iopub.status.idle": "2023-06-20T03:21:47.847470Z",
     "shell.execute_reply": "2023-06-20T03:21:47.845878Z"
    },
    "papermill": {
     "duration": 0.021584,
     "end_time": "2023-06-20T03:21:47.849054",
     "exception": false,
     "start_time": "2023-06-20T03:21:47.827470",
     "status": "completed"
    },
    "tags": []
   },
   "outputs": [
    {
     "name": "stdout",
     "output_type": "stream",
     "text": [
      "% of women who survived: 0.7420382165605095\n"
     ]
    }
   ],
   "source": [
    "women = train_data.loc[train_data.Sex == 'female'][\"Survived\"]\n",
    "rate_women = sum(women)/len(women)\n",
    "\n",
    "print(\"% of women who survived:\", rate_women)"
   ]
  },
  {
   "cell_type": "code",
   "execution_count": 6,
   "id": "00afaafd",
   "metadata": {
    "execution": {
     "iopub.execute_input": "2023-06-20T03:21:47.863845Z",
     "iopub.status.busy": "2023-06-20T03:21:47.862575Z",
     "iopub.status.idle": "2023-06-20T03:21:47.869956Z",
     "shell.execute_reply": "2023-06-20T03:21:47.868855Z"
    },
    "papermill": {
     "duration": 0.016226,
     "end_time": "2023-06-20T03:21:47.871655",
     "exception": false,
     "start_time": "2023-06-20T03:21:47.855429",
     "status": "completed"
    },
    "tags": []
   },
   "outputs": [
    {
     "name": "stdout",
     "output_type": "stream",
     "text": [
      "% of men who survived: 0.18890814558058924\n"
     ]
    }
   ],
   "source": [
    "men = train_data.loc[train_data.Sex == 'male'][\"Survived\"]\n",
    "rate_men = sum(men)/len(men)\n",
    "\n",
    "print(\"% of men who survived:\", rate_men)"
   ]
  },
  {
   "cell_type": "code",
   "execution_count": 7,
   "id": "5fa14b96",
   "metadata": {
    "execution": {
     "iopub.execute_input": "2023-06-20T03:21:47.885825Z",
     "iopub.status.busy": "2023-06-20T03:21:47.885465Z",
     "iopub.status.idle": "2023-06-20T03:21:47.891701Z",
     "shell.execute_reply": "2023-06-20T03:21:47.890048Z"
    },
    "papermill": {
     "duration": 0.016016,
     "end_time": "2023-06-20T03:21:47.894000",
     "exception": false,
     "start_time": "2023-06-20T03:21:47.877984",
     "status": "completed"
    },
    "tags": []
   },
   "outputs": [
    {
     "name": "stdout",
     "output_type": "stream",
     "text": [
      "% of women who survived: 0.7420382165605095\n",
      "% of men who survived: 0.18890814558058924\n"
     ]
    }
   ],
   "source": [
    "print(\"% of women who survived:\", rate_women)\n",
    "print(\"% of men who survived:\", rate_men)"
   ]
  },
  {
   "cell_type": "code",
   "execution_count": 8,
   "id": "cb27fff0",
   "metadata": {
    "execution": {
     "iopub.execute_input": "2023-06-20T03:21:47.909355Z",
     "iopub.status.busy": "2023-06-20T03:21:47.908863Z",
     "iopub.status.idle": "2023-06-20T03:21:49.680226Z",
     "shell.execute_reply": "2023-06-20T03:21:49.679541Z"
    },
    "papermill": {
     "duration": 1.781182,
     "end_time": "2023-06-20T03:21:49.682394",
     "exception": false,
     "start_time": "2023-06-20T03:21:47.901212",
     "status": "completed"
    },
    "tags": []
   },
   "outputs": [],
   "source": [
    "from sklearn.impute import SimpleImputer\n",
    "from sklearn.compose import ColumnTransformer\n",
    "from sklearn.preprocessing import OrdinalEncoder, OneHotEncoder\n",
    "from sklearn.pipeline import Pipeline,make_pipeline\n",
    "from sklearn.ensemble import RandomForestClassifier\n",
    "from sklearn.feature_selection import SelectKBest,chi2"
   ]
  },
  {
   "cell_type": "code",
   "execution_count": 9,
   "id": "0fe854a4",
   "metadata": {
    "execution": {
     "iopub.execute_input": "2023-06-20T03:21:49.699389Z",
     "iopub.status.busy": "2023-06-20T03:21:49.698502Z",
     "iopub.status.idle": "2023-06-20T03:21:49.708460Z",
     "shell.execute_reply": "2023-06-20T03:21:49.707438Z"
    },
    "papermill": {
     "duration": 0.021204,
     "end_time": "2023-06-20T03:21:49.710503",
     "exception": false,
     "start_time": "2023-06-20T03:21:49.689299",
     "status": "completed"
    },
    "tags": []
   },
   "outputs": [
    {
     "data": {
      "text/plain": [
       "PassengerId     0.000000\n",
       "Survived        0.000000\n",
       "Pclass          0.000000\n",
       "Name            0.000000\n",
       "Sex             0.000000\n",
       "Age            19.865320\n",
       "SibSp           0.000000\n",
       "Parch           0.000000\n",
       "Ticket          0.000000\n",
       "Fare            0.000000\n",
       "Cabin          77.104377\n",
       "Embarked        0.224467\n",
       "dtype: float64"
      ]
     },
     "execution_count": 9,
     "metadata": {},
     "output_type": "execute_result"
    }
   ],
   "source": [
    "train_data.isnull().mean()*100"
   ]
  },
  {
   "cell_type": "code",
   "execution_count": 10,
   "id": "0ffd6570",
   "metadata": {
    "execution": {
     "iopub.execute_input": "2023-06-20T03:21:49.726394Z",
     "iopub.status.busy": "2023-06-20T03:21:49.726042Z",
     "iopub.status.idle": "2023-06-20T03:21:49.734778Z",
     "shell.execute_reply": "2023-06-20T03:21:49.733791Z"
    },
    "papermill": {
     "duration": 0.01876,
     "end_time": "2023-06-20T03:21:49.736514",
     "exception": false,
     "start_time": "2023-06-20T03:21:49.717754",
     "status": "completed"
    },
    "tags": []
   },
   "outputs": [
    {
     "data": {
      "text/plain": [
       "PassengerId     0.000000\n",
       "Pclass          0.000000\n",
       "Name            0.000000\n",
       "Sex             0.000000\n",
       "Age            20.574163\n",
       "SibSp           0.000000\n",
       "Parch           0.000000\n",
       "Ticket          0.000000\n",
       "Fare            0.239234\n",
       "Cabin          78.229665\n",
       "Embarked        0.000000\n",
       "dtype: float64"
      ]
     },
     "execution_count": 10,
     "metadata": {},
     "output_type": "execute_result"
    }
   ],
   "source": [
    "test_data.isnull().mean()*100"
   ]
  },
  {
   "cell_type": "code",
   "execution_count": 11,
   "id": "a1f690fb",
   "metadata": {
    "execution": {
     "iopub.execute_input": "2023-06-20T03:21:49.751517Z",
     "iopub.status.busy": "2023-06-20T03:21:49.751202Z",
     "iopub.status.idle": "2023-06-20T03:21:49.760779Z",
     "shell.execute_reply": "2023-06-20T03:21:49.759627Z"
    },
    "papermill": {
     "duration": 0.018962,
     "end_time": "2023-06-20T03:21:49.762561",
     "exception": false,
     "start_time": "2023-06-20T03:21:49.743599",
     "status": "completed"
    },
    "tags": []
   },
   "outputs": [],
   "source": [
    "train_data.drop(\"Cabin\", axis = 1, inplace=True)\n",
    "test_data.drop(\"Cabin\", axis = 1, inplace=True)"
   ]
  },
  {
   "cell_type": "code",
   "execution_count": 12,
   "id": "8d75020e",
   "metadata": {
    "execution": {
     "iopub.execute_input": "2023-06-20T03:21:49.778926Z",
     "iopub.status.busy": "2023-06-20T03:21:49.778397Z",
     "iopub.status.idle": "2023-06-20T03:21:49.782645Z",
     "shell.execute_reply": "2023-06-20T03:21:49.781807Z"
    },
    "papermill": {
     "duration": 0.014773,
     "end_time": "2023-06-20T03:21:49.784418",
     "exception": false,
     "start_time": "2023-06-20T03:21:49.769645",
     "status": "completed"
    },
    "tags": []
   },
   "outputs": [],
   "source": [
    "si = SimpleImputer()\n",
    "oe = OrdinalEncoder(handle_unknown=\"ignore\")\n",
    "ohe = OneHotEncoder(handle_unknown=\"ignore\", sparse=False)"
   ]
  },
  {
   "cell_type": "code",
   "execution_count": 13,
   "id": "a80934ac",
   "metadata": {
    "execution": {
     "iopub.execute_input": "2023-06-20T03:21:49.800632Z",
     "iopub.status.busy": "2023-06-20T03:21:49.799409Z",
     "iopub.status.idle": "2023-06-20T03:21:49.807184Z",
     "shell.execute_reply": "2023-06-20T03:21:49.806132Z"
    },
    "papermill": {
     "duration": 0.017855,
     "end_time": "2023-06-20T03:21:49.809399",
     "exception": false,
     "start_time": "2023-06-20T03:21:49.791544",
     "status": "completed"
    },
    "tags": []
   },
   "outputs": [],
   "source": [
    "train_data[\"family\"] = train_data[\"SibSp\"]+train_data[\"Parch\"]+1\n",
    "test_data[\"family\"] = test_data[\"SibSp\"]+test_data[\"Parch\"]+1\n"
   ]
  },
  {
   "cell_type": "code",
   "execution_count": 14,
   "id": "ccb06cdb",
   "metadata": {
    "execution": {
     "iopub.execute_input": "2023-06-20T03:21:49.824537Z",
     "iopub.status.busy": "2023-06-20T03:21:49.824187Z",
     "iopub.status.idle": "2023-06-20T03:21:49.838317Z",
     "shell.execute_reply": "2023-06-20T03:21:49.837319Z"
    },
    "papermill": {
     "duration": 0.023481,
     "end_time": "2023-06-20T03:21:49.840041",
     "exception": false,
     "start_time": "2023-06-20T03:21:49.816560",
     "status": "completed"
    },
    "tags": []
   },
   "outputs": [
    {
     "data": {
      "text/html": [
       "<div>\n",
       "<style scoped>\n",
       "    .dataframe tbody tr th:only-of-type {\n",
       "        vertical-align: middle;\n",
       "    }\n",
       "\n",
       "    .dataframe tbody tr th {\n",
       "        vertical-align: top;\n",
       "    }\n",
       "\n",
       "    .dataframe thead th {\n",
       "        text-align: right;\n",
       "    }\n",
       "</style>\n",
       "<table border=\"1\" class=\"dataframe\">\n",
       "  <thead>\n",
       "    <tr style=\"text-align: right;\">\n",
       "      <th></th>\n",
       "      <th>PassengerId</th>\n",
       "      <th>Survived</th>\n",
       "      <th>Pclass</th>\n",
       "      <th>Name</th>\n",
       "      <th>Sex</th>\n",
       "      <th>Age</th>\n",
       "      <th>SibSp</th>\n",
       "      <th>Parch</th>\n",
       "      <th>Ticket</th>\n",
       "      <th>Fare</th>\n",
       "      <th>Embarked</th>\n",
       "      <th>family</th>\n",
       "    </tr>\n",
       "  </thead>\n",
       "  <tbody>\n",
       "    <tr>\n",
       "      <th>0</th>\n",
       "      <td>1</td>\n",
       "      <td>0</td>\n",
       "      <td>3</td>\n",
       "      <td>Braund, Mr. Owen Harris</td>\n",
       "      <td>male</td>\n",
       "      <td>22.0</td>\n",
       "      <td>1</td>\n",
       "      <td>0</td>\n",
       "      <td>A/5 21171</td>\n",
       "      <td>7.2500</td>\n",
       "      <td>S</td>\n",
       "      <td>2</td>\n",
       "    </tr>\n",
       "    <tr>\n",
       "      <th>1</th>\n",
       "      <td>2</td>\n",
       "      <td>1</td>\n",
       "      <td>1</td>\n",
       "      <td>Cumings, Mrs. John Bradley (Florence Briggs Th...</td>\n",
       "      <td>female</td>\n",
       "      <td>38.0</td>\n",
       "      <td>1</td>\n",
       "      <td>0</td>\n",
       "      <td>PC 17599</td>\n",
       "      <td>71.2833</td>\n",
       "      <td>C</td>\n",
       "      <td>2</td>\n",
       "    </tr>\n",
       "    <tr>\n",
       "      <th>2</th>\n",
       "      <td>3</td>\n",
       "      <td>1</td>\n",
       "      <td>3</td>\n",
       "      <td>Heikkinen, Miss. Laina</td>\n",
       "      <td>female</td>\n",
       "      <td>26.0</td>\n",
       "      <td>0</td>\n",
       "      <td>0</td>\n",
       "      <td>STON/O2. 3101282</td>\n",
       "      <td>7.9250</td>\n",
       "      <td>S</td>\n",
       "      <td>1</td>\n",
       "    </tr>\n",
       "    <tr>\n",
       "      <th>3</th>\n",
       "      <td>4</td>\n",
       "      <td>1</td>\n",
       "      <td>1</td>\n",
       "      <td>Futrelle, Mrs. Jacques Heath (Lily May Peel)</td>\n",
       "      <td>female</td>\n",
       "      <td>35.0</td>\n",
       "      <td>1</td>\n",
       "      <td>0</td>\n",
       "      <td>113803</td>\n",
       "      <td>53.1000</td>\n",
       "      <td>S</td>\n",
       "      <td>2</td>\n",
       "    </tr>\n",
       "    <tr>\n",
       "      <th>4</th>\n",
       "      <td>5</td>\n",
       "      <td>0</td>\n",
       "      <td>3</td>\n",
       "      <td>Allen, Mr. William Henry</td>\n",
       "      <td>male</td>\n",
       "      <td>35.0</td>\n",
       "      <td>0</td>\n",
       "      <td>0</td>\n",
       "      <td>373450</td>\n",
       "      <td>8.0500</td>\n",
       "      <td>S</td>\n",
       "      <td>1</td>\n",
       "    </tr>\n",
       "  </tbody>\n",
       "</table>\n",
       "</div>"
      ],
      "text/plain": [
       "   PassengerId  Survived  Pclass  \\\n",
       "0            1         0       3   \n",
       "1            2         1       1   \n",
       "2            3         1       3   \n",
       "3            4         1       1   \n",
       "4            5         0       3   \n",
       "\n",
       "                                                Name     Sex   Age  SibSp  \\\n",
       "0                            Braund, Mr. Owen Harris    male  22.0      1   \n",
       "1  Cumings, Mrs. John Bradley (Florence Briggs Th...  female  38.0      1   \n",
       "2                             Heikkinen, Miss. Laina  female  26.0      0   \n",
       "3       Futrelle, Mrs. Jacques Heath (Lily May Peel)  female  35.0      1   \n",
       "4                           Allen, Mr. William Henry    male  35.0      0   \n",
       "\n",
       "   Parch            Ticket     Fare Embarked  family  \n",
       "0      0         A/5 21171   7.2500        S       2  \n",
       "1      0          PC 17599  71.2833        C       2  \n",
       "2      0  STON/O2. 3101282   7.9250        S       1  \n",
       "3      0            113803  53.1000        S       2  \n",
       "4      0            373450   8.0500        S       1  "
      ]
     },
     "execution_count": 14,
     "metadata": {},
     "output_type": "execute_result"
    }
   ],
   "source": [
    "train_data.head()"
   ]
  },
  {
   "cell_type": "code",
   "execution_count": 15,
   "id": "a25916f5",
   "metadata": {
    "execution": {
     "iopub.execute_input": "2023-06-20T03:21:49.856076Z",
     "iopub.status.busy": "2023-06-20T03:21:49.855257Z",
     "iopub.status.idle": "2023-06-20T03:21:49.869518Z",
     "shell.execute_reply": "2023-06-20T03:21:49.868701Z"
    },
    "papermill": {
     "duration": 0.02447,
     "end_time": "2023-06-20T03:21:49.871643",
     "exception": false,
     "start_time": "2023-06-20T03:21:49.847173",
     "status": "completed"
    },
    "tags": []
   },
   "outputs": [
    {
     "data": {
      "text/html": [
       "<div>\n",
       "<style scoped>\n",
       "    .dataframe tbody tr th:only-of-type {\n",
       "        vertical-align: middle;\n",
       "    }\n",
       "\n",
       "    .dataframe tbody tr th {\n",
       "        vertical-align: top;\n",
       "    }\n",
       "\n",
       "    .dataframe thead th {\n",
       "        text-align: right;\n",
       "    }\n",
       "</style>\n",
       "<table border=\"1\" class=\"dataframe\">\n",
       "  <thead>\n",
       "    <tr style=\"text-align: right;\">\n",
       "      <th></th>\n",
       "      <th>PassengerId</th>\n",
       "      <th>Pclass</th>\n",
       "      <th>Name</th>\n",
       "      <th>Sex</th>\n",
       "      <th>Age</th>\n",
       "      <th>SibSp</th>\n",
       "      <th>Parch</th>\n",
       "      <th>Ticket</th>\n",
       "      <th>Fare</th>\n",
       "      <th>Embarked</th>\n",
       "      <th>family</th>\n",
       "    </tr>\n",
       "  </thead>\n",
       "  <tbody>\n",
       "    <tr>\n",
       "      <th>0</th>\n",
       "      <td>892</td>\n",
       "      <td>3</td>\n",
       "      <td>Kelly, Mr. James</td>\n",
       "      <td>male</td>\n",
       "      <td>34.5</td>\n",
       "      <td>0</td>\n",
       "      <td>0</td>\n",
       "      <td>330911</td>\n",
       "      <td>7.8292</td>\n",
       "      <td>Q</td>\n",
       "      <td>1</td>\n",
       "    </tr>\n",
       "    <tr>\n",
       "      <th>1</th>\n",
       "      <td>893</td>\n",
       "      <td>3</td>\n",
       "      <td>Wilkes, Mrs. James (Ellen Needs)</td>\n",
       "      <td>female</td>\n",
       "      <td>47.0</td>\n",
       "      <td>1</td>\n",
       "      <td>0</td>\n",
       "      <td>363272</td>\n",
       "      <td>7.0000</td>\n",
       "      <td>S</td>\n",
       "      <td>2</td>\n",
       "    </tr>\n",
       "    <tr>\n",
       "      <th>2</th>\n",
       "      <td>894</td>\n",
       "      <td>2</td>\n",
       "      <td>Myles, Mr. Thomas Francis</td>\n",
       "      <td>male</td>\n",
       "      <td>62.0</td>\n",
       "      <td>0</td>\n",
       "      <td>0</td>\n",
       "      <td>240276</td>\n",
       "      <td>9.6875</td>\n",
       "      <td>Q</td>\n",
       "      <td>1</td>\n",
       "    </tr>\n",
       "    <tr>\n",
       "      <th>3</th>\n",
       "      <td>895</td>\n",
       "      <td>3</td>\n",
       "      <td>Wirz, Mr. Albert</td>\n",
       "      <td>male</td>\n",
       "      <td>27.0</td>\n",
       "      <td>0</td>\n",
       "      <td>0</td>\n",
       "      <td>315154</td>\n",
       "      <td>8.6625</td>\n",
       "      <td>S</td>\n",
       "      <td>1</td>\n",
       "    </tr>\n",
       "    <tr>\n",
       "      <th>4</th>\n",
       "      <td>896</td>\n",
       "      <td>3</td>\n",
       "      <td>Hirvonen, Mrs. Alexander (Helga E Lindqvist)</td>\n",
       "      <td>female</td>\n",
       "      <td>22.0</td>\n",
       "      <td>1</td>\n",
       "      <td>1</td>\n",
       "      <td>3101298</td>\n",
       "      <td>12.2875</td>\n",
       "      <td>S</td>\n",
       "      <td>3</td>\n",
       "    </tr>\n",
       "  </tbody>\n",
       "</table>\n",
       "</div>"
      ],
      "text/plain": [
       "   PassengerId  Pclass                                          Name     Sex  \\\n",
       "0          892       3                              Kelly, Mr. James    male   \n",
       "1          893       3              Wilkes, Mrs. James (Ellen Needs)  female   \n",
       "2          894       2                     Myles, Mr. Thomas Francis    male   \n",
       "3          895       3                              Wirz, Mr. Albert    male   \n",
       "4          896       3  Hirvonen, Mrs. Alexander (Helga E Lindqvist)  female   \n",
       "\n",
       "    Age  SibSp  Parch   Ticket     Fare Embarked  family  \n",
       "0  34.5      0      0   330911   7.8292        Q       1  \n",
       "1  47.0      1      0   363272   7.0000        S       2  \n",
       "2  62.0      0      0   240276   9.6875        Q       1  \n",
       "3  27.0      0      0   315154   8.6625        S       1  \n",
       "4  22.0      1      1  3101298  12.2875        S       3  "
      ]
     },
     "execution_count": 15,
     "metadata": {},
     "output_type": "execute_result"
    }
   ],
   "source": [
    "test_data.head()"
   ]
  },
  {
   "cell_type": "code",
   "execution_count": 16,
   "id": "15ca1a71",
   "metadata": {
    "execution": {
     "iopub.execute_input": "2023-06-20T03:21:49.889403Z",
     "iopub.status.busy": "2023-06-20T03:21:49.888176Z",
     "iopub.status.idle": "2023-06-20T03:21:49.896230Z",
     "shell.execute_reply": "2023-06-20T03:21:49.895112Z"
    },
    "papermill": {
     "duration": 0.019078,
     "end_time": "2023-06-20T03:21:49.898121",
     "exception": false,
     "start_time": "2023-06-20T03:21:49.879043",
     "status": "completed"
    },
    "tags": []
   },
   "outputs": [],
   "source": [
    "train_data.drop([\"SibSp\",\"Parch\"],axis = 1, inplace=True)\n",
    "test_data.drop([\"SibSp\",\"Parch\"],axis = 1, inplace=True)\n"
   ]
  },
  {
   "cell_type": "code",
   "execution_count": 17,
   "id": "0e31f05d",
   "metadata": {
    "execution": {
     "iopub.execute_input": "2023-06-20T03:21:49.914309Z",
     "iopub.status.busy": "2023-06-20T03:21:49.913902Z",
     "iopub.status.idle": "2023-06-20T03:21:49.930964Z",
     "shell.execute_reply": "2023-06-20T03:21:49.929638Z"
    },
    "papermill": {
     "duration": 0.02751,
     "end_time": "2023-06-20T03:21:49.933040",
     "exception": false,
     "start_time": "2023-06-20T03:21:49.905530",
     "status": "completed"
    },
    "tags": []
   },
   "outputs": [
    {
     "data": {
      "text/html": [
       "<div>\n",
       "<style scoped>\n",
       "    .dataframe tbody tr th:only-of-type {\n",
       "        vertical-align: middle;\n",
       "    }\n",
       "\n",
       "    .dataframe tbody tr th {\n",
       "        vertical-align: top;\n",
       "    }\n",
       "\n",
       "    .dataframe thead th {\n",
       "        text-align: right;\n",
       "    }\n",
       "</style>\n",
       "<table border=\"1\" class=\"dataframe\">\n",
       "  <thead>\n",
       "    <tr style=\"text-align: right;\">\n",
       "      <th></th>\n",
       "      <th>PassengerId</th>\n",
       "      <th>Survived</th>\n",
       "      <th>Pclass</th>\n",
       "      <th>Name</th>\n",
       "      <th>Sex</th>\n",
       "      <th>Age</th>\n",
       "      <th>Ticket</th>\n",
       "      <th>Fare</th>\n",
       "      <th>Embarked</th>\n",
       "      <th>family</th>\n",
       "    </tr>\n",
       "  </thead>\n",
       "  <tbody>\n",
       "    <tr>\n",
       "      <th>844</th>\n",
       "      <td>845</td>\n",
       "      <td>0</td>\n",
       "      <td>3</td>\n",
       "      <td>Culumovic, Mr. Jeso</td>\n",
       "      <td>male</td>\n",
       "      <td>17.0</td>\n",
       "      <td>315090</td>\n",
       "      <td>8.6625</td>\n",
       "      <td>S</td>\n",
       "      <td>1</td>\n",
       "    </tr>\n",
       "    <tr>\n",
       "      <th>188</th>\n",
       "      <td>189</td>\n",
       "      <td>0</td>\n",
       "      <td>3</td>\n",
       "      <td>Bourke, Mr. John</td>\n",
       "      <td>male</td>\n",
       "      <td>40.0</td>\n",
       "      <td>364849</td>\n",
       "      <td>15.5000</td>\n",
       "      <td>Q</td>\n",
       "      <td>3</td>\n",
       "    </tr>\n",
       "    <tr>\n",
       "      <th>847</th>\n",
       "      <td>848</td>\n",
       "      <td>0</td>\n",
       "      <td>3</td>\n",
       "      <td>Markoff, Mr. Marin</td>\n",
       "      <td>male</td>\n",
       "      <td>35.0</td>\n",
       "      <td>349213</td>\n",
       "      <td>7.8958</td>\n",
       "      <td>C</td>\n",
       "      <td>1</td>\n",
       "    </tr>\n",
       "    <tr>\n",
       "      <th>202</th>\n",
       "      <td>203</td>\n",
       "      <td>0</td>\n",
       "      <td>3</td>\n",
       "      <td>Johanson, Mr. Jakob Alfred</td>\n",
       "      <td>male</td>\n",
       "      <td>34.0</td>\n",
       "      <td>3101264</td>\n",
       "      <td>6.4958</td>\n",
       "      <td>S</td>\n",
       "      <td>1</td>\n",
       "    </tr>\n",
       "    <tr>\n",
       "      <th>792</th>\n",
       "      <td>793</td>\n",
       "      <td>0</td>\n",
       "      <td>3</td>\n",
       "      <td>Sage, Miss. Stella Anna</td>\n",
       "      <td>female</td>\n",
       "      <td>NaN</td>\n",
       "      <td>CA. 2343</td>\n",
       "      <td>69.5500</td>\n",
       "      <td>S</td>\n",
       "      <td>11</td>\n",
       "    </tr>\n",
       "  </tbody>\n",
       "</table>\n",
       "</div>"
      ],
      "text/plain": [
       "     PassengerId  Survived  Pclass                        Name     Sex   Age  \\\n",
       "844          845         0       3         Culumovic, Mr. Jeso    male  17.0   \n",
       "188          189         0       3            Bourke, Mr. John    male  40.0   \n",
       "847          848         0       3          Markoff, Mr. Marin    male  35.0   \n",
       "202          203         0       3  Johanson, Mr. Jakob Alfred    male  34.0   \n",
       "792          793         0       3     Sage, Miss. Stella Anna  female   NaN   \n",
       "\n",
       "       Ticket     Fare Embarked  family  \n",
       "844    315090   8.6625        S       1  \n",
       "188    364849  15.5000        Q       3  \n",
       "847    349213   7.8958        C       1  \n",
       "202   3101264   6.4958        S       1  \n",
       "792  CA. 2343  69.5500        S      11  "
      ]
     },
     "execution_count": 17,
     "metadata": {},
     "output_type": "execute_result"
    }
   ],
   "source": [
    "train_data.sample(5)"
   ]
  },
  {
   "cell_type": "code",
   "execution_count": 18,
   "id": "fff28598",
   "metadata": {
    "execution": {
     "iopub.execute_input": "2023-06-20T03:21:49.949694Z",
     "iopub.status.busy": "2023-06-20T03:21:49.949351Z",
     "iopub.status.idle": "2023-06-20T03:21:49.959094Z",
     "shell.execute_reply": "2023-06-20T03:21:49.957937Z"
    },
    "papermill": {
     "duration": 0.020375,
     "end_time": "2023-06-20T03:21:49.960961",
     "exception": false,
     "start_time": "2023-06-20T03:21:49.940586",
     "status": "completed"
    },
    "tags": []
   },
   "outputs": [],
   "source": [
    "train_data.dropna( subset='Embarked',inplace=True)\n",
    "test_data.dropna( subset='Embarked',inplace=True)"
   ]
  },
  {
   "cell_type": "code",
   "execution_count": 19,
   "id": "e3508245",
   "metadata": {
    "execution": {
     "iopub.execute_input": "2023-06-20T03:21:49.977402Z",
     "iopub.status.busy": "2023-06-20T03:21:49.977002Z",
     "iopub.status.idle": "2023-06-20T03:21:49.985858Z",
     "shell.execute_reply": "2023-06-20T03:21:49.984967Z"
    },
    "papermill": {
     "duration": 0.019214,
     "end_time": "2023-06-20T03:21:49.987471",
     "exception": false,
     "start_time": "2023-06-20T03:21:49.968257",
     "status": "completed"
    },
    "tags": []
   },
   "outputs": [
    {
     "data": {
      "text/plain": [
       "PassengerId      0\n",
       "Survived         0\n",
       "Pclass           0\n",
       "Name             0\n",
       "Sex              0\n",
       "Age            177\n",
       "Ticket           0\n",
       "Fare             0\n",
       "Embarked         0\n",
       "family           0\n",
       "dtype: int64"
      ]
     },
     "execution_count": 19,
     "metadata": {},
     "output_type": "execute_result"
    }
   ],
   "source": [
    "train_data.isnull().sum()"
   ]
  },
  {
   "cell_type": "code",
   "execution_count": 20,
   "id": "cdc8766c",
   "metadata": {
    "execution": {
     "iopub.execute_input": "2023-06-20T03:21:50.004686Z",
     "iopub.status.busy": "2023-06-20T03:21:50.004308Z",
     "iopub.status.idle": "2023-06-20T03:21:50.011066Z",
     "shell.execute_reply": "2023-06-20T03:21:50.010149Z"
    },
    "papermill": {
     "duration": 0.01705,
     "end_time": "2023-06-20T03:21:50.012686",
     "exception": false,
     "start_time": "2023-06-20T03:21:49.995636",
     "status": "completed"
    },
    "tags": []
   },
   "outputs": [],
   "source": [
    "train_data.drop([\"Name\",\"Ticket\",\"Fare\"],axis = 1, inplace=True)\n",
    "test_data.drop([\"Name\",\"Ticket\",\"Fare\"],axis = 1, inplace=True)"
   ]
  },
  {
   "cell_type": "code",
   "execution_count": 21,
   "id": "127711d6",
   "metadata": {
    "execution": {
     "iopub.execute_input": "2023-06-20T03:21:50.031702Z",
     "iopub.status.busy": "2023-06-20T03:21:50.030504Z",
     "iopub.status.idle": "2023-06-20T03:21:50.044836Z",
     "shell.execute_reply": "2023-06-20T03:21:50.043342Z"
    },
    "papermill": {
     "duration": 0.02704,
     "end_time": "2023-06-20T03:21:50.047187",
     "exception": false,
     "start_time": "2023-06-20T03:21:50.020147",
     "status": "completed"
    },
    "tags": []
   },
   "outputs": [
    {
     "data": {
      "text/html": [
       "<div>\n",
       "<style scoped>\n",
       "    .dataframe tbody tr th:only-of-type {\n",
       "        vertical-align: middle;\n",
       "    }\n",
       "\n",
       "    .dataframe tbody tr th {\n",
       "        vertical-align: top;\n",
       "    }\n",
       "\n",
       "    .dataframe thead th {\n",
       "        text-align: right;\n",
       "    }\n",
       "</style>\n",
       "<table border=\"1\" class=\"dataframe\">\n",
       "  <thead>\n",
       "    <tr style=\"text-align: right;\">\n",
       "      <th></th>\n",
       "      <th>PassengerId</th>\n",
       "      <th>Survived</th>\n",
       "      <th>Pclass</th>\n",
       "      <th>Sex</th>\n",
       "      <th>Age</th>\n",
       "      <th>Embarked</th>\n",
       "      <th>family</th>\n",
       "    </tr>\n",
       "  </thead>\n",
       "  <tbody>\n",
       "    <tr>\n",
       "      <th>716</th>\n",
       "      <td>717</td>\n",
       "      <td>1</td>\n",
       "      <td>1</td>\n",
       "      <td>female</td>\n",
       "      <td>38.0</td>\n",
       "      <td>C</td>\n",
       "      <td>1</td>\n",
       "    </tr>\n",
       "    <tr>\n",
       "      <th>513</th>\n",
       "      <td>514</td>\n",
       "      <td>1</td>\n",
       "      <td>1</td>\n",
       "      <td>female</td>\n",
       "      <td>54.0</td>\n",
       "      <td>C</td>\n",
       "      <td>2</td>\n",
       "    </tr>\n",
       "    <tr>\n",
       "      <th>675</th>\n",
       "      <td>676</td>\n",
       "      <td>0</td>\n",
       "      <td>3</td>\n",
       "      <td>male</td>\n",
       "      <td>18.0</td>\n",
       "      <td>S</td>\n",
       "      <td>1</td>\n",
       "    </tr>\n",
       "    <tr>\n",
       "      <th>30</th>\n",
       "      <td>31</td>\n",
       "      <td>0</td>\n",
       "      <td>1</td>\n",
       "      <td>male</td>\n",
       "      <td>40.0</td>\n",
       "      <td>C</td>\n",
       "      <td>1</td>\n",
       "    </tr>\n",
       "    <tr>\n",
       "      <th>141</th>\n",
       "      <td>142</td>\n",
       "      <td>1</td>\n",
       "      <td>3</td>\n",
       "      <td>female</td>\n",
       "      <td>22.0</td>\n",
       "      <td>S</td>\n",
       "      <td>1</td>\n",
       "    </tr>\n",
       "  </tbody>\n",
       "</table>\n",
       "</div>"
      ],
      "text/plain": [
       "     PassengerId  Survived  Pclass     Sex   Age Embarked  family\n",
       "716          717         1       1  female  38.0        C       1\n",
       "513          514         1       1  female  54.0        C       2\n",
       "675          676         0       3    male  18.0        S       1\n",
       "30            31         0       1    male  40.0        C       1\n",
       "141          142         1       3  female  22.0        S       1"
      ]
     },
     "execution_count": 21,
     "metadata": {},
     "output_type": "execute_result"
    }
   ],
   "source": [
    "train_data.sample(5)"
   ]
  },
  {
   "cell_type": "code",
   "execution_count": 22,
   "id": "2ad6c311",
   "metadata": {
    "execution": {
     "iopub.execute_input": "2023-06-20T03:21:50.063830Z",
     "iopub.status.busy": "2023-06-20T03:21:50.063503Z",
     "iopub.status.idle": "2023-06-20T03:21:50.075433Z",
     "shell.execute_reply": "2023-06-20T03:21:50.074235Z"
    },
    "papermill": {
     "duration": 0.022419,
     "end_time": "2023-06-20T03:21:50.077478",
     "exception": false,
     "start_time": "2023-06-20T03:21:50.055059",
     "status": "completed"
    },
    "tags": []
   },
   "outputs": [
    {
     "data": {
      "text/html": [
       "<div>\n",
       "<style scoped>\n",
       "    .dataframe tbody tr th:only-of-type {\n",
       "        vertical-align: middle;\n",
       "    }\n",
       "\n",
       "    .dataframe tbody tr th {\n",
       "        vertical-align: top;\n",
       "    }\n",
       "\n",
       "    .dataframe thead th {\n",
       "        text-align: right;\n",
       "    }\n",
       "</style>\n",
       "<table border=\"1\" class=\"dataframe\">\n",
       "  <thead>\n",
       "    <tr style=\"text-align: right;\">\n",
       "      <th></th>\n",
       "      <th>PassengerId</th>\n",
       "      <th>Pclass</th>\n",
       "      <th>Sex</th>\n",
       "      <th>Age</th>\n",
       "      <th>Embarked</th>\n",
       "      <th>family</th>\n",
       "    </tr>\n",
       "  </thead>\n",
       "  <tbody>\n",
       "    <tr>\n",
       "      <th>0</th>\n",
       "      <td>892</td>\n",
       "      <td>3</td>\n",
       "      <td>male</td>\n",
       "      <td>34.5</td>\n",
       "      <td>Q</td>\n",
       "      <td>1</td>\n",
       "    </tr>\n",
       "    <tr>\n",
       "      <th>1</th>\n",
       "      <td>893</td>\n",
       "      <td>3</td>\n",
       "      <td>female</td>\n",
       "      <td>47.0</td>\n",
       "      <td>S</td>\n",
       "      <td>2</td>\n",
       "    </tr>\n",
       "    <tr>\n",
       "      <th>2</th>\n",
       "      <td>894</td>\n",
       "      <td>2</td>\n",
       "      <td>male</td>\n",
       "      <td>62.0</td>\n",
       "      <td>Q</td>\n",
       "      <td>1</td>\n",
       "    </tr>\n",
       "    <tr>\n",
       "      <th>3</th>\n",
       "      <td>895</td>\n",
       "      <td>3</td>\n",
       "      <td>male</td>\n",
       "      <td>27.0</td>\n",
       "      <td>S</td>\n",
       "      <td>1</td>\n",
       "    </tr>\n",
       "    <tr>\n",
       "      <th>4</th>\n",
       "      <td>896</td>\n",
       "      <td>3</td>\n",
       "      <td>female</td>\n",
       "      <td>22.0</td>\n",
       "      <td>S</td>\n",
       "      <td>3</td>\n",
       "    </tr>\n",
       "  </tbody>\n",
       "</table>\n",
       "</div>"
      ],
      "text/plain": [
       "   PassengerId  Pclass     Sex   Age Embarked  family\n",
       "0          892       3    male  34.5        Q       1\n",
       "1          893       3  female  47.0        S       2\n",
       "2          894       2    male  62.0        Q       1\n",
       "3          895       3    male  27.0        S       1\n",
       "4          896       3  female  22.0        S       3"
      ]
     },
     "execution_count": 22,
     "metadata": {},
     "output_type": "execute_result"
    }
   ],
   "source": [
    "test_data.head()"
   ]
  },
  {
   "cell_type": "code",
   "execution_count": 23,
   "id": "71fdf7a3",
   "metadata": {
    "execution": {
     "iopub.execute_input": "2023-06-20T03:21:50.096252Z",
     "iopub.status.busy": "2023-06-20T03:21:50.095915Z",
     "iopub.status.idle": "2023-06-20T03:21:50.102028Z",
     "shell.execute_reply": "2023-06-20T03:21:50.101141Z"
    },
    "papermill": {
     "duration": 0.017536,
     "end_time": "2023-06-20T03:21:50.103775",
     "exception": false,
     "start_time": "2023-06-20T03:21:50.086239",
     "status": "completed"
    },
    "tags": []
   },
   "outputs": [],
   "source": [
    "X_train = train_data.drop([\"Survived\",\"PassengerId\"],axis = 1)\n",
    "y_train = train_data[\"Survived\"]\n",
    "X_test  = test_data.drop(\"PassengerId\",axis = 1)\n"
   ]
  },
  {
   "cell_type": "code",
   "execution_count": 24,
   "id": "7dd8bd60",
   "metadata": {
    "execution": {
     "iopub.execute_input": "2023-06-20T03:21:50.120755Z",
     "iopub.status.busy": "2023-06-20T03:21:50.120489Z",
     "iopub.status.idle": "2023-06-20T03:21:50.125035Z",
     "shell.execute_reply": "2023-06-20T03:21:50.124158Z"
    },
    "papermill": {
     "duration": 0.015248,
     "end_time": "2023-06-20T03:21:50.126927",
     "exception": false,
     "start_time": "2023-06-20T03:21:50.111679",
     "status": "completed"
    },
    "tags": []
   },
   "outputs": [],
   "source": [
    "trf = ColumnTransformer(transformers=[(\"age_imputation\",si,[\"Age\"]),\n",
    "                                      (\"Sex\",ohe,[\"Sex\",\"Embarked\"])],remainder=\"passthrough\")"
   ]
  },
  {
   "cell_type": "code",
   "execution_count": 25,
   "id": "d52757de",
   "metadata": {
    "execution": {
     "iopub.execute_input": "2023-06-20T03:21:50.143686Z",
     "iopub.status.busy": "2023-06-20T03:21:50.143399Z",
     "iopub.status.idle": "2023-06-20T03:21:50.147454Z",
     "shell.execute_reply": "2023-06-20T03:21:50.146652Z"
    },
    "papermill": {
     "duration": 0.014314,
     "end_time": "2023-06-20T03:21:50.148991",
     "exception": false,
     "start_time": "2023-06-20T03:21:50.134677",
     "status": "completed"
    },
    "tags": []
   },
   "outputs": [],
   "source": [
    "trf1 = RandomForestClassifier(n_estimators=200,criterion = \"entropy\",max_depth=5)"
   ]
  },
  {
   "cell_type": "code",
   "execution_count": 26,
   "id": "e34185c1",
   "metadata": {
    "execution": {
     "iopub.execute_input": "2023-06-20T03:21:50.165610Z",
     "iopub.status.busy": "2023-06-20T03:21:50.165226Z",
     "iopub.status.idle": "2023-06-20T03:21:50.169698Z",
     "shell.execute_reply": "2023-06-20T03:21:50.168802Z"
    },
    "papermill": {
     "duration": 0.014787,
     "end_time": "2023-06-20T03:21:50.171387",
     "exception": false,
     "start_time": "2023-06-20T03:21:50.156600",
     "status": "completed"
    },
    "tags": []
   },
   "outputs": [],
   "source": [
    "trf2 = SelectKBest(score_func=chi2, k=5)"
   ]
  },
  {
   "cell_type": "code",
   "execution_count": 27,
   "id": "d3679b3a",
   "metadata": {
    "execution": {
     "iopub.execute_input": "2023-06-20T03:21:50.190063Z",
     "iopub.status.busy": "2023-06-20T03:21:50.189752Z",
     "iopub.status.idle": "2023-06-20T03:21:50.194061Z",
     "shell.execute_reply": "2023-06-20T03:21:50.193152Z"
    },
    "papermill": {
     "duration": 0.016121,
     "end_time": "2023-06-20T03:21:50.195792",
     "exception": false,
     "start_time": "2023-06-20T03:21:50.179671",
     "status": "completed"
    },
    "tags": []
   },
   "outputs": [],
   "source": [
    "pipe = Pipeline(steps=[(\"trf\",trf),(\"trf2\",trf2)\n",
    "               ,(\"trf1\",trf1)])"
   ]
  },
  {
   "cell_type": "code",
   "execution_count": 28,
   "id": "f23b70d5",
   "metadata": {
    "execution": {
     "iopub.execute_input": "2023-06-20T03:21:50.212903Z",
     "iopub.status.busy": "2023-06-20T03:21:50.212516Z",
     "iopub.status.idle": "2023-06-20T03:21:50.589286Z",
     "shell.execute_reply": "2023-06-20T03:21:50.588462Z"
    },
    "papermill": {
     "duration": 0.387309,
     "end_time": "2023-06-20T03:21:50.591080",
     "exception": false,
     "start_time": "2023-06-20T03:21:50.203771",
     "status": "completed"
    },
    "tags": []
   },
   "outputs": [
    {
     "name": "stderr",
     "output_type": "stream",
     "text": [
      "/opt/conda/lib/python3.10/site-packages/sklearn/preprocessing/_encoders.py:868: FutureWarning: `sparse` was renamed to `sparse_output` in version 1.2 and will be removed in 1.4. `sparse_output` is ignored unless you leave `sparse` to its default value.\n",
      "  warnings.warn(\n"
     ]
    },
    {
     "data": {
      "text/html": [
       "<style>#sk-container-id-1 {color: black;background-color: white;}#sk-container-id-1 pre{padding: 0;}#sk-container-id-1 div.sk-toggleable {background-color: white;}#sk-container-id-1 label.sk-toggleable__label {cursor: pointer;display: block;width: 100%;margin-bottom: 0;padding: 0.3em;box-sizing: border-box;text-align: center;}#sk-container-id-1 label.sk-toggleable__label-arrow:before {content: \"▸\";float: left;margin-right: 0.25em;color: #696969;}#sk-container-id-1 label.sk-toggleable__label-arrow:hover:before {color: black;}#sk-container-id-1 div.sk-estimator:hover label.sk-toggleable__label-arrow:before {color: black;}#sk-container-id-1 div.sk-toggleable__content {max-height: 0;max-width: 0;overflow: hidden;text-align: left;background-color: #f0f8ff;}#sk-container-id-1 div.sk-toggleable__content pre {margin: 0.2em;color: black;border-radius: 0.25em;background-color: #f0f8ff;}#sk-container-id-1 input.sk-toggleable__control:checked~div.sk-toggleable__content {max-height: 200px;max-width: 100%;overflow: auto;}#sk-container-id-1 input.sk-toggleable__control:checked~label.sk-toggleable__label-arrow:before {content: \"▾\";}#sk-container-id-1 div.sk-estimator input.sk-toggleable__control:checked~label.sk-toggleable__label {background-color: #d4ebff;}#sk-container-id-1 div.sk-label input.sk-toggleable__control:checked~label.sk-toggleable__label {background-color: #d4ebff;}#sk-container-id-1 input.sk-hidden--visually {border: 0;clip: rect(1px 1px 1px 1px);clip: rect(1px, 1px, 1px, 1px);height: 1px;margin: -1px;overflow: hidden;padding: 0;position: absolute;width: 1px;}#sk-container-id-1 div.sk-estimator {font-family: monospace;background-color: #f0f8ff;border: 1px dotted black;border-radius: 0.25em;box-sizing: border-box;margin-bottom: 0.5em;}#sk-container-id-1 div.sk-estimator:hover {background-color: #d4ebff;}#sk-container-id-1 div.sk-parallel-item::after {content: \"\";width: 100%;border-bottom: 1px solid gray;flex-grow: 1;}#sk-container-id-1 div.sk-label:hover label.sk-toggleable__label {background-color: #d4ebff;}#sk-container-id-1 div.sk-serial::before {content: \"\";position: absolute;border-left: 1px solid gray;box-sizing: border-box;top: 0;bottom: 0;left: 50%;z-index: 0;}#sk-container-id-1 div.sk-serial {display: flex;flex-direction: column;align-items: center;background-color: white;padding-right: 0.2em;padding-left: 0.2em;position: relative;}#sk-container-id-1 div.sk-item {position: relative;z-index: 1;}#sk-container-id-1 div.sk-parallel {display: flex;align-items: stretch;justify-content: center;background-color: white;position: relative;}#sk-container-id-1 div.sk-item::before, #sk-container-id-1 div.sk-parallel-item::before {content: \"\";position: absolute;border-left: 1px solid gray;box-sizing: border-box;top: 0;bottom: 0;left: 50%;z-index: -1;}#sk-container-id-1 div.sk-parallel-item {display: flex;flex-direction: column;z-index: 1;position: relative;background-color: white;}#sk-container-id-1 div.sk-parallel-item:first-child::after {align-self: flex-end;width: 50%;}#sk-container-id-1 div.sk-parallel-item:last-child::after {align-self: flex-start;width: 50%;}#sk-container-id-1 div.sk-parallel-item:only-child::after {width: 0;}#sk-container-id-1 div.sk-dashed-wrapped {border: 1px dashed gray;margin: 0 0.4em 0.5em 0.4em;box-sizing: border-box;padding-bottom: 0.4em;background-color: white;}#sk-container-id-1 div.sk-label label {font-family: monospace;font-weight: bold;display: inline-block;line-height: 1.2em;}#sk-container-id-1 div.sk-label-container {text-align: center;}#sk-container-id-1 div.sk-container {/* jupyter's `normalize.less` sets `[hidden] { display: none; }` but bootstrap.min.css set `[hidden] { display: none !important; }` so we also need the `!important` here to be able to override the default hidden behavior on the sphinx rendered scikit-learn.org. See: https://github.com/scikit-learn/scikit-learn/issues/21755 */display: inline-block !important;position: relative;}#sk-container-id-1 div.sk-text-repr-fallback {display: none;}</style><div id=\"sk-container-id-1\" class=\"sk-top-container\"><div class=\"sk-text-repr-fallback\"><pre>Pipeline(steps=[(&#x27;trf&#x27;,\n",
       "                 ColumnTransformer(remainder=&#x27;passthrough&#x27;,\n",
       "                                   transformers=[(&#x27;age_imputation&#x27;,\n",
       "                                                  SimpleImputer(), [&#x27;Age&#x27;]),\n",
       "                                                 (&#x27;Sex&#x27;,\n",
       "                                                  OneHotEncoder(handle_unknown=&#x27;ignore&#x27;,\n",
       "                                                                sparse=False),\n",
       "                                                  [&#x27;Sex&#x27;, &#x27;Embarked&#x27;])])),\n",
       "                (&#x27;trf2&#x27;,\n",
       "                 SelectKBest(k=5,\n",
       "                             score_func=&lt;function chi2 at 0x7c34e0d99ab0&gt;)),\n",
       "                (&#x27;trf1&#x27;,\n",
       "                 RandomForestClassifier(criterion=&#x27;entropy&#x27;, max_depth=5,\n",
       "                                        n_estimators=200))])</pre><b>In a Jupyter environment, please rerun this cell to show the HTML representation or trust the notebook. <br />On GitHub, the HTML representation is unable to render, please try loading this page with nbviewer.org.</b></div><div class=\"sk-container\" hidden><div class=\"sk-item sk-dashed-wrapped\"><div class=\"sk-label-container\"><div class=\"sk-label sk-toggleable\"><input class=\"sk-toggleable__control sk-hidden--visually\" id=\"sk-estimator-id-1\" type=\"checkbox\" ><label for=\"sk-estimator-id-1\" class=\"sk-toggleable__label sk-toggleable__label-arrow\">Pipeline</label><div class=\"sk-toggleable__content\"><pre>Pipeline(steps=[(&#x27;trf&#x27;,\n",
       "                 ColumnTransformer(remainder=&#x27;passthrough&#x27;,\n",
       "                                   transformers=[(&#x27;age_imputation&#x27;,\n",
       "                                                  SimpleImputer(), [&#x27;Age&#x27;]),\n",
       "                                                 (&#x27;Sex&#x27;,\n",
       "                                                  OneHotEncoder(handle_unknown=&#x27;ignore&#x27;,\n",
       "                                                                sparse=False),\n",
       "                                                  [&#x27;Sex&#x27;, &#x27;Embarked&#x27;])])),\n",
       "                (&#x27;trf2&#x27;,\n",
       "                 SelectKBest(k=5,\n",
       "                             score_func=&lt;function chi2 at 0x7c34e0d99ab0&gt;)),\n",
       "                (&#x27;trf1&#x27;,\n",
       "                 RandomForestClassifier(criterion=&#x27;entropy&#x27;, max_depth=5,\n",
       "                                        n_estimators=200))])</pre></div></div></div><div class=\"sk-serial\"><div class=\"sk-item sk-dashed-wrapped\"><div class=\"sk-label-container\"><div class=\"sk-label sk-toggleable\"><input class=\"sk-toggleable__control sk-hidden--visually\" id=\"sk-estimator-id-2\" type=\"checkbox\" ><label for=\"sk-estimator-id-2\" class=\"sk-toggleable__label sk-toggleable__label-arrow\">trf: ColumnTransformer</label><div class=\"sk-toggleable__content\"><pre>ColumnTransformer(remainder=&#x27;passthrough&#x27;,\n",
       "                  transformers=[(&#x27;age_imputation&#x27;, SimpleImputer(), [&#x27;Age&#x27;]),\n",
       "                                (&#x27;Sex&#x27;,\n",
       "                                 OneHotEncoder(handle_unknown=&#x27;ignore&#x27;,\n",
       "                                               sparse=False),\n",
       "                                 [&#x27;Sex&#x27;, &#x27;Embarked&#x27;])])</pre></div></div></div><div class=\"sk-parallel\"><div class=\"sk-parallel-item\"><div class=\"sk-item\"><div class=\"sk-label-container\"><div class=\"sk-label sk-toggleable\"><input class=\"sk-toggleable__control sk-hidden--visually\" id=\"sk-estimator-id-3\" type=\"checkbox\" ><label for=\"sk-estimator-id-3\" class=\"sk-toggleable__label sk-toggleable__label-arrow\">age_imputation</label><div class=\"sk-toggleable__content\"><pre>[&#x27;Age&#x27;]</pre></div></div></div><div class=\"sk-serial\"><div class=\"sk-item\"><div class=\"sk-estimator sk-toggleable\"><input class=\"sk-toggleable__control sk-hidden--visually\" id=\"sk-estimator-id-4\" type=\"checkbox\" ><label for=\"sk-estimator-id-4\" class=\"sk-toggleable__label sk-toggleable__label-arrow\">SimpleImputer</label><div class=\"sk-toggleable__content\"><pre>SimpleImputer()</pre></div></div></div></div></div></div><div class=\"sk-parallel-item\"><div class=\"sk-item\"><div class=\"sk-label-container\"><div class=\"sk-label sk-toggleable\"><input class=\"sk-toggleable__control sk-hidden--visually\" id=\"sk-estimator-id-5\" type=\"checkbox\" ><label for=\"sk-estimator-id-5\" class=\"sk-toggleable__label sk-toggleable__label-arrow\">Sex</label><div class=\"sk-toggleable__content\"><pre>[&#x27;Sex&#x27;, &#x27;Embarked&#x27;]</pre></div></div></div><div class=\"sk-serial\"><div class=\"sk-item\"><div class=\"sk-estimator sk-toggleable\"><input class=\"sk-toggleable__control sk-hidden--visually\" id=\"sk-estimator-id-6\" type=\"checkbox\" ><label for=\"sk-estimator-id-6\" class=\"sk-toggleable__label sk-toggleable__label-arrow\">OneHotEncoder</label><div class=\"sk-toggleable__content\"><pre>OneHotEncoder(handle_unknown=&#x27;ignore&#x27;, sparse=False)</pre></div></div></div></div></div></div><div class=\"sk-parallel-item\"><div class=\"sk-item\"><div class=\"sk-label-container\"><div class=\"sk-label sk-toggleable\"><input class=\"sk-toggleable__control sk-hidden--visually\" id=\"sk-estimator-id-7\" type=\"checkbox\" ><label for=\"sk-estimator-id-7\" class=\"sk-toggleable__label sk-toggleable__label-arrow\">remainder</label><div class=\"sk-toggleable__content\"><pre>[&#x27;Pclass&#x27;, &#x27;family&#x27;]</pre></div></div></div><div class=\"sk-serial\"><div class=\"sk-item\"><div class=\"sk-estimator sk-toggleable\"><input class=\"sk-toggleable__control sk-hidden--visually\" id=\"sk-estimator-id-8\" type=\"checkbox\" ><label for=\"sk-estimator-id-8\" class=\"sk-toggleable__label sk-toggleable__label-arrow\">passthrough</label><div class=\"sk-toggleable__content\"><pre>passthrough</pre></div></div></div></div></div></div></div></div><div class=\"sk-item\"><div class=\"sk-estimator sk-toggleable\"><input class=\"sk-toggleable__control sk-hidden--visually\" id=\"sk-estimator-id-9\" type=\"checkbox\" ><label for=\"sk-estimator-id-9\" class=\"sk-toggleable__label sk-toggleable__label-arrow\">SelectKBest</label><div class=\"sk-toggleable__content\"><pre>SelectKBest(k=5, score_func=&lt;function chi2 at 0x7c34e0d99ab0&gt;)</pre></div></div></div><div class=\"sk-item\"><div class=\"sk-estimator sk-toggleable\"><input class=\"sk-toggleable__control sk-hidden--visually\" id=\"sk-estimator-id-10\" type=\"checkbox\" ><label for=\"sk-estimator-id-10\" class=\"sk-toggleable__label sk-toggleable__label-arrow\">RandomForestClassifier</label><div class=\"sk-toggleable__content\"><pre>RandomForestClassifier(criterion=&#x27;entropy&#x27;, max_depth=5, n_estimators=200)</pre></div></div></div></div></div></div></div>"
      ],
      "text/plain": [
       "Pipeline(steps=[('trf',\n",
       "                 ColumnTransformer(remainder='passthrough',\n",
       "                                   transformers=[('age_imputation',\n",
       "                                                  SimpleImputer(), ['Age']),\n",
       "                                                 ('Sex',\n",
       "                                                  OneHotEncoder(handle_unknown='ignore',\n",
       "                                                                sparse=False),\n",
       "                                                  ['Sex', 'Embarked'])])),\n",
       "                ('trf2',\n",
       "                 SelectKBest(k=5,\n",
       "                             score_func=<function chi2 at 0x7c34e0d99ab0>)),\n",
       "                ('trf1',\n",
       "                 RandomForestClassifier(criterion='entropy', max_depth=5,\n",
       "                                        n_estimators=200))])"
      ]
     },
     "execution_count": 28,
     "metadata": {},
     "output_type": "execute_result"
    }
   ],
   "source": [
    "pipe.fit(X_train,y_train)"
   ]
  },
  {
   "cell_type": "code",
   "execution_count": 29,
   "id": "df560655",
   "metadata": {
    "execution": {
     "iopub.execute_input": "2023-06-20T03:21:50.610474Z",
     "iopub.status.busy": "2023-06-20T03:21:50.609940Z",
     "iopub.status.idle": "2023-06-20T03:21:50.648006Z",
     "shell.execute_reply": "2023-06-20T03:21:50.646698Z"
    },
    "papermill": {
     "duration": 0.049757,
     "end_time": "2023-06-20T03:21:50.650145",
     "exception": false,
     "start_time": "2023-06-20T03:21:50.600388",
     "status": "completed"
    },
    "tags": []
   },
   "outputs": [],
   "source": [
    "prediction = pipe.predict(X_test)"
   ]
  },
  {
   "cell_type": "code",
   "execution_count": 30,
   "id": "04ae7642",
   "metadata": {
    "execution": {
     "iopub.execute_input": "2023-06-20T03:21:50.668701Z",
     "iopub.status.busy": "2023-06-20T03:21:50.668326Z",
     "iopub.status.idle": "2023-06-20T03:21:50.679339Z",
     "shell.execute_reply": "2023-06-20T03:21:50.678605Z"
    },
    "papermill": {
     "duration": 0.023135,
     "end_time": "2023-06-20T03:21:50.681814",
     "exception": false,
     "start_time": "2023-06-20T03:21:50.658679",
     "status": "completed"
    },
    "tags": []
   },
   "outputs": [
    {
     "name": "stdout",
     "output_type": "stream",
     "text": [
      "Your submission was successfully saved!\n"
     ]
    }
   ],
   "source": [
    "output = pd.DataFrame({'PassengerId': test_data.PassengerId, 'Survived': prediction})\n",
    "output.to_csv('submission.csv', index=False)\n",
    "print(\"Your submission was successfully saved!\")"
   ]
  },
  {
   "cell_type": "code",
   "execution_count": null,
   "id": "fd35a316",
   "metadata": {
    "papermill": {
     "duration": 0.007802,
     "end_time": "2023-06-20T03:21:50.698135",
     "exception": false,
     "start_time": "2023-06-20T03:21:50.690333",
     "status": "completed"
    },
    "tags": []
   },
   "outputs": [],
   "source": []
  }
 ],
 "metadata": {
  "kernelspec": {
   "display_name": "Python 3",
   "language": "python",
   "name": "python3"
  },
  "language_info": {
   "codemirror_mode": {
    "name": "ipython",
    "version": 3
   },
   "file_extension": ".py",
   "mimetype": "text/x-python",
   "name": "python",
   "nbconvert_exporter": "python",
   "pygments_lexer": "ipython3",
   "version": "3.10.10"
  },
  "papermill": {
   "default_parameters": {},
   "duration": 12.874255,
   "end_time": "2023-06-20T03:21:51.831257",
   "environment_variables": {},
   "exception": null,
   "input_path": "__notebook__.ipynb",
   "output_path": "__notebook__.ipynb",
   "parameters": {},
   "start_time": "2023-06-20T03:21:38.957002",
   "version": "2.4.0"
  }
 },
 "nbformat": 4,
 "nbformat_minor": 5
}
