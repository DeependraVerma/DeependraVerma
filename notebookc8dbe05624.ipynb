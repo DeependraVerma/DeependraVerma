{
 "cells": [
  {
   "cell_type": "code",
   "execution_count": 1,
   "id": "f95326a8",
   "metadata": {
    "_cell_guid": "b1076dfc-b9ad-4769-8c92-a6c4dae69d19",
    "_uuid": "8f2839f25d086af736a60e9eeb907d3b93b6e0e5",
    "execution": {
     "iopub.execute_input": "2023-06-20T03:45:17.496052Z",
     "iopub.status.busy": "2023-06-20T03:45:17.495516Z",
     "iopub.status.idle": "2023-06-20T03:45:17.514419Z",
     "shell.execute_reply": "2023-06-20T03:45:17.512683Z"
    },
    "papermill": {
     "duration": 0.039241,
     "end_time": "2023-06-20T03:45:17.517988",
     "exception": false,
     "start_time": "2023-06-20T03:45:17.478747",
     "status": "completed"
    },
    "tags": []
   },
   "outputs": [
    {
     "name": "stdout",
     "output_type": "stream",
     "text": [
      "/kaggle/input/titanic/train.csv\n",
      "/kaggle/input/titanic/test.csv\n",
      "/kaggle/input/titanic/gender_submission.csv\n"
     ]
    }
   ],
   "source": [
    "# This Python 3 environment comes with many helpful analytics libraries installed\n",
    "# It is defined by the kaggle/python Docker image: https://github.com/kaggle/docker-python\n",
    "# For example, here's several helpful packages to load\n",
    "\n",
    "import numpy as np # linear algebra\n",
    "import pandas as pd # data processing, CSV file I/O (e.g. pd.read_csv)\n",
    "\n",
    "# Input data files are available in the read-only \"../input/\" directory\n",
    "# For example, running this (by clicking run or pressing Shift+Enter) will list all files under the input directory\n",
    "\n",
    "import os\n",
    "for dirname, _, filenames in os.walk('/kaggle/input'):\n",
    "    for filename in filenames:\n",
    "        print(os.path.join(dirname, filename))\n",
    "\n",
    "# You can write up to 20GB to the current directory (/kaggle/working/) that gets preserved as output when you create a version using \"Save & Run All\" \n",
    "# You can also write temporary files to /kaggle/temp/, but they won't be saved outside of the current session"
   ]
  },
  {
   "cell_type": "code",
   "execution_count": 2,
   "id": "c8e96ef5",
   "metadata": {
    "execution": {
     "iopub.execute_input": "2023-06-20T03:45:17.544989Z",
     "iopub.status.busy": "2023-06-20T03:45:17.544151Z",
     "iopub.status.idle": "2023-06-20T03:45:17.571274Z",
     "shell.execute_reply": "2023-06-20T03:45:17.569961Z"
    },
    "papermill": {
     "duration": 0.043951,
     "end_time": "2023-06-20T03:45:17.574067",
     "exception": false,
     "start_time": "2023-06-20T03:45:17.530116",
     "status": "completed"
    },
    "tags": []
   },
   "outputs": [],
   "source": [
    "train_data = pd.read_csv(\"/kaggle/input/titanic/train.csv\")"
   ]
  },
  {
   "cell_type": "code",
   "execution_count": 3,
   "id": "e55454f7",
   "metadata": {
    "execution": {
     "iopub.execute_input": "2023-06-20T03:45:17.599951Z",
     "iopub.status.busy": "2023-06-20T03:45:17.599254Z",
     "iopub.status.idle": "2023-06-20T03:45:17.635872Z",
     "shell.execute_reply": "2023-06-20T03:45:17.634724Z"
    },
    "papermill": {
     "duration": 0.052612,
     "end_time": "2023-06-20T03:45:17.638607",
     "exception": false,
     "start_time": "2023-06-20T03:45:17.585995",
     "status": "completed"
    },
    "tags": []
   },
   "outputs": [
    {
     "data": {
      "text/html": [
       "<div>\n",
       "<style scoped>\n",
       "    .dataframe tbody tr th:only-of-type {\n",
       "        vertical-align: middle;\n",
       "    }\n",
       "\n",
       "    .dataframe tbody tr th {\n",
       "        vertical-align: top;\n",
       "    }\n",
       "\n",
       "    .dataframe thead th {\n",
       "        text-align: right;\n",
       "    }\n",
       "</style>\n",
       "<table border=\"1\" class=\"dataframe\">\n",
       "  <thead>\n",
       "    <tr style=\"text-align: right;\">\n",
       "      <th></th>\n",
       "      <th>PassengerId</th>\n",
       "      <th>Survived</th>\n",
       "      <th>Pclass</th>\n",
       "      <th>Name</th>\n",
       "      <th>Sex</th>\n",
       "      <th>Age</th>\n",
       "      <th>SibSp</th>\n",
       "      <th>Parch</th>\n",
       "      <th>Ticket</th>\n",
       "      <th>Fare</th>\n",
       "      <th>Cabin</th>\n",
       "      <th>Embarked</th>\n",
       "    </tr>\n",
       "  </thead>\n",
       "  <tbody>\n",
       "    <tr>\n",
       "      <th>0</th>\n",
       "      <td>1</td>\n",
       "      <td>0</td>\n",
       "      <td>3</td>\n",
       "      <td>Braund, Mr. Owen Harris</td>\n",
       "      <td>male</td>\n",
       "      <td>22.0</td>\n",
       "      <td>1</td>\n",
       "      <td>0</td>\n",
       "      <td>A/5 21171</td>\n",
       "      <td>7.2500</td>\n",
       "      <td>NaN</td>\n",
       "      <td>S</td>\n",
       "    </tr>\n",
       "    <tr>\n",
       "      <th>1</th>\n",
       "      <td>2</td>\n",
       "      <td>1</td>\n",
       "      <td>1</td>\n",
       "      <td>Cumings, Mrs. John Bradley (Florence Briggs Th...</td>\n",
       "      <td>female</td>\n",
       "      <td>38.0</td>\n",
       "      <td>1</td>\n",
       "      <td>0</td>\n",
       "      <td>PC 17599</td>\n",
       "      <td>71.2833</td>\n",
       "      <td>C85</td>\n",
       "      <td>C</td>\n",
       "    </tr>\n",
       "    <tr>\n",
       "      <th>2</th>\n",
       "      <td>3</td>\n",
       "      <td>1</td>\n",
       "      <td>3</td>\n",
       "      <td>Heikkinen, Miss. Laina</td>\n",
       "      <td>female</td>\n",
       "      <td>26.0</td>\n",
       "      <td>0</td>\n",
       "      <td>0</td>\n",
       "      <td>STON/O2. 3101282</td>\n",
       "      <td>7.9250</td>\n",
       "      <td>NaN</td>\n",
       "      <td>S</td>\n",
       "    </tr>\n",
       "    <tr>\n",
       "      <th>3</th>\n",
       "      <td>4</td>\n",
       "      <td>1</td>\n",
       "      <td>1</td>\n",
       "      <td>Futrelle, Mrs. Jacques Heath (Lily May Peel)</td>\n",
       "      <td>female</td>\n",
       "      <td>35.0</td>\n",
       "      <td>1</td>\n",
       "      <td>0</td>\n",
       "      <td>113803</td>\n",
       "      <td>53.1000</td>\n",
       "      <td>C123</td>\n",
       "      <td>S</td>\n",
       "    </tr>\n",
       "    <tr>\n",
       "      <th>4</th>\n",
       "      <td>5</td>\n",
       "      <td>0</td>\n",
       "      <td>3</td>\n",
       "      <td>Allen, Mr. William Henry</td>\n",
       "      <td>male</td>\n",
       "      <td>35.0</td>\n",
       "      <td>0</td>\n",
       "      <td>0</td>\n",
       "      <td>373450</td>\n",
       "      <td>8.0500</td>\n",
       "      <td>NaN</td>\n",
       "      <td>S</td>\n",
       "    </tr>\n",
       "  </tbody>\n",
       "</table>\n",
       "</div>"
      ],
      "text/plain": [
       "   PassengerId  Survived  Pclass  \\\n",
       "0            1         0       3   \n",
       "1            2         1       1   \n",
       "2            3         1       3   \n",
       "3            4         1       1   \n",
       "4            5         0       3   \n",
       "\n",
       "                                                Name     Sex   Age  SibSp  \\\n",
       "0                            Braund, Mr. Owen Harris    male  22.0      1   \n",
       "1  Cumings, Mrs. John Bradley (Florence Briggs Th...  female  38.0      1   \n",
       "2                             Heikkinen, Miss. Laina  female  26.0      0   \n",
       "3       Futrelle, Mrs. Jacques Heath (Lily May Peel)  female  35.0      1   \n",
       "4                           Allen, Mr. William Henry    male  35.0      0   \n",
       "\n",
       "   Parch            Ticket     Fare Cabin Embarked  \n",
       "0      0         A/5 21171   7.2500   NaN        S  \n",
       "1      0          PC 17599  71.2833   C85        C  \n",
       "2      0  STON/O2. 3101282   7.9250   NaN        S  \n",
       "3      0            113803  53.1000  C123        S  \n",
       "4      0            373450   8.0500   NaN        S  "
      ]
     },
     "execution_count": 3,
     "metadata": {},
     "output_type": "execute_result"
    }
   ],
   "source": [
    "train_data.head()"
   ]
  },
  {
   "cell_type": "code",
   "execution_count": 4,
   "id": "2d5f9fc2",
   "metadata": {
    "execution": {
     "iopub.execute_input": "2023-06-20T03:45:17.665440Z",
     "iopub.status.busy": "2023-06-20T03:45:17.665028Z",
     "iopub.status.idle": "2023-06-20T03:45:17.678588Z",
     "shell.execute_reply": "2023-06-20T03:45:17.677214Z"
    },
    "papermill": {
     "duration": 0.030111,
     "end_time": "2023-06-20T03:45:17.681460",
     "exception": false,
     "start_time": "2023-06-20T03:45:17.651349",
     "status": "completed"
    },
    "tags": []
   },
   "outputs": [],
   "source": [
    "test_data = pd.read_csv(\"/kaggle/input/titanic/test.csv\")"
   ]
  },
  {
   "cell_type": "code",
   "execution_count": 5,
   "id": "82dc6ef5",
   "metadata": {
    "execution": {
     "iopub.execute_input": "2023-06-20T03:45:17.708513Z",
     "iopub.status.busy": "2023-06-20T03:45:17.708083Z",
     "iopub.status.idle": "2023-06-20T03:45:17.726761Z",
     "shell.execute_reply": "2023-06-20T03:45:17.724702Z"
    },
    "papermill": {
     "duration": 0.035754,
     "end_time": "2023-06-20T03:45:17.729691",
     "exception": false,
     "start_time": "2023-06-20T03:45:17.693937",
     "status": "completed"
    },
    "tags": []
   },
   "outputs": [
    {
     "name": "stdout",
     "output_type": "stream",
     "text": [
      "% of women who survived: 0.7420382165605095\n"
     ]
    }
   ],
   "source": [
    "women = train_data.loc[train_data.Sex == 'female'][\"Survived\"]\n",
    "rate_women = sum(women)/len(women)\n",
    "\n",
    "print(\"% of women who survived:\", rate_women)"
   ]
  },
  {
   "cell_type": "code",
   "execution_count": 6,
   "id": "d4c1e509",
   "metadata": {
    "execution": {
     "iopub.execute_input": "2023-06-20T03:45:17.756521Z",
     "iopub.status.busy": "2023-06-20T03:45:17.756066Z",
     "iopub.status.idle": "2023-06-20T03:45:17.765963Z",
     "shell.execute_reply": "2023-06-20T03:45:17.764256Z"
    },
    "papermill": {
     "duration": 0.026393,
     "end_time": "2023-06-20T03:45:17.768625",
     "exception": false,
     "start_time": "2023-06-20T03:45:17.742232",
     "status": "completed"
    },
    "tags": []
   },
   "outputs": [
    {
     "name": "stdout",
     "output_type": "stream",
     "text": [
      "% of men who survived: 0.18890814558058924\n"
     ]
    }
   ],
   "source": [
    "men = train_data.loc[train_data.Sex == 'male'][\"Survived\"]\n",
    "rate_men = sum(men)/len(men)\n",
    "\n",
    "print(\"% of men who survived:\", rate_men)"
   ]
  },
  {
   "cell_type": "code",
   "execution_count": 7,
   "id": "76a6540d",
   "metadata": {
    "execution": {
     "iopub.execute_input": "2023-06-20T03:45:17.797694Z",
     "iopub.status.busy": "2023-06-20T03:45:17.796278Z",
     "iopub.status.idle": "2023-06-20T03:45:17.804050Z",
     "shell.execute_reply": "2023-06-20T03:45:17.802533Z"
    },
    "papermill": {
     "duration": 0.025427,
     "end_time": "2023-06-20T03:45:17.806622",
     "exception": false,
     "start_time": "2023-06-20T03:45:17.781195",
     "status": "completed"
    },
    "tags": []
   },
   "outputs": [
    {
     "name": "stdout",
     "output_type": "stream",
     "text": [
      "% of women who survived: 0.7420382165605095\n",
      "% of men who survived: 0.18890814558058924\n"
     ]
    }
   ],
   "source": [
    "print(\"% of women who survived:\", rate_women)\n",
    "print(\"% of men who survived:\", rate_men)"
   ]
  },
  {
   "cell_type": "code",
   "execution_count": 8,
   "id": "e1e7dcbd",
   "metadata": {
    "execution": {
     "iopub.execute_input": "2023-06-20T03:45:17.835676Z",
     "iopub.status.busy": "2023-06-20T03:45:17.834756Z",
     "iopub.status.idle": "2023-06-20T03:45:19.878827Z",
     "shell.execute_reply": "2023-06-20T03:45:19.877474Z"
    },
    "papermill": {
     "duration": 2.061913,
     "end_time": "2023-06-20T03:45:19.881725",
     "exception": false,
     "start_time": "2023-06-20T03:45:17.819812",
     "status": "completed"
    },
    "tags": []
   },
   "outputs": [],
   "source": [
    "from sklearn.impute import SimpleImputer\n",
    "from sklearn.compose import ColumnTransformer\n",
    "from sklearn.preprocessing import OrdinalEncoder, OneHotEncoder\n",
    "from sklearn.pipeline import Pipeline,make_pipeline\n",
    "from sklearn.ensemble import RandomForestClassifier\n",
    "from sklearn.feature_selection import SelectKBest,chi2\n",
    "import warnings\n",
    "warnings.filterwarnings('ignore')"
   ]
  },
  {
   "cell_type": "code",
   "execution_count": 9,
   "id": "da8b6f4c",
   "metadata": {
    "execution": {
     "iopub.execute_input": "2023-06-20T03:45:19.909504Z",
     "iopub.status.busy": "2023-06-20T03:45:19.909099Z",
     "iopub.status.idle": "2023-06-20T03:45:19.920896Z",
     "shell.execute_reply": "2023-06-20T03:45:19.919687Z"
    },
    "papermill": {
     "duration": 0.028532,
     "end_time": "2023-06-20T03:45:19.923585",
     "exception": false,
     "start_time": "2023-06-20T03:45:19.895053",
     "status": "completed"
    },
    "tags": []
   },
   "outputs": [
    {
     "data": {
      "text/plain": [
       "PassengerId     0.000000\n",
       "Survived        0.000000\n",
       "Pclass          0.000000\n",
       "Name            0.000000\n",
       "Sex             0.000000\n",
       "Age            19.865320\n",
       "SibSp           0.000000\n",
       "Parch           0.000000\n",
       "Ticket          0.000000\n",
       "Fare            0.000000\n",
       "Cabin          77.104377\n",
       "Embarked        0.224467\n",
       "dtype: float64"
      ]
     },
     "execution_count": 9,
     "metadata": {},
     "output_type": "execute_result"
    }
   ],
   "source": [
    "train_data.isnull().mean()*100"
   ]
  },
  {
   "cell_type": "code",
   "execution_count": 10,
   "id": "3ccbb1e9",
   "metadata": {
    "execution": {
     "iopub.execute_input": "2023-06-20T03:45:19.951592Z",
     "iopub.status.busy": "2023-06-20T03:45:19.951145Z",
     "iopub.status.idle": "2023-06-20T03:45:19.962044Z",
     "shell.execute_reply": "2023-06-20T03:45:19.960746Z"
    },
    "papermill": {
     "duration": 0.027738,
     "end_time": "2023-06-20T03:45:19.964706",
     "exception": false,
     "start_time": "2023-06-20T03:45:19.936968",
     "status": "completed"
    },
    "tags": []
   },
   "outputs": [
    {
     "data": {
      "text/plain": [
       "PassengerId     0.000000\n",
       "Pclass          0.000000\n",
       "Name            0.000000\n",
       "Sex             0.000000\n",
       "Age            20.574163\n",
       "SibSp           0.000000\n",
       "Parch           0.000000\n",
       "Ticket          0.000000\n",
       "Fare            0.239234\n",
       "Cabin          78.229665\n",
       "Embarked        0.000000\n",
       "dtype: float64"
      ]
     },
     "execution_count": 10,
     "metadata": {},
     "output_type": "execute_result"
    }
   ],
   "source": [
    "test_data.isnull().mean()*100"
   ]
  },
  {
   "cell_type": "code",
   "execution_count": 11,
   "id": "062800a3",
   "metadata": {
    "execution": {
     "iopub.execute_input": "2023-06-20T03:45:19.992854Z",
     "iopub.status.busy": "2023-06-20T03:45:19.992459Z",
     "iopub.status.idle": "2023-06-20T03:45:20.002988Z",
     "shell.execute_reply": "2023-06-20T03:45:20.001640Z"
    },
    "papermill": {
     "duration": 0.027431,
     "end_time": "2023-06-20T03:45:20.005679",
     "exception": false,
     "start_time": "2023-06-20T03:45:19.978248",
     "status": "completed"
    },
    "tags": []
   },
   "outputs": [],
   "source": [
    "train_data.drop(\"Cabin\", axis = 1, inplace=True)\n",
    "test_data.drop(\"Cabin\", axis = 1, inplace=True)"
   ]
  },
  {
   "cell_type": "code",
   "execution_count": 12,
   "id": "353c68ca",
   "metadata": {
    "execution": {
     "iopub.execute_input": "2023-06-20T03:45:20.034970Z",
     "iopub.status.busy": "2023-06-20T03:45:20.034540Z",
     "iopub.status.idle": "2023-06-20T03:45:20.040223Z",
     "shell.execute_reply": "2023-06-20T03:45:20.039042Z"
    },
    "papermill": {
     "duration": 0.024206,
     "end_time": "2023-06-20T03:45:20.043334",
     "exception": false,
     "start_time": "2023-06-20T03:45:20.019128",
     "status": "completed"
    },
    "tags": []
   },
   "outputs": [],
   "source": [
    "si = SimpleImputer()\n",
    "oe = OrdinalEncoder(handle_unknown=\"ignore\")\n",
    "ohe = OneHotEncoder(handle_unknown=\"ignore\", sparse=False)"
   ]
  },
  {
   "cell_type": "code",
   "execution_count": 13,
   "id": "5aba836e",
   "metadata": {
    "execution": {
     "iopub.execute_input": "2023-06-20T03:45:20.071241Z",
     "iopub.status.busy": "2023-06-20T03:45:20.070846Z",
     "iopub.status.idle": "2023-06-20T03:45:20.078734Z",
     "shell.execute_reply": "2023-06-20T03:45:20.077124Z"
    },
    "papermill": {
     "duration": 0.025025,
     "end_time": "2023-06-20T03:45:20.081490",
     "exception": false,
     "start_time": "2023-06-20T03:45:20.056465",
     "status": "completed"
    },
    "tags": []
   },
   "outputs": [],
   "source": [
    "train_data[\"family\"] = train_data[\"SibSp\"]+train_data[\"Parch\"]+1\n",
    "test_data[\"family\"] = test_data[\"SibSp\"]+test_data[\"Parch\"]+1\n"
   ]
  },
  {
   "cell_type": "code",
   "execution_count": 14,
   "id": "db323b9b",
   "metadata": {
    "execution": {
     "iopub.execute_input": "2023-06-20T03:45:20.108669Z",
     "iopub.status.busy": "2023-06-20T03:45:20.108246Z",
     "iopub.status.idle": "2023-06-20T03:45:20.127359Z",
     "shell.execute_reply": "2023-06-20T03:45:20.125914Z"
    },
    "papermill": {
     "duration": 0.035573,
     "end_time": "2023-06-20T03:45:20.129937",
     "exception": false,
     "start_time": "2023-06-20T03:45:20.094364",
     "status": "completed"
    },
    "tags": []
   },
   "outputs": [
    {
     "data": {
      "text/html": [
       "<div>\n",
       "<style scoped>\n",
       "    .dataframe tbody tr th:only-of-type {\n",
       "        vertical-align: middle;\n",
       "    }\n",
       "\n",
       "    .dataframe tbody tr th {\n",
       "        vertical-align: top;\n",
       "    }\n",
       "\n",
       "    .dataframe thead th {\n",
       "        text-align: right;\n",
       "    }\n",
       "</style>\n",
       "<table border=\"1\" class=\"dataframe\">\n",
       "  <thead>\n",
       "    <tr style=\"text-align: right;\">\n",
       "      <th></th>\n",
       "      <th>PassengerId</th>\n",
       "      <th>Survived</th>\n",
       "      <th>Pclass</th>\n",
       "      <th>Name</th>\n",
       "      <th>Sex</th>\n",
       "      <th>Age</th>\n",
       "      <th>SibSp</th>\n",
       "      <th>Parch</th>\n",
       "      <th>Ticket</th>\n",
       "      <th>Fare</th>\n",
       "      <th>Embarked</th>\n",
       "      <th>family</th>\n",
       "    </tr>\n",
       "  </thead>\n",
       "  <tbody>\n",
       "    <tr>\n",
       "      <th>0</th>\n",
       "      <td>1</td>\n",
       "      <td>0</td>\n",
       "      <td>3</td>\n",
       "      <td>Braund, Mr. Owen Harris</td>\n",
       "      <td>male</td>\n",
       "      <td>22.0</td>\n",
       "      <td>1</td>\n",
       "      <td>0</td>\n",
       "      <td>A/5 21171</td>\n",
       "      <td>7.2500</td>\n",
       "      <td>S</td>\n",
       "      <td>2</td>\n",
       "    </tr>\n",
       "    <tr>\n",
       "      <th>1</th>\n",
       "      <td>2</td>\n",
       "      <td>1</td>\n",
       "      <td>1</td>\n",
       "      <td>Cumings, Mrs. John Bradley (Florence Briggs Th...</td>\n",
       "      <td>female</td>\n",
       "      <td>38.0</td>\n",
       "      <td>1</td>\n",
       "      <td>0</td>\n",
       "      <td>PC 17599</td>\n",
       "      <td>71.2833</td>\n",
       "      <td>C</td>\n",
       "      <td>2</td>\n",
       "    </tr>\n",
       "    <tr>\n",
       "      <th>2</th>\n",
       "      <td>3</td>\n",
       "      <td>1</td>\n",
       "      <td>3</td>\n",
       "      <td>Heikkinen, Miss. Laina</td>\n",
       "      <td>female</td>\n",
       "      <td>26.0</td>\n",
       "      <td>0</td>\n",
       "      <td>0</td>\n",
       "      <td>STON/O2. 3101282</td>\n",
       "      <td>7.9250</td>\n",
       "      <td>S</td>\n",
       "      <td>1</td>\n",
       "    </tr>\n",
       "    <tr>\n",
       "      <th>3</th>\n",
       "      <td>4</td>\n",
       "      <td>1</td>\n",
       "      <td>1</td>\n",
       "      <td>Futrelle, Mrs. Jacques Heath (Lily May Peel)</td>\n",
       "      <td>female</td>\n",
       "      <td>35.0</td>\n",
       "      <td>1</td>\n",
       "      <td>0</td>\n",
       "      <td>113803</td>\n",
       "      <td>53.1000</td>\n",
       "      <td>S</td>\n",
       "      <td>2</td>\n",
       "    </tr>\n",
       "    <tr>\n",
       "      <th>4</th>\n",
       "      <td>5</td>\n",
       "      <td>0</td>\n",
       "      <td>3</td>\n",
       "      <td>Allen, Mr. William Henry</td>\n",
       "      <td>male</td>\n",
       "      <td>35.0</td>\n",
       "      <td>0</td>\n",
       "      <td>0</td>\n",
       "      <td>373450</td>\n",
       "      <td>8.0500</td>\n",
       "      <td>S</td>\n",
       "      <td>1</td>\n",
       "    </tr>\n",
       "  </tbody>\n",
       "</table>\n",
       "</div>"
      ],
      "text/plain": [
       "   PassengerId  Survived  Pclass  \\\n",
       "0            1         0       3   \n",
       "1            2         1       1   \n",
       "2            3         1       3   \n",
       "3            4         1       1   \n",
       "4            5         0       3   \n",
       "\n",
       "                                                Name     Sex   Age  SibSp  \\\n",
       "0                            Braund, Mr. Owen Harris    male  22.0      1   \n",
       "1  Cumings, Mrs. John Bradley (Florence Briggs Th...  female  38.0      1   \n",
       "2                             Heikkinen, Miss. Laina  female  26.0      0   \n",
       "3       Futrelle, Mrs. Jacques Heath (Lily May Peel)  female  35.0      1   \n",
       "4                           Allen, Mr. William Henry    male  35.0      0   \n",
       "\n",
       "   Parch            Ticket     Fare Embarked  family  \n",
       "0      0         A/5 21171   7.2500        S       2  \n",
       "1      0          PC 17599  71.2833        C       2  \n",
       "2      0  STON/O2. 3101282   7.9250        S       1  \n",
       "3      0            113803  53.1000        S       2  \n",
       "4      0            373450   8.0500        S       1  "
      ]
     },
     "execution_count": 14,
     "metadata": {},
     "output_type": "execute_result"
    }
   ],
   "source": [
    "train_data.head()"
   ]
  },
  {
   "cell_type": "code",
   "execution_count": 15,
   "id": "443ce3e4",
   "metadata": {
    "execution": {
     "iopub.execute_input": "2023-06-20T03:45:20.157696Z",
     "iopub.status.busy": "2023-06-20T03:45:20.157264Z",
     "iopub.status.idle": "2023-06-20T03:45:20.175513Z",
     "shell.execute_reply": "2023-06-20T03:45:20.174263Z"
    },
    "papermill": {
     "duration": 0.035251,
     "end_time": "2023-06-20T03:45:20.178221",
     "exception": false,
     "start_time": "2023-06-20T03:45:20.142970",
     "status": "completed"
    },
    "tags": []
   },
   "outputs": [
    {
     "data": {
      "text/html": [
       "<div>\n",
       "<style scoped>\n",
       "    .dataframe tbody tr th:only-of-type {\n",
       "        vertical-align: middle;\n",
       "    }\n",
       "\n",
       "    .dataframe tbody tr th {\n",
       "        vertical-align: top;\n",
       "    }\n",
       "\n",
       "    .dataframe thead th {\n",
       "        text-align: right;\n",
       "    }\n",
       "</style>\n",
       "<table border=\"1\" class=\"dataframe\">\n",
       "  <thead>\n",
       "    <tr style=\"text-align: right;\">\n",
       "      <th></th>\n",
       "      <th>PassengerId</th>\n",
       "      <th>Pclass</th>\n",
       "      <th>Name</th>\n",
       "      <th>Sex</th>\n",
       "      <th>Age</th>\n",
       "      <th>SibSp</th>\n",
       "      <th>Parch</th>\n",
       "      <th>Ticket</th>\n",
       "      <th>Fare</th>\n",
       "      <th>Embarked</th>\n",
       "      <th>family</th>\n",
       "    </tr>\n",
       "  </thead>\n",
       "  <tbody>\n",
       "    <tr>\n",
       "      <th>0</th>\n",
       "      <td>892</td>\n",
       "      <td>3</td>\n",
       "      <td>Kelly, Mr. James</td>\n",
       "      <td>male</td>\n",
       "      <td>34.5</td>\n",
       "      <td>0</td>\n",
       "      <td>0</td>\n",
       "      <td>330911</td>\n",
       "      <td>7.8292</td>\n",
       "      <td>Q</td>\n",
       "      <td>1</td>\n",
       "    </tr>\n",
       "    <tr>\n",
       "      <th>1</th>\n",
       "      <td>893</td>\n",
       "      <td>3</td>\n",
       "      <td>Wilkes, Mrs. James (Ellen Needs)</td>\n",
       "      <td>female</td>\n",
       "      <td>47.0</td>\n",
       "      <td>1</td>\n",
       "      <td>0</td>\n",
       "      <td>363272</td>\n",
       "      <td>7.0000</td>\n",
       "      <td>S</td>\n",
       "      <td>2</td>\n",
       "    </tr>\n",
       "    <tr>\n",
       "      <th>2</th>\n",
       "      <td>894</td>\n",
       "      <td>2</td>\n",
       "      <td>Myles, Mr. Thomas Francis</td>\n",
       "      <td>male</td>\n",
       "      <td>62.0</td>\n",
       "      <td>0</td>\n",
       "      <td>0</td>\n",
       "      <td>240276</td>\n",
       "      <td>9.6875</td>\n",
       "      <td>Q</td>\n",
       "      <td>1</td>\n",
       "    </tr>\n",
       "    <tr>\n",
       "      <th>3</th>\n",
       "      <td>895</td>\n",
       "      <td>3</td>\n",
       "      <td>Wirz, Mr. Albert</td>\n",
       "      <td>male</td>\n",
       "      <td>27.0</td>\n",
       "      <td>0</td>\n",
       "      <td>0</td>\n",
       "      <td>315154</td>\n",
       "      <td>8.6625</td>\n",
       "      <td>S</td>\n",
       "      <td>1</td>\n",
       "    </tr>\n",
       "    <tr>\n",
       "      <th>4</th>\n",
       "      <td>896</td>\n",
       "      <td>3</td>\n",
       "      <td>Hirvonen, Mrs. Alexander (Helga E Lindqvist)</td>\n",
       "      <td>female</td>\n",
       "      <td>22.0</td>\n",
       "      <td>1</td>\n",
       "      <td>1</td>\n",
       "      <td>3101298</td>\n",
       "      <td>12.2875</td>\n",
       "      <td>S</td>\n",
       "      <td>3</td>\n",
       "    </tr>\n",
       "  </tbody>\n",
       "</table>\n",
       "</div>"
      ],
      "text/plain": [
       "   PassengerId  Pclass                                          Name     Sex  \\\n",
       "0          892       3                              Kelly, Mr. James    male   \n",
       "1          893       3              Wilkes, Mrs. James (Ellen Needs)  female   \n",
       "2          894       2                     Myles, Mr. Thomas Francis    male   \n",
       "3          895       3                              Wirz, Mr. Albert    male   \n",
       "4          896       3  Hirvonen, Mrs. Alexander (Helga E Lindqvist)  female   \n",
       "\n",
       "    Age  SibSp  Parch   Ticket     Fare Embarked  family  \n",
       "0  34.5      0      0   330911   7.8292        Q       1  \n",
       "1  47.0      1      0   363272   7.0000        S       2  \n",
       "2  62.0      0      0   240276   9.6875        Q       1  \n",
       "3  27.0      0      0   315154   8.6625        S       1  \n",
       "4  22.0      1      1  3101298  12.2875        S       3  "
      ]
     },
     "execution_count": 15,
     "metadata": {},
     "output_type": "execute_result"
    }
   ],
   "source": [
    "test_data.head()"
   ]
  },
  {
   "cell_type": "code",
   "execution_count": 16,
   "id": "2420cd89",
   "metadata": {
    "execution": {
     "iopub.execute_input": "2023-06-20T03:45:20.209317Z",
     "iopub.status.busy": "2023-06-20T03:45:20.208905Z",
     "iopub.status.idle": "2023-06-20T03:45:20.217498Z",
     "shell.execute_reply": "2023-06-20T03:45:20.216479Z"
    },
    "papermill": {
     "duration": 0.02725,
     "end_time": "2023-06-20T03:45:20.219844",
     "exception": false,
     "start_time": "2023-06-20T03:45:20.192594",
     "status": "completed"
    },
    "tags": []
   },
   "outputs": [],
   "source": [
    "train_data.drop([\"SibSp\",\"Parch\"],axis = 1, inplace=True)\n",
    "test_data.drop([\"SibSp\",\"Parch\"],axis = 1, inplace=True)\n"
   ]
  },
  {
   "cell_type": "code",
   "execution_count": 17,
   "id": "0a05eece",
   "metadata": {
    "execution": {
     "iopub.execute_input": "2023-06-20T03:45:20.249398Z",
     "iopub.status.busy": "2023-06-20T03:45:20.248187Z",
     "iopub.status.idle": "2023-06-20T03:45:20.266945Z",
     "shell.execute_reply": "2023-06-20T03:45:20.265583Z"
    },
    "papermill": {
     "duration": 0.036535,
     "end_time": "2023-06-20T03:45:20.269713",
     "exception": false,
     "start_time": "2023-06-20T03:45:20.233178",
     "status": "completed"
    },
    "tags": []
   },
   "outputs": [
    {
     "data": {
      "text/html": [
       "<div>\n",
       "<style scoped>\n",
       "    .dataframe tbody tr th:only-of-type {\n",
       "        vertical-align: middle;\n",
       "    }\n",
       "\n",
       "    .dataframe tbody tr th {\n",
       "        vertical-align: top;\n",
       "    }\n",
       "\n",
       "    .dataframe thead th {\n",
       "        text-align: right;\n",
       "    }\n",
       "</style>\n",
       "<table border=\"1\" class=\"dataframe\">\n",
       "  <thead>\n",
       "    <tr style=\"text-align: right;\">\n",
       "      <th></th>\n",
       "      <th>PassengerId</th>\n",
       "      <th>Survived</th>\n",
       "      <th>Pclass</th>\n",
       "      <th>Name</th>\n",
       "      <th>Sex</th>\n",
       "      <th>Age</th>\n",
       "      <th>Ticket</th>\n",
       "      <th>Fare</th>\n",
       "      <th>Embarked</th>\n",
       "      <th>family</th>\n",
       "    </tr>\n",
       "  </thead>\n",
       "  <tbody>\n",
       "    <tr>\n",
       "      <th>535</th>\n",
       "      <td>536</td>\n",
       "      <td>1</td>\n",
       "      <td>2</td>\n",
       "      <td>Hart, Miss. Eva Miriam</td>\n",
       "      <td>female</td>\n",
       "      <td>7.0</td>\n",
       "      <td>F.C.C. 13529</td>\n",
       "      <td>26.2500</td>\n",
       "      <td>S</td>\n",
       "      <td>3</td>\n",
       "    </tr>\n",
       "    <tr>\n",
       "      <th>192</th>\n",
       "      <td>193</td>\n",
       "      <td>1</td>\n",
       "      <td>3</td>\n",
       "      <td>Andersen-Jensen, Miss. Carla Christine Nielsine</td>\n",
       "      <td>female</td>\n",
       "      <td>19.0</td>\n",
       "      <td>350046</td>\n",
       "      <td>7.8542</td>\n",
       "      <td>S</td>\n",
       "      <td>2</td>\n",
       "    </tr>\n",
       "    <tr>\n",
       "      <th>68</th>\n",
       "      <td>69</td>\n",
       "      <td>1</td>\n",
       "      <td>3</td>\n",
       "      <td>Andersson, Miss. Erna Alexandra</td>\n",
       "      <td>female</td>\n",
       "      <td>17.0</td>\n",
       "      <td>3101281</td>\n",
       "      <td>7.9250</td>\n",
       "      <td>S</td>\n",
       "      <td>7</td>\n",
       "    </tr>\n",
       "    <tr>\n",
       "      <th>387</th>\n",
       "      <td>388</td>\n",
       "      <td>1</td>\n",
       "      <td>2</td>\n",
       "      <td>Buss, Miss. Kate</td>\n",
       "      <td>female</td>\n",
       "      <td>36.0</td>\n",
       "      <td>27849</td>\n",
       "      <td>13.0000</td>\n",
       "      <td>S</td>\n",
       "      <td>1</td>\n",
       "    </tr>\n",
       "    <tr>\n",
       "      <th>209</th>\n",
       "      <td>210</td>\n",
       "      <td>1</td>\n",
       "      <td>1</td>\n",
       "      <td>Blank, Mr. Henry</td>\n",
       "      <td>male</td>\n",
       "      <td>40.0</td>\n",
       "      <td>112277</td>\n",
       "      <td>31.0000</td>\n",
       "      <td>C</td>\n",
       "      <td>1</td>\n",
       "    </tr>\n",
       "  </tbody>\n",
       "</table>\n",
       "</div>"
      ],
      "text/plain": [
       "     PassengerId  Survived  Pclass  \\\n",
       "535          536         1       2   \n",
       "192          193         1       3   \n",
       "68            69         1       3   \n",
       "387          388         1       2   \n",
       "209          210         1       1   \n",
       "\n",
       "                                                Name     Sex   Age  \\\n",
       "535                           Hart, Miss. Eva Miriam  female   7.0   \n",
       "192  Andersen-Jensen, Miss. Carla Christine Nielsine  female  19.0   \n",
       "68                   Andersson, Miss. Erna Alexandra  female  17.0   \n",
       "387                                 Buss, Miss. Kate  female  36.0   \n",
       "209                                 Blank, Mr. Henry    male  40.0   \n",
       "\n",
       "           Ticket     Fare Embarked  family  \n",
       "535  F.C.C. 13529  26.2500        S       3  \n",
       "192        350046   7.8542        S       2  \n",
       "68        3101281   7.9250        S       7  \n",
       "387         27849  13.0000        S       1  \n",
       "209        112277  31.0000        C       1  "
      ]
     },
     "execution_count": 17,
     "metadata": {},
     "output_type": "execute_result"
    }
   ],
   "source": [
    "train_data.sample(5)"
   ]
  },
  {
   "cell_type": "code",
   "execution_count": 18,
   "id": "99062eaa",
   "metadata": {
    "execution": {
     "iopub.execute_input": "2023-06-20T03:45:20.299002Z",
     "iopub.status.busy": "2023-06-20T03:45:20.298592Z",
     "iopub.status.idle": "2023-06-20T03:45:20.311003Z",
     "shell.execute_reply": "2023-06-20T03:45:20.309666Z"
    },
    "papermill": {
     "duration": 0.030367,
     "end_time": "2023-06-20T03:45:20.313803",
     "exception": false,
     "start_time": "2023-06-20T03:45:20.283436",
     "status": "completed"
    },
    "tags": []
   },
   "outputs": [],
   "source": [
    "train_data.dropna( subset='Embarked',inplace=True)\n",
    "test_data.dropna( subset='Embarked',inplace=True)"
   ]
  },
  {
   "cell_type": "code",
   "execution_count": 19,
   "id": "a44ae567",
   "metadata": {
    "execution": {
     "iopub.execute_input": "2023-06-20T03:45:20.344990Z",
     "iopub.status.busy": "2023-06-20T03:45:20.344616Z",
     "iopub.status.idle": "2023-06-20T03:45:20.355480Z",
     "shell.execute_reply": "2023-06-20T03:45:20.354350Z"
    },
    "papermill": {
     "duration": 0.029437,
     "end_time": "2023-06-20T03:45:20.357921",
     "exception": false,
     "start_time": "2023-06-20T03:45:20.328484",
     "status": "completed"
    },
    "tags": []
   },
   "outputs": [
    {
     "data": {
      "text/plain": [
       "PassengerId      0\n",
       "Survived         0\n",
       "Pclass           0\n",
       "Name             0\n",
       "Sex              0\n",
       "Age            177\n",
       "Ticket           0\n",
       "Fare             0\n",
       "Embarked         0\n",
       "family           0\n",
       "dtype: int64"
      ]
     },
     "execution_count": 19,
     "metadata": {},
     "output_type": "execute_result"
    }
   ],
   "source": [
    "train_data.isnull().sum()"
   ]
  },
  {
   "cell_type": "code",
   "execution_count": 20,
   "id": "089d687e",
   "metadata": {
    "execution": {
     "iopub.execute_input": "2023-06-20T03:45:20.390137Z",
     "iopub.status.busy": "2023-06-20T03:45:20.389734Z",
     "iopub.status.idle": "2023-06-20T03:45:20.397461Z",
     "shell.execute_reply": "2023-06-20T03:45:20.396282Z"
    },
    "papermill": {
     "duration": 0.026152,
     "end_time": "2023-06-20T03:45:20.400091",
     "exception": false,
     "start_time": "2023-06-20T03:45:20.373939",
     "status": "completed"
    },
    "tags": []
   },
   "outputs": [],
   "source": [
    "train_data.drop([\"Name\",\"Ticket\",\"Fare\"],axis = 1, inplace=True)\n",
    "test_data.drop([\"Name\",\"Ticket\",\"Fare\"],axis = 1, inplace=True)"
   ]
  },
  {
   "cell_type": "code",
   "execution_count": 21,
   "id": "5fb34b01",
   "metadata": {
    "execution": {
     "iopub.execute_input": "2023-06-20T03:45:20.429667Z",
     "iopub.status.busy": "2023-06-20T03:45:20.429209Z",
     "iopub.status.idle": "2023-06-20T03:45:20.443556Z",
     "shell.execute_reply": "2023-06-20T03:45:20.442712Z"
    },
    "papermill": {
     "duration": 0.031618,
     "end_time": "2023-06-20T03:45:20.445772",
     "exception": false,
     "start_time": "2023-06-20T03:45:20.414154",
     "status": "completed"
    },
    "tags": []
   },
   "outputs": [
    {
     "data": {
      "text/html": [
       "<div>\n",
       "<style scoped>\n",
       "    .dataframe tbody tr th:only-of-type {\n",
       "        vertical-align: middle;\n",
       "    }\n",
       "\n",
       "    .dataframe tbody tr th {\n",
       "        vertical-align: top;\n",
       "    }\n",
       "\n",
       "    .dataframe thead th {\n",
       "        text-align: right;\n",
       "    }\n",
       "</style>\n",
       "<table border=\"1\" class=\"dataframe\">\n",
       "  <thead>\n",
       "    <tr style=\"text-align: right;\">\n",
       "      <th></th>\n",
       "      <th>PassengerId</th>\n",
       "      <th>Survived</th>\n",
       "      <th>Pclass</th>\n",
       "      <th>Sex</th>\n",
       "      <th>Age</th>\n",
       "      <th>Embarked</th>\n",
       "      <th>family</th>\n",
       "    </tr>\n",
       "  </thead>\n",
       "  <tbody>\n",
       "    <tr>\n",
       "      <th>372</th>\n",
       "      <td>373</td>\n",
       "      <td>0</td>\n",
       "      <td>3</td>\n",
       "      <td>male</td>\n",
       "      <td>19.0</td>\n",
       "      <td>S</td>\n",
       "      <td>1</td>\n",
       "    </tr>\n",
       "    <tr>\n",
       "      <th>32</th>\n",
       "      <td>33</td>\n",
       "      <td>1</td>\n",
       "      <td>3</td>\n",
       "      <td>female</td>\n",
       "      <td>NaN</td>\n",
       "      <td>Q</td>\n",
       "      <td>1</td>\n",
       "    </tr>\n",
       "    <tr>\n",
       "      <th>349</th>\n",
       "      <td>350</td>\n",
       "      <td>0</td>\n",
       "      <td>3</td>\n",
       "      <td>male</td>\n",
       "      <td>42.0</td>\n",
       "      <td>S</td>\n",
       "      <td>1</td>\n",
       "    </tr>\n",
       "    <tr>\n",
       "      <th>809</th>\n",
       "      <td>810</td>\n",
       "      <td>1</td>\n",
       "      <td>1</td>\n",
       "      <td>female</td>\n",
       "      <td>33.0</td>\n",
       "      <td>S</td>\n",
       "      <td>2</td>\n",
       "    </tr>\n",
       "    <tr>\n",
       "      <th>497</th>\n",
       "      <td>498</td>\n",
       "      <td>0</td>\n",
       "      <td>3</td>\n",
       "      <td>male</td>\n",
       "      <td>NaN</td>\n",
       "      <td>S</td>\n",
       "      <td>1</td>\n",
       "    </tr>\n",
       "  </tbody>\n",
       "</table>\n",
       "</div>"
      ],
      "text/plain": [
       "     PassengerId  Survived  Pclass     Sex   Age Embarked  family\n",
       "372          373         0       3    male  19.0        S       1\n",
       "32            33         1       3  female   NaN        Q       1\n",
       "349          350         0       3    male  42.0        S       1\n",
       "809          810         1       1  female  33.0        S       2\n",
       "497          498         0       3    male   NaN        S       1"
      ]
     },
     "execution_count": 21,
     "metadata": {},
     "output_type": "execute_result"
    }
   ],
   "source": [
    "train_data.sample(5)"
   ]
  },
  {
   "cell_type": "code",
   "execution_count": 22,
   "id": "d7620cd0",
   "metadata": {
    "execution": {
     "iopub.execute_input": "2023-06-20T03:45:20.475636Z",
     "iopub.status.busy": "2023-06-20T03:45:20.475208Z",
     "iopub.status.idle": "2023-06-20T03:45:20.489613Z",
     "shell.execute_reply": "2023-06-20T03:45:20.488484Z"
    },
    "papermill": {
     "duration": 0.032432,
     "end_time": "2023-06-20T03:45:20.492211",
     "exception": false,
     "start_time": "2023-06-20T03:45:20.459779",
     "status": "completed"
    },
    "tags": []
   },
   "outputs": [
    {
     "data": {
      "text/html": [
       "<div>\n",
       "<style scoped>\n",
       "    .dataframe tbody tr th:only-of-type {\n",
       "        vertical-align: middle;\n",
       "    }\n",
       "\n",
       "    .dataframe tbody tr th {\n",
       "        vertical-align: top;\n",
       "    }\n",
       "\n",
       "    .dataframe thead th {\n",
       "        text-align: right;\n",
       "    }\n",
       "</style>\n",
       "<table border=\"1\" class=\"dataframe\">\n",
       "  <thead>\n",
       "    <tr style=\"text-align: right;\">\n",
       "      <th></th>\n",
       "      <th>PassengerId</th>\n",
       "      <th>Pclass</th>\n",
       "      <th>Sex</th>\n",
       "      <th>Age</th>\n",
       "      <th>Embarked</th>\n",
       "      <th>family</th>\n",
       "    </tr>\n",
       "  </thead>\n",
       "  <tbody>\n",
       "    <tr>\n",
       "      <th>0</th>\n",
       "      <td>892</td>\n",
       "      <td>3</td>\n",
       "      <td>male</td>\n",
       "      <td>34.5</td>\n",
       "      <td>Q</td>\n",
       "      <td>1</td>\n",
       "    </tr>\n",
       "    <tr>\n",
       "      <th>1</th>\n",
       "      <td>893</td>\n",
       "      <td>3</td>\n",
       "      <td>female</td>\n",
       "      <td>47.0</td>\n",
       "      <td>S</td>\n",
       "      <td>2</td>\n",
       "    </tr>\n",
       "    <tr>\n",
       "      <th>2</th>\n",
       "      <td>894</td>\n",
       "      <td>2</td>\n",
       "      <td>male</td>\n",
       "      <td>62.0</td>\n",
       "      <td>Q</td>\n",
       "      <td>1</td>\n",
       "    </tr>\n",
       "    <tr>\n",
       "      <th>3</th>\n",
       "      <td>895</td>\n",
       "      <td>3</td>\n",
       "      <td>male</td>\n",
       "      <td>27.0</td>\n",
       "      <td>S</td>\n",
       "      <td>1</td>\n",
       "    </tr>\n",
       "    <tr>\n",
       "      <th>4</th>\n",
       "      <td>896</td>\n",
       "      <td>3</td>\n",
       "      <td>female</td>\n",
       "      <td>22.0</td>\n",
       "      <td>S</td>\n",
       "      <td>3</td>\n",
       "    </tr>\n",
       "  </tbody>\n",
       "</table>\n",
       "</div>"
      ],
      "text/plain": [
       "   PassengerId  Pclass     Sex   Age Embarked  family\n",
       "0          892       3    male  34.5        Q       1\n",
       "1          893       3  female  47.0        S       2\n",
       "2          894       2    male  62.0        Q       1\n",
       "3          895       3    male  27.0        S       1\n",
       "4          896       3  female  22.0        S       3"
      ]
     },
     "execution_count": 22,
     "metadata": {},
     "output_type": "execute_result"
    }
   ],
   "source": [
    "test_data.head()"
   ]
  },
  {
   "cell_type": "code",
   "execution_count": 23,
   "id": "68fb5578",
   "metadata": {
    "execution": {
     "iopub.execute_input": "2023-06-20T03:45:20.522858Z",
     "iopub.status.busy": "2023-06-20T03:45:20.522405Z",
     "iopub.status.idle": "2023-06-20T03:45:20.530043Z",
     "shell.execute_reply": "2023-06-20T03:45:20.528920Z"
    },
    "papermill": {
     "duration": 0.025657,
     "end_time": "2023-06-20T03:45:20.532305",
     "exception": false,
     "start_time": "2023-06-20T03:45:20.506648",
     "status": "completed"
    },
    "tags": []
   },
   "outputs": [],
   "source": [
    "X_train = train_data.drop([\"Survived\",\"PassengerId\"],axis = 1)\n",
    "y_train = train_data[\"Survived\"]\n",
    "X_test  = test_data.drop(\"PassengerId\",axis = 1)\n"
   ]
  },
  {
   "cell_type": "code",
   "execution_count": 24,
   "id": "30cc8051",
   "metadata": {
    "execution": {
     "iopub.execute_input": "2023-06-20T03:45:20.562591Z",
     "iopub.status.busy": "2023-06-20T03:45:20.562209Z",
     "iopub.status.idle": "2023-06-20T03:45:20.568405Z",
     "shell.execute_reply": "2023-06-20T03:45:20.567219Z"
    },
    "papermill": {
     "duration": 0.024076,
     "end_time": "2023-06-20T03:45:20.570781",
     "exception": false,
     "start_time": "2023-06-20T03:45:20.546705",
     "status": "completed"
    },
    "tags": []
   },
   "outputs": [],
   "source": [
    "trf = ColumnTransformer(transformers=[(\"age_imputation\",si,[\"Age\"]),\n",
    "                                      (\"Sex\",ohe,[\"Sex\",\"Embarked\"])],remainder=\"passthrough\")"
   ]
  },
  {
   "cell_type": "code",
   "execution_count": 25,
   "id": "3bd17b87",
   "metadata": {
    "execution": {
     "iopub.execute_input": "2023-06-20T03:45:20.601984Z",
     "iopub.status.busy": "2023-06-20T03:45:20.601453Z",
     "iopub.status.idle": "2023-06-20T03:45:20.606976Z",
     "shell.execute_reply": "2023-06-20T03:45:20.605674Z"
    },
    "papermill": {
     "duration": 0.024048,
     "end_time": "2023-06-20T03:45:20.609646",
     "exception": false,
     "start_time": "2023-06-20T03:45:20.585598",
     "status": "completed"
    },
    "tags": []
   },
   "outputs": [],
   "source": [
    "trf1 = RandomForestClassifier()"
   ]
  },
  {
   "cell_type": "code",
   "execution_count": 26,
   "id": "55b8c558",
   "metadata": {
    "execution": {
     "iopub.execute_input": "2023-06-20T03:45:20.641559Z",
     "iopub.status.busy": "2023-06-20T03:45:20.641145Z",
     "iopub.status.idle": "2023-06-20T03:45:20.646314Z",
     "shell.execute_reply": "2023-06-20T03:45:20.645271Z"
    },
    "papermill": {
     "duration": 0.02408,
     "end_time": "2023-06-20T03:45:20.648620",
     "exception": false,
     "start_time": "2023-06-20T03:45:20.624540",
     "status": "completed"
    },
    "tags": []
   },
   "outputs": [],
   "source": [
    "trf2 = SelectKBest(score_func=chi2, k=5)"
   ]
  },
  {
   "cell_type": "code",
   "execution_count": 27,
   "id": "ac146ecd",
   "metadata": {
    "execution": {
     "iopub.execute_input": "2023-06-20T03:45:20.679555Z",
     "iopub.status.busy": "2023-06-20T03:45:20.679180Z",
     "iopub.status.idle": "2023-06-20T03:45:20.684265Z",
     "shell.execute_reply": "2023-06-20T03:45:20.683065Z"
    },
    "papermill": {
     "duration": 0.023452,
     "end_time": "2023-06-20T03:45:20.686960",
     "exception": false,
     "start_time": "2023-06-20T03:45:20.663508",
     "status": "completed"
    },
    "tags": []
   },
   "outputs": [],
   "source": [
    "pipe = Pipeline(steps=[(\"trf\",trf),(\"trf2\",trf2)\n",
    "               ,(\"trf1\",trf1)])"
   ]
  },
  {
   "cell_type": "code",
   "execution_count": 28,
   "id": "abc9b115",
   "metadata": {
    "execution": {
     "iopub.execute_input": "2023-06-20T03:45:20.717123Z",
     "iopub.status.busy": "2023-06-20T03:45:20.716717Z",
     "iopub.status.idle": "2023-06-20T03:45:21.082354Z",
     "shell.execute_reply": "2023-06-20T03:45:21.080738Z"
    },
    "papermill": {
     "duration": 0.384273,
     "end_time": "2023-06-20T03:45:21.085677",
     "exception": false,
     "start_time": "2023-06-20T03:45:20.701404",
     "status": "completed"
    },
    "tags": []
   },
   "outputs": [
    {
     "data": {
      "text/html": [
       "<style>#sk-container-id-1 {color: black;background-color: white;}#sk-container-id-1 pre{padding: 0;}#sk-container-id-1 div.sk-toggleable {background-color: white;}#sk-container-id-1 label.sk-toggleable__label {cursor: pointer;display: block;width: 100%;margin-bottom: 0;padding: 0.3em;box-sizing: border-box;text-align: center;}#sk-container-id-1 label.sk-toggleable__label-arrow:before {content: \"▸\";float: left;margin-right: 0.25em;color: #696969;}#sk-container-id-1 label.sk-toggleable__label-arrow:hover:before {color: black;}#sk-container-id-1 div.sk-estimator:hover label.sk-toggleable__label-arrow:before {color: black;}#sk-container-id-1 div.sk-toggleable__content {max-height: 0;max-width: 0;overflow: hidden;text-align: left;background-color: #f0f8ff;}#sk-container-id-1 div.sk-toggleable__content pre {margin: 0.2em;color: black;border-radius: 0.25em;background-color: #f0f8ff;}#sk-container-id-1 input.sk-toggleable__control:checked~div.sk-toggleable__content {max-height: 200px;max-width: 100%;overflow: auto;}#sk-container-id-1 input.sk-toggleable__control:checked~label.sk-toggleable__label-arrow:before {content: \"▾\";}#sk-container-id-1 div.sk-estimator input.sk-toggleable__control:checked~label.sk-toggleable__label {background-color: #d4ebff;}#sk-container-id-1 div.sk-label input.sk-toggleable__control:checked~label.sk-toggleable__label {background-color: #d4ebff;}#sk-container-id-1 input.sk-hidden--visually {border: 0;clip: rect(1px 1px 1px 1px);clip: rect(1px, 1px, 1px, 1px);height: 1px;margin: -1px;overflow: hidden;padding: 0;position: absolute;width: 1px;}#sk-container-id-1 div.sk-estimator {font-family: monospace;background-color: #f0f8ff;border: 1px dotted black;border-radius: 0.25em;box-sizing: border-box;margin-bottom: 0.5em;}#sk-container-id-1 div.sk-estimator:hover {background-color: #d4ebff;}#sk-container-id-1 div.sk-parallel-item::after {content: \"\";width: 100%;border-bottom: 1px solid gray;flex-grow: 1;}#sk-container-id-1 div.sk-label:hover label.sk-toggleable__label {background-color: #d4ebff;}#sk-container-id-1 div.sk-serial::before {content: \"\";position: absolute;border-left: 1px solid gray;box-sizing: border-box;top: 0;bottom: 0;left: 50%;z-index: 0;}#sk-container-id-1 div.sk-serial {display: flex;flex-direction: column;align-items: center;background-color: white;padding-right: 0.2em;padding-left: 0.2em;position: relative;}#sk-container-id-1 div.sk-item {position: relative;z-index: 1;}#sk-container-id-1 div.sk-parallel {display: flex;align-items: stretch;justify-content: center;background-color: white;position: relative;}#sk-container-id-1 div.sk-item::before, #sk-container-id-1 div.sk-parallel-item::before {content: \"\";position: absolute;border-left: 1px solid gray;box-sizing: border-box;top: 0;bottom: 0;left: 50%;z-index: -1;}#sk-container-id-1 div.sk-parallel-item {display: flex;flex-direction: column;z-index: 1;position: relative;background-color: white;}#sk-container-id-1 div.sk-parallel-item:first-child::after {align-self: flex-end;width: 50%;}#sk-container-id-1 div.sk-parallel-item:last-child::after {align-self: flex-start;width: 50%;}#sk-container-id-1 div.sk-parallel-item:only-child::after {width: 0;}#sk-container-id-1 div.sk-dashed-wrapped {border: 1px dashed gray;margin: 0 0.4em 0.5em 0.4em;box-sizing: border-box;padding-bottom: 0.4em;background-color: white;}#sk-container-id-1 div.sk-label label {font-family: monospace;font-weight: bold;display: inline-block;line-height: 1.2em;}#sk-container-id-1 div.sk-label-container {text-align: center;}#sk-container-id-1 div.sk-container {/* jupyter's `normalize.less` sets `[hidden] { display: none; }` but bootstrap.min.css set `[hidden] { display: none !important; }` so we also need the `!important` here to be able to override the default hidden behavior on the sphinx rendered scikit-learn.org. See: https://github.com/scikit-learn/scikit-learn/issues/21755 */display: inline-block !important;position: relative;}#sk-container-id-1 div.sk-text-repr-fallback {display: none;}</style><div id=\"sk-container-id-1\" class=\"sk-top-container\"><div class=\"sk-text-repr-fallback\"><pre>Pipeline(steps=[(&#x27;trf&#x27;,\n",
       "                 ColumnTransformer(remainder=&#x27;passthrough&#x27;,\n",
       "                                   transformers=[(&#x27;age_imputation&#x27;,\n",
       "                                                  SimpleImputer(), [&#x27;Age&#x27;]),\n",
       "                                                 (&#x27;Sex&#x27;,\n",
       "                                                  OneHotEncoder(handle_unknown=&#x27;ignore&#x27;,\n",
       "                                                                sparse=False),\n",
       "                                                  [&#x27;Sex&#x27;, &#x27;Embarked&#x27;])])),\n",
       "                (&#x27;trf2&#x27;,\n",
       "                 SelectKBest(k=5,\n",
       "                             score_func=&lt;function chi2 at 0x7ef45bb21ab0&gt;)),\n",
       "                (&#x27;trf1&#x27;, RandomForestClassifier())])</pre><b>In a Jupyter environment, please rerun this cell to show the HTML representation or trust the notebook. <br />On GitHub, the HTML representation is unable to render, please try loading this page with nbviewer.org.</b></div><div class=\"sk-container\" hidden><div class=\"sk-item sk-dashed-wrapped\"><div class=\"sk-label-container\"><div class=\"sk-label sk-toggleable\"><input class=\"sk-toggleable__control sk-hidden--visually\" id=\"sk-estimator-id-1\" type=\"checkbox\" ><label for=\"sk-estimator-id-1\" class=\"sk-toggleable__label sk-toggleable__label-arrow\">Pipeline</label><div class=\"sk-toggleable__content\"><pre>Pipeline(steps=[(&#x27;trf&#x27;,\n",
       "                 ColumnTransformer(remainder=&#x27;passthrough&#x27;,\n",
       "                                   transformers=[(&#x27;age_imputation&#x27;,\n",
       "                                                  SimpleImputer(), [&#x27;Age&#x27;]),\n",
       "                                                 (&#x27;Sex&#x27;,\n",
       "                                                  OneHotEncoder(handle_unknown=&#x27;ignore&#x27;,\n",
       "                                                                sparse=False),\n",
       "                                                  [&#x27;Sex&#x27;, &#x27;Embarked&#x27;])])),\n",
       "                (&#x27;trf2&#x27;,\n",
       "                 SelectKBest(k=5,\n",
       "                             score_func=&lt;function chi2 at 0x7ef45bb21ab0&gt;)),\n",
       "                (&#x27;trf1&#x27;, RandomForestClassifier())])</pre></div></div></div><div class=\"sk-serial\"><div class=\"sk-item sk-dashed-wrapped\"><div class=\"sk-label-container\"><div class=\"sk-label sk-toggleable\"><input class=\"sk-toggleable__control sk-hidden--visually\" id=\"sk-estimator-id-2\" type=\"checkbox\" ><label for=\"sk-estimator-id-2\" class=\"sk-toggleable__label sk-toggleable__label-arrow\">trf: ColumnTransformer</label><div class=\"sk-toggleable__content\"><pre>ColumnTransformer(remainder=&#x27;passthrough&#x27;,\n",
       "                  transformers=[(&#x27;age_imputation&#x27;, SimpleImputer(), [&#x27;Age&#x27;]),\n",
       "                                (&#x27;Sex&#x27;,\n",
       "                                 OneHotEncoder(handle_unknown=&#x27;ignore&#x27;,\n",
       "                                               sparse=False),\n",
       "                                 [&#x27;Sex&#x27;, &#x27;Embarked&#x27;])])</pre></div></div></div><div class=\"sk-parallel\"><div class=\"sk-parallel-item\"><div class=\"sk-item\"><div class=\"sk-label-container\"><div class=\"sk-label sk-toggleable\"><input class=\"sk-toggleable__control sk-hidden--visually\" id=\"sk-estimator-id-3\" type=\"checkbox\" ><label for=\"sk-estimator-id-3\" class=\"sk-toggleable__label sk-toggleable__label-arrow\">age_imputation</label><div class=\"sk-toggleable__content\"><pre>[&#x27;Age&#x27;]</pre></div></div></div><div class=\"sk-serial\"><div class=\"sk-item\"><div class=\"sk-estimator sk-toggleable\"><input class=\"sk-toggleable__control sk-hidden--visually\" id=\"sk-estimator-id-4\" type=\"checkbox\" ><label for=\"sk-estimator-id-4\" class=\"sk-toggleable__label sk-toggleable__label-arrow\">SimpleImputer</label><div class=\"sk-toggleable__content\"><pre>SimpleImputer()</pre></div></div></div></div></div></div><div class=\"sk-parallel-item\"><div class=\"sk-item\"><div class=\"sk-label-container\"><div class=\"sk-label sk-toggleable\"><input class=\"sk-toggleable__control sk-hidden--visually\" id=\"sk-estimator-id-5\" type=\"checkbox\" ><label for=\"sk-estimator-id-5\" class=\"sk-toggleable__label sk-toggleable__label-arrow\">Sex</label><div class=\"sk-toggleable__content\"><pre>[&#x27;Sex&#x27;, &#x27;Embarked&#x27;]</pre></div></div></div><div class=\"sk-serial\"><div class=\"sk-item\"><div class=\"sk-estimator sk-toggleable\"><input class=\"sk-toggleable__control sk-hidden--visually\" id=\"sk-estimator-id-6\" type=\"checkbox\" ><label for=\"sk-estimator-id-6\" class=\"sk-toggleable__label sk-toggleable__label-arrow\">OneHotEncoder</label><div class=\"sk-toggleable__content\"><pre>OneHotEncoder(handle_unknown=&#x27;ignore&#x27;, sparse=False)</pre></div></div></div></div></div></div><div class=\"sk-parallel-item\"><div class=\"sk-item\"><div class=\"sk-label-container\"><div class=\"sk-label sk-toggleable\"><input class=\"sk-toggleable__control sk-hidden--visually\" id=\"sk-estimator-id-7\" type=\"checkbox\" ><label for=\"sk-estimator-id-7\" class=\"sk-toggleable__label sk-toggleable__label-arrow\">remainder</label><div class=\"sk-toggleable__content\"><pre>[&#x27;Pclass&#x27;, &#x27;family&#x27;]</pre></div></div></div><div class=\"sk-serial\"><div class=\"sk-item\"><div class=\"sk-estimator sk-toggleable\"><input class=\"sk-toggleable__control sk-hidden--visually\" id=\"sk-estimator-id-8\" type=\"checkbox\" ><label for=\"sk-estimator-id-8\" class=\"sk-toggleable__label sk-toggleable__label-arrow\">passthrough</label><div class=\"sk-toggleable__content\"><pre>passthrough</pre></div></div></div></div></div></div></div></div><div class=\"sk-item\"><div class=\"sk-estimator sk-toggleable\"><input class=\"sk-toggleable__control sk-hidden--visually\" id=\"sk-estimator-id-9\" type=\"checkbox\" ><label for=\"sk-estimator-id-9\" class=\"sk-toggleable__label sk-toggleable__label-arrow\">SelectKBest</label><div class=\"sk-toggleable__content\"><pre>SelectKBest(k=5, score_func=&lt;function chi2 at 0x7ef45bb21ab0&gt;)</pre></div></div></div><div class=\"sk-item\"><div class=\"sk-estimator sk-toggleable\"><input class=\"sk-toggleable__control sk-hidden--visually\" id=\"sk-estimator-id-10\" type=\"checkbox\" ><label for=\"sk-estimator-id-10\" class=\"sk-toggleable__label sk-toggleable__label-arrow\">RandomForestClassifier</label><div class=\"sk-toggleable__content\"><pre>RandomForestClassifier()</pre></div></div></div></div></div></div></div>"
      ],
      "text/plain": [
       "Pipeline(steps=[('trf',\n",
       "                 ColumnTransformer(remainder='passthrough',\n",
       "                                   transformers=[('age_imputation',\n",
       "                                                  SimpleImputer(), ['Age']),\n",
       "                                                 ('Sex',\n",
       "                                                  OneHotEncoder(handle_unknown='ignore',\n",
       "                                                                sparse=False),\n",
       "                                                  ['Sex', 'Embarked'])])),\n",
       "                ('trf2',\n",
       "                 SelectKBest(k=5,\n",
       "                             score_func=<function chi2 at 0x7ef45bb21ab0>)),\n",
       "                ('trf1', RandomForestClassifier())])"
      ]
     },
     "execution_count": 28,
     "metadata": {},
     "output_type": "execute_result"
    }
   ],
   "source": [
    "pipe.fit(X_train,y_train)"
   ]
  },
  {
   "cell_type": "code",
   "execution_count": 29,
   "id": "2e0c038f",
   "metadata": {
    "execution": {
     "iopub.execute_input": "2023-06-20T03:45:21.117602Z",
     "iopub.status.busy": "2023-06-20T03:45:21.117200Z",
     "iopub.status.idle": "2023-06-20T03:45:21.126491Z",
     "shell.execute_reply": "2023-06-20T03:45:21.125137Z"
    },
    "papermill": {
     "duration": 0.028421,
     "end_time": "2023-06-20T03:45:21.129157",
     "exception": false,
     "start_time": "2023-06-20T03:45:21.100736",
     "status": "completed"
    },
    "tags": []
   },
   "outputs": [
    {
     "data": {
      "text/plain": [
       "{'bootstrap': True,\n",
       " 'ccp_alpha': 0.0,\n",
       " 'class_weight': None,\n",
       " 'criterion': 'gini',\n",
       " 'max_depth': None,\n",
       " 'max_features': 'sqrt',\n",
       " 'max_leaf_nodes': None,\n",
       " 'max_samples': None,\n",
       " 'min_impurity_decrease': 0.0,\n",
       " 'min_samples_leaf': 1,\n",
       " 'min_samples_split': 2,\n",
       " 'min_weight_fraction_leaf': 0.0,\n",
       " 'n_estimators': 100,\n",
       " 'n_jobs': None,\n",
       " 'oob_score': False,\n",
       " 'random_state': None,\n",
       " 'verbose': 0,\n",
       " 'warm_start': False}"
      ]
     },
     "execution_count": 29,
     "metadata": {},
     "output_type": "execute_result"
    }
   ],
   "source": [
    "trf1.get_params()"
   ]
  },
  {
   "cell_type": "code",
   "execution_count": 30,
   "id": "130a81ec",
   "metadata": {
    "execution": {
     "iopub.execute_input": "2023-06-20T03:45:21.164523Z",
     "iopub.status.busy": "2023-06-20T03:45:21.163257Z",
     "iopub.status.idle": "2023-06-20T03:45:21.170724Z",
     "shell.execute_reply": "2023-06-20T03:45:21.169309Z"
    },
    "papermill": {
     "duration": 0.028916,
     "end_time": "2023-06-20T03:45:21.173348",
     "exception": false,
     "start_time": "2023-06-20T03:45:21.144432",
     "status": "completed"
    },
    "tags": []
   },
   "outputs": [],
   "source": [
    "params = {\"trf1__criterion\":[\"entropy\",\"gini\",\"log_loss\"],\"trf1__max_depth\":[1,2,3,4,5]\n",
    "         ,\"trf1__n_estimators\":[50,100,150,200,250]\n",
    "         \n",
    "         }"
   ]
  },
  {
   "cell_type": "code",
   "execution_count": 31,
   "id": "0cdba69f",
   "metadata": {
    "execution": {
     "iopub.execute_input": "2023-06-20T03:45:21.207380Z",
     "iopub.status.busy": "2023-06-20T03:45:21.206956Z",
     "iopub.status.idle": "2023-06-20T03:45:21.216324Z",
     "shell.execute_reply": "2023-06-20T03:45:21.214803Z"
    },
    "papermill": {
     "duration": 0.030345,
     "end_time": "2023-06-20T03:45:21.219097",
     "exception": false,
     "start_time": "2023-06-20T03:45:21.188752",
     "status": "completed"
    },
    "tags": []
   },
   "outputs": [
    {
     "data": {
      "text/plain": [
       "dict_keys(['memory', 'steps', 'verbose', 'trf', 'trf2', 'trf1', 'trf__n_jobs', 'trf__remainder', 'trf__sparse_threshold', 'trf__transformer_weights', 'trf__transformers', 'trf__verbose', 'trf__verbose_feature_names_out', 'trf__age_imputation', 'trf__Sex', 'trf__age_imputation__add_indicator', 'trf__age_imputation__copy', 'trf__age_imputation__fill_value', 'trf__age_imputation__keep_empty_features', 'trf__age_imputation__missing_values', 'trf__age_imputation__strategy', 'trf__age_imputation__verbose', 'trf__Sex__categories', 'trf__Sex__drop', 'trf__Sex__dtype', 'trf__Sex__handle_unknown', 'trf__Sex__max_categories', 'trf__Sex__min_frequency', 'trf__Sex__sparse', 'trf__Sex__sparse_output', 'trf2__k', 'trf2__score_func', 'trf1__bootstrap', 'trf1__ccp_alpha', 'trf1__class_weight', 'trf1__criterion', 'trf1__max_depth', 'trf1__max_features', 'trf1__max_leaf_nodes', 'trf1__max_samples', 'trf1__min_impurity_decrease', 'trf1__min_samples_leaf', 'trf1__min_samples_split', 'trf1__min_weight_fraction_leaf', 'trf1__n_estimators', 'trf1__n_jobs', 'trf1__oob_score', 'trf1__random_state', 'trf1__verbose', 'trf1__warm_start'])"
      ]
     },
     "execution_count": 31,
     "metadata": {},
     "output_type": "execute_result"
    }
   ],
   "source": [
    "pipe.get_params().keys()"
   ]
  },
  {
   "cell_type": "code",
   "execution_count": 32,
   "id": "f600c8b4",
   "metadata": {
    "execution": {
     "iopub.execute_input": "2023-06-20T03:45:21.252117Z",
     "iopub.status.busy": "2023-06-20T03:45:21.251381Z",
     "iopub.status.idle": "2023-06-20T03:45:21.256714Z",
     "shell.execute_reply": "2023-06-20T03:45:21.255661Z"
    },
    "papermill": {
     "duration": 0.025028,
     "end_time": "2023-06-20T03:45:21.259511",
     "exception": false,
     "start_time": "2023-06-20T03:45:21.234483",
     "status": "completed"
    },
    "tags": []
   },
   "outputs": [],
   "source": [
    "from sklearn.model_selection import GridSearchCV"
   ]
  },
  {
   "cell_type": "code",
   "execution_count": 33,
   "id": "560a29d5",
   "metadata": {
    "execution": {
     "iopub.execute_input": "2023-06-20T03:45:21.293921Z",
     "iopub.status.busy": "2023-06-20T03:45:21.292454Z",
     "iopub.status.idle": "2023-06-20T03:45:21.298694Z",
     "shell.execute_reply": "2023-06-20T03:45:21.297541Z"
    },
    "papermill": {
     "duration": 0.026109,
     "end_time": "2023-06-20T03:45:21.301353",
     "exception": false,
     "start_time": "2023-06-20T03:45:21.275244",
     "status": "completed"
    },
    "tags": []
   },
   "outputs": [],
   "source": [
    "grid = GridSearchCV(pipe,params,cv =  5,scoring = \"accuracy\")"
   ]
  },
  {
   "cell_type": "code",
   "execution_count": 34,
   "id": "fa5f8e7f",
   "metadata": {
    "execution": {
     "iopub.execute_input": "2023-06-20T03:45:21.335468Z",
     "iopub.status.busy": "2023-06-20T03:45:21.335022Z",
     "iopub.status.idle": "2023-06-20T03:47:52.279888Z",
     "shell.execute_reply": "2023-06-20T03:47:52.278374Z"
    },
    "papermill": {
     "duration": 150.978464,
     "end_time": "2023-06-20T03:47:52.295448",
     "exception": false,
     "start_time": "2023-06-20T03:45:21.316984",
     "status": "completed"
    },
    "tags": []
   },
   "outputs": [
    {
     "data": {
      "text/html": [
       "<style>#sk-container-id-2 {color: black;background-color: white;}#sk-container-id-2 pre{padding: 0;}#sk-container-id-2 div.sk-toggleable {background-color: white;}#sk-container-id-2 label.sk-toggleable__label {cursor: pointer;display: block;width: 100%;margin-bottom: 0;padding: 0.3em;box-sizing: border-box;text-align: center;}#sk-container-id-2 label.sk-toggleable__label-arrow:before {content: \"▸\";float: left;margin-right: 0.25em;color: #696969;}#sk-container-id-2 label.sk-toggleable__label-arrow:hover:before {color: black;}#sk-container-id-2 div.sk-estimator:hover label.sk-toggleable__label-arrow:before {color: black;}#sk-container-id-2 div.sk-toggleable__content {max-height: 0;max-width: 0;overflow: hidden;text-align: left;background-color: #f0f8ff;}#sk-container-id-2 div.sk-toggleable__content pre {margin: 0.2em;color: black;border-radius: 0.25em;background-color: #f0f8ff;}#sk-container-id-2 input.sk-toggleable__control:checked~div.sk-toggleable__content {max-height: 200px;max-width: 100%;overflow: auto;}#sk-container-id-2 input.sk-toggleable__control:checked~label.sk-toggleable__label-arrow:before {content: \"▾\";}#sk-container-id-2 div.sk-estimator input.sk-toggleable__control:checked~label.sk-toggleable__label {background-color: #d4ebff;}#sk-container-id-2 div.sk-label input.sk-toggleable__control:checked~label.sk-toggleable__label {background-color: #d4ebff;}#sk-container-id-2 input.sk-hidden--visually {border: 0;clip: rect(1px 1px 1px 1px);clip: rect(1px, 1px, 1px, 1px);height: 1px;margin: -1px;overflow: hidden;padding: 0;position: absolute;width: 1px;}#sk-container-id-2 div.sk-estimator {font-family: monospace;background-color: #f0f8ff;border: 1px dotted black;border-radius: 0.25em;box-sizing: border-box;margin-bottom: 0.5em;}#sk-container-id-2 div.sk-estimator:hover {background-color: #d4ebff;}#sk-container-id-2 div.sk-parallel-item::after {content: \"\";width: 100%;border-bottom: 1px solid gray;flex-grow: 1;}#sk-container-id-2 div.sk-label:hover label.sk-toggleable__label {background-color: #d4ebff;}#sk-container-id-2 div.sk-serial::before {content: \"\";position: absolute;border-left: 1px solid gray;box-sizing: border-box;top: 0;bottom: 0;left: 50%;z-index: 0;}#sk-container-id-2 div.sk-serial {display: flex;flex-direction: column;align-items: center;background-color: white;padding-right: 0.2em;padding-left: 0.2em;position: relative;}#sk-container-id-2 div.sk-item {position: relative;z-index: 1;}#sk-container-id-2 div.sk-parallel {display: flex;align-items: stretch;justify-content: center;background-color: white;position: relative;}#sk-container-id-2 div.sk-item::before, #sk-container-id-2 div.sk-parallel-item::before {content: \"\";position: absolute;border-left: 1px solid gray;box-sizing: border-box;top: 0;bottom: 0;left: 50%;z-index: -1;}#sk-container-id-2 div.sk-parallel-item {display: flex;flex-direction: column;z-index: 1;position: relative;background-color: white;}#sk-container-id-2 div.sk-parallel-item:first-child::after {align-self: flex-end;width: 50%;}#sk-container-id-2 div.sk-parallel-item:last-child::after {align-self: flex-start;width: 50%;}#sk-container-id-2 div.sk-parallel-item:only-child::after {width: 0;}#sk-container-id-2 div.sk-dashed-wrapped {border: 1px dashed gray;margin: 0 0.4em 0.5em 0.4em;box-sizing: border-box;padding-bottom: 0.4em;background-color: white;}#sk-container-id-2 div.sk-label label {font-family: monospace;font-weight: bold;display: inline-block;line-height: 1.2em;}#sk-container-id-2 div.sk-label-container {text-align: center;}#sk-container-id-2 div.sk-container {/* jupyter's `normalize.less` sets `[hidden] { display: none; }` but bootstrap.min.css set `[hidden] { display: none !important; }` so we also need the `!important` here to be able to override the default hidden behavior on the sphinx rendered scikit-learn.org. See: https://github.com/scikit-learn/scikit-learn/issues/21755 */display: inline-block !important;position: relative;}#sk-container-id-2 div.sk-text-repr-fallback {display: none;}</style><div id=\"sk-container-id-2\" class=\"sk-top-container\"><div class=\"sk-text-repr-fallback\"><pre>GridSearchCV(cv=5,\n",
       "             estimator=Pipeline(steps=[(&#x27;trf&#x27;,\n",
       "                                        ColumnTransformer(remainder=&#x27;passthrough&#x27;,\n",
       "                                                          transformers=[(&#x27;age_imputation&#x27;,\n",
       "                                                                         SimpleImputer(),\n",
       "                                                                         [&#x27;Age&#x27;]),\n",
       "                                                                        (&#x27;Sex&#x27;,\n",
       "                                                                         OneHotEncoder(handle_unknown=&#x27;ignore&#x27;,\n",
       "                                                                                       sparse=False),\n",
       "                                                                         [&#x27;Sex&#x27;,\n",
       "                                                                          &#x27;Embarked&#x27;])])),\n",
       "                                       (&#x27;trf2&#x27;,\n",
       "                                        SelectKBest(k=5,\n",
       "                                                    score_func=&lt;function chi2 at 0x7ef45bb21ab0&gt;)),\n",
       "                                       (&#x27;trf1&#x27;, RandomForestClassifier())]),\n",
       "             param_grid={&#x27;trf1__criterion&#x27;: [&#x27;entropy&#x27;, &#x27;gini&#x27;, &#x27;log_loss&#x27;],\n",
       "                         &#x27;trf1__max_depth&#x27;: [1, 2, 3, 4, 5],\n",
       "                         &#x27;trf1__n_estimators&#x27;: [50, 100, 150, 200, 250]},\n",
       "             scoring=&#x27;accuracy&#x27;)</pre><b>In a Jupyter environment, please rerun this cell to show the HTML representation or trust the notebook. <br />On GitHub, the HTML representation is unable to render, please try loading this page with nbviewer.org.</b></div><div class=\"sk-container\" hidden><div class=\"sk-item sk-dashed-wrapped\"><div class=\"sk-label-container\"><div class=\"sk-label sk-toggleable\"><input class=\"sk-toggleable__control sk-hidden--visually\" id=\"sk-estimator-id-11\" type=\"checkbox\" ><label for=\"sk-estimator-id-11\" class=\"sk-toggleable__label sk-toggleable__label-arrow\">GridSearchCV</label><div class=\"sk-toggleable__content\"><pre>GridSearchCV(cv=5,\n",
       "             estimator=Pipeline(steps=[(&#x27;trf&#x27;,\n",
       "                                        ColumnTransformer(remainder=&#x27;passthrough&#x27;,\n",
       "                                                          transformers=[(&#x27;age_imputation&#x27;,\n",
       "                                                                         SimpleImputer(),\n",
       "                                                                         [&#x27;Age&#x27;]),\n",
       "                                                                        (&#x27;Sex&#x27;,\n",
       "                                                                         OneHotEncoder(handle_unknown=&#x27;ignore&#x27;,\n",
       "                                                                                       sparse=False),\n",
       "                                                                         [&#x27;Sex&#x27;,\n",
       "                                                                          &#x27;Embarked&#x27;])])),\n",
       "                                       (&#x27;trf2&#x27;,\n",
       "                                        SelectKBest(k=5,\n",
       "                                                    score_func=&lt;function chi2 at 0x7ef45bb21ab0&gt;)),\n",
       "                                       (&#x27;trf1&#x27;, RandomForestClassifier())]),\n",
       "             param_grid={&#x27;trf1__criterion&#x27;: [&#x27;entropy&#x27;, &#x27;gini&#x27;, &#x27;log_loss&#x27;],\n",
       "                         &#x27;trf1__max_depth&#x27;: [1, 2, 3, 4, 5],\n",
       "                         &#x27;trf1__n_estimators&#x27;: [50, 100, 150, 200, 250]},\n",
       "             scoring=&#x27;accuracy&#x27;)</pre></div></div></div><div class=\"sk-parallel\"><div class=\"sk-parallel-item\"><div class=\"sk-item\"><div class=\"sk-label-container\"><div class=\"sk-label sk-toggleable\"><input class=\"sk-toggleable__control sk-hidden--visually\" id=\"sk-estimator-id-12\" type=\"checkbox\" ><label for=\"sk-estimator-id-12\" class=\"sk-toggleable__label sk-toggleable__label-arrow\">estimator: Pipeline</label><div class=\"sk-toggleable__content\"><pre>Pipeline(steps=[(&#x27;trf&#x27;,\n",
       "                 ColumnTransformer(remainder=&#x27;passthrough&#x27;,\n",
       "                                   transformers=[(&#x27;age_imputation&#x27;,\n",
       "                                                  SimpleImputer(), [&#x27;Age&#x27;]),\n",
       "                                                 (&#x27;Sex&#x27;,\n",
       "                                                  OneHotEncoder(handle_unknown=&#x27;ignore&#x27;,\n",
       "                                                                sparse=False),\n",
       "                                                  [&#x27;Sex&#x27;, &#x27;Embarked&#x27;])])),\n",
       "                (&#x27;trf2&#x27;,\n",
       "                 SelectKBest(k=5,\n",
       "                             score_func=&lt;function chi2 at 0x7ef45bb21ab0&gt;)),\n",
       "                (&#x27;trf1&#x27;, RandomForestClassifier())])</pre></div></div></div><div class=\"sk-serial\"><div class=\"sk-item\"><div class=\"sk-serial\"><div class=\"sk-item sk-dashed-wrapped\"><div class=\"sk-label-container\"><div class=\"sk-label sk-toggleable\"><input class=\"sk-toggleable__control sk-hidden--visually\" id=\"sk-estimator-id-13\" type=\"checkbox\" ><label for=\"sk-estimator-id-13\" class=\"sk-toggleable__label sk-toggleable__label-arrow\">trf: ColumnTransformer</label><div class=\"sk-toggleable__content\"><pre>ColumnTransformer(remainder=&#x27;passthrough&#x27;,\n",
       "                  transformers=[(&#x27;age_imputation&#x27;, SimpleImputer(), [&#x27;Age&#x27;]),\n",
       "                                (&#x27;Sex&#x27;,\n",
       "                                 OneHotEncoder(handle_unknown=&#x27;ignore&#x27;,\n",
       "                                               sparse=False),\n",
       "                                 [&#x27;Sex&#x27;, &#x27;Embarked&#x27;])])</pre></div></div></div><div class=\"sk-parallel\"><div class=\"sk-parallel-item\"><div class=\"sk-item\"><div class=\"sk-label-container\"><div class=\"sk-label sk-toggleable\"><input class=\"sk-toggleable__control sk-hidden--visually\" id=\"sk-estimator-id-14\" type=\"checkbox\" ><label for=\"sk-estimator-id-14\" class=\"sk-toggleable__label sk-toggleable__label-arrow\">age_imputation</label><div class=\"sk-toggleable__content\"><pre>[&#x27;Age&#x27;]</pre></div></div></div><div class=\"sk-serial\"><div class=\"sk-item\"><div class=\"sk-estimator sk-toggleable\"><input class=\"sk-toggleable__control sk-hidden--visually\" id=\"sk-estimator-id-15\" type=\"checkbox\" ><label for=\"sk-estimator-id-15\" class=\"sk-toggleable__label sk-toggleable__label-arrow\">SimpleImputer</label><div class=\"sk-toggleable__content\"><pre>SimpleImputer()</pre></div></div></div></div></div></div><div class=\"sk-parallel-item\"><div class=\"sk-item\"><div class=\"sk-label-container\"><div class=\"sk-label sk-toggleable\"><input class=\"sk-toggleable__control sk-hidden--visually\" id=\"sk-estimator-id-16\" type=\"checkbox\" ><label for=\"sk-estimator-id-16\" class=\"sk-toggleable__label sk-toggleable__label-arrow\">Sex</label><div class=\"sk-toggleable__content\"><pre>[&#x27;Sex&#x27;, &#x27;Embarked&#x27;]</pre></div></div></div><div class=\"sk-serial\"><div class=\"sk-item\"><div class=\"sk-estimator sk-toggleable\"><input class=\"sk-toggleable__control sk-hidden--visually\" id=\"sk-estimator-id-17\" type=\"checkbox\" ><label for=\"sk-estimator-id-17\" class=\"sk-toggleable__label sk-toggleable__label-arrow\">OneHotEncoder</label><div class=\"sk-toggleable__content\"><pre>OneHotEncoder(handle_unknown=&#x27;ignore&#x27;, sparse=False)</pre></div></div></div></div></div></div><div class=\"sk-parallel-item\"><div class=\"sk-item\"><div class=\"sk-label-container\"><div class=\"sk-label sk-toggleable\"><input class=\"sk-toggleable__control sk-hidden--visually\" id=\"sk-estimator-id-18\" type=\"checkbox\" ><label for=\"sk-estimator-id-18\" class=\"sk-toggleable__label sk-toggleable__label-arrow\">remainder</label><div class=\"sk-toggleable__content\"><pre>[&#x27;Pclass&#x27;, &#x27;family&#x27;]</pre></div></div></div><div class=\"sk-serial\"><div class=\"sk-item\"><div class=\"sk-estimator sk-toggleable\"><input class=\"sk-toggleable__control sk-hidden--visually\" id=\"sk-estimator-id-19\" type=\"checkbox\" ><label for=\"sk-estimator-id-19\" class=\"sk-toggleable__label sk-toggleable__label-arrow\">passthrough</label><div class=\"sk-toggleable__content\"><pre>passthrough</pre></div></div></div></div></div></div></div></div><div class=\"sk-item\"><div class=\"sk-estimator sk-toggleable\"><input class=\"sk-toggleable__control sk-hidden--visually\" id=\"sk-estimator-id-20\" type=\"checkbox\" ><label for=\"sk-estimator-id-20\" class=\"sk-toggleable__label sk-toggleable__label-arrow\">SelectKBest</label><div class=\"sk-toggleable__content\"><pre>SelectKBest(k=5, score_func=&lt;function chi2 at 0x7ef45bb21ab0&gt;)</pre></div></div></div><div class=\"sk-item\"><div class=\"sk-estimator sk-toggleable\"><input class=\"sk-toggleable__control sk-hidden--visually\" id=\"sk-estimator-id-21\" type=\"checkbox\" ><label for=\"sk-estimator-id-21\" class=\"sk-toggleable__label sk-toggleable__label-arrow\">RandomForestClassifier</label><div class=\"sk-toggleable__content\"><pre>RandomForestClassifier()</pre></div></div></div></div></div></div></div></div></div></div></div></div>"
      ],
      "text/plain": [
       "GridSearchCV(cv=5,\n",
       "             estimator=Pipeline(steps=[('trf',\n",
       "                                        ColumnTransformer(remainder='passthrough',\n",
       "                                                          transformers=[('age_imputation',\n",
       "                                                                         SimpleImputer(),\n",
       "                                                                         ['Age']),\n",
       "                                                                        ('Sex',\n",
       "                                                                         OneHotEncoder(handle_unknown='ignore',\n",
       "                                                                                       sparse=False),\n",
       "                                                                         ['Sex',\n",
       "                                                                          'Embarked'])])),\n",
       "                                       ('trf2',\n",
       "                                        SelectKBest(k=5,\n",
       "                                                    score_func=<function chi2 at 0x7ef45bb21ab0>)),\n",
       "                                       ('trf1', RandomForestClassifier())]),\n",
       "             param_grid={'trf1__criterion': ['entropy', 'gini', 'log_loss'],\n",
       "                         'trf1__max_depth': [1, 2, 3, 4, 5],\n",
       "                         'trf1__n_estimators': [50, 100, 150, 200, 250]},\n",
       "             scoring='accuracy')"
      ]
     },
     "execution_count": 34,
     "metadata": {},
     "output_type": "execute_result"
    }
   ],
   "source": [
    "grid.fit(X_train,y_train)"
   ]
  },
  {
   "cell_type": "code",
   "execution_count": 35,
   "id": "b95f08c8",
   "metadata": {
    "execution": {
     "iopub.execute_input": "2023-06-20T03:47:52.330031Z",
     "iopub.status.busy": "2023-06-20T03:47:52.329654Z",
     "iopub.status.idle": "2023-06-20T03:47:52.352861Z",
     "shell.execute_reply": "2023-06-20T03:47:52.351756Z"
    },
    "papermill": {
     "duration": 0.043814,
     "end_time": "2023-06-20T03:47:52.355628",
     "exception": false,
     "start_time": "2023-06-20T03:47:52.311814",
     "status": "completed"
    },
    "tags": []
   },
   "outputs": [],
   "source": [
    "prediction = grid.predict(X_test)"
   ]
  },
  {
   "cell_type": "code",
   "execution_count": null,
   "id": "fb671cd1",
   "metadata": {
    "papermill": {
     "duration": 0.014907,
     "end_time": "2023-06-20T03:47:52.385934",
     "exception": false,
     "start_time": "2023-06-20T03:47:52.371027",
     "status": "completed"
    },
    "tags": []
   },
   "outputs": [],
   "source": []
  },
  {
   "cell_type": "code",
   "execution_count": 36,
   "id": "7e872641",
   "metadata": {
    "execution": {
     "iopub.execute_input": "2023-06-20T03:47:52.419169Z",
     "iopub.status.busy": "2023-06-20T03:47:52.418661Z",
     "iopub.status.idle": "2023-06-20T03:47:52.433135Z",
     "shell.execute_reply": "2023-06-20T03:47:52.431872Z"
    },
    "papermill": {
     "duration": 0.034016,
     "end_time": "2023-06-20T03:47:52.435740",
     "exception": false,
     "start_time": "2023-06-20T03:47:52.401724",
     "status": "completed"
    },
    "tags": []
   },
   "outputs": [
    {
     "name": "stdout",
     "output_type": "stream",
     "text": [
      "Your submission was successfully saved!\n"
     ]
    }
   ],
   "source": [
    "output = pd.DataFrame({'PassengerId': test_data.PassengerId, 'Survived': prediction})\n",
    "output.to_csv('submission.csv', index=False)\n",
    "print(\"Your submission was successfully saved!\")"
   ]
  },
  {
   "cell_type": "code",
   "execution_count": null,
   "id": "1f63ed56",
   "metadata": {
    "papermill": {
     "duration": 0.015618,
     "end_time": "2023-06-20T03:47:52.467411",
     "exception": false,
     "start_time": "2023-06-20T03:47:52.451793",
     "status": "completed"
    },
    "tags": []
   },
   "outputs": [],
   "source": []
  }
 ],
 "metadata": {
  "kernelspec": {
   "display_name": "Python 3",
   "language": "python",
   "name": "python3"
  },
  "language_info": {
   "codemirror_mode": {
    "name": "ipython",
    "version": 3
   },
   "file_extension": ".py",
   "mimetype": "text/x-python",
   "name": "python",
   "nbconvert_exporter": "python",
   "pygments_lexer": "ipython3",
   "version": "3.10.10"
  },
  "papermill": {
   "default_parameters": {},
   "duration": 170.036541,
   "end_time": "2023-06-20T03:47:53.607903",
   "environment_variables": {},
   "exception": null,
   "input_path": "__notebook__.ipynb",
   "output_path": "__notebook__.ipynb",
   "parameters": {},
   "start_time": "2023-06-20T03:45:03.571362",
   "version": "2.4.0"
  }
 },
 "nbformat": 4,
 "nbformat_minor": 5
}
